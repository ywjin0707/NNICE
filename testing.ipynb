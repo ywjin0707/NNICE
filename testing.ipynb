{
 "cells": [
  {
   "cell_type": "code",
   "execution_count": 1,
   "metadata": {},
   "outputs": [],
   "source": [
    "import tensorflow as tf\n",
    "import numpy as np\n",
    "import pandas as pd\n",
    "import scanpy as sc\n",
    "import anndata as ad\n",
    "import seaborn as sns\n",
    "import matplotlib.pyplot as plt\n",
    "from tqdm import tqdm\n",
    "\n",
    "import tensorflow_probability as tfp\n",
    "from tensorflow.keras import backend as K\n",
    "import pdb"
   ]
  },
  {
   "cell_type": "code",
   "execution_count": 2,
   "metadata": {},
   "outputs": [],
   "source": [
    "data_directories = [\"../DATA/b_cells_filtered_gene_bc_matrices/filtered_matrices_mex/hg19/\",\n",
    "                    \"../DATA/cd4_t_helper_filtered_gene_bc_matrices/filtered_matrices_mex/hg19/\",\n",
    "                    \"../DATA/cd14_monocytes_filtered_gene_bc_matrices/filtered_matrices_mex/hg19/\",\n",
    "                    \"../DATA/cd34_filtered_gene_bc_matrices/filtered_matrices_mex/hg19/\",\n",
    "                    \"../DATA/cd56_nk_filtered_gene_bc_matrices/filtered_matrices_mex/hg19/\",\n",
    "                    \"../DATA/cytotoxic_t_filtered_gene_bc_matrices/filtered_matrices_mex/hg19/\",\n",
    "                    \"../DATA/memory_t_filtered_gene_bc_matrices/filtered_matrices_mex/hg19/\",\n",
    "                    \"../DATA/naive_cytotoxic_filtered_gene_bc_matrices/filtered_matrices_mex/hg19/\",\n",
    "                    \"../DATA/naive_t_filtered_gene_bc_matrices/filtered_matrices_mex/hg19/\",\n",
    "                    \"../DATA/regulatory_t_filtered_gene_bc_matrices/filtered_matrices_mex/hg19/\"]\n",
    "cell_types = ['B_cell','CD4_helper','CD14','CD34','CD56_NK','CD8_cytotoxic','CD4_CD45RO_memory','CD8_CD45RA_naive','CD4_CD45RA_naive','CD4_CD25_regulatory']\n",
    "bkdata_path = '../DATA/TCGA/TCGA_GDC_HTSeq_TPM.csv'\n",
    "# gene_list_path = '../DATA/Immune Gene Lists/genes.csv'\n",
    "data_paths = ['../DATA/TCGA/TCGA_GDC_HTSeq_TPM.csv',\n",
    "              '../DATA/METABRIC/METABRIC.csv',\n",
    "              '../DATA/SDY67/SDY67_477.csv',\n",
    "              '../DATA/Gene Lists/immport_genelist.csv',\n",
    "              '../DATA/Gene Lists/scdata_genelist_filtered.csv']"
   ]
  },
  {
   "cell_type": "code",
   "execution_count": 3,
   "metadata": {},
   "outputs": [],
   "source": [
    "def FeatureList(paths: list) -> list:\n",
    "    features = None\n",
    "    for path in paths:\n",
    "        mydata = pd.read_csv(path, index_col = 0)\n",
    "        if features == None:\n",
    "            features = set(mydata.index.values.tolist())\n",
    "        else:\n",
    "            features = features.intersection(set(mydata.index.values.tolist()))\n",
    "    features = list(features)\n",
    "    features.sort()\n",
    "    return features"
   ]
  },
  {
   "cell_type": "code",
   "execution_count": 4,
   "metadata": {},
   "outputs": [],
   "source": [
    "features = FeatureList(data_paths)"
   ]
  },
  {
   "cell_type": "code",
   "execution_count": 5,
   "metadata": {},
   "outputs": [],
   "source": [
    "class DataPreprocess():\n",
    "    def __init__(self, datadir, celltypes, bkdata_path, features):\n",
    "        '''\n",
    "        Creates preprocessed instance of input data\n",
    "        scdata should be in matrix.mtx within specified folders along with barcodes.tsv and genes.tsv\n",
    "        bkdata should have sample names as columns and gene names as rows\n",
    "        gene_list should have no row or column names/index\n",
    "        '''\n",
    "        self.datadir = datadir\n",
    "        self.celltypes = celltypes\n",
    "        self.scdata = self.load_scdata(self.datadir, self.celltypes)\n",
    "        self.bkdata = pd.read_csv(bkdata_path, index_col=0)\n",
    "        # If there is input gene list, filter out genes not in bkdata or scdata\n",
    "        if features is None:\n",
    "            self.features = self.bkdata.index.drop_duplicates()\n",
    "        else:\n",
    "            self.features = features\n",
    "        # Filter out genes not in gene list\n",
    "        self.scdata = self.scdata[:,self.scdata.var_names.isin(self.features)]\n",
    "        sc.pp.normalize_total(self.scdata, target_sum=1e6) # normalize to sum to 1,000,000\n",
    "        # sc.pp.regress_out(scdata, ['total_counts'], n_jobs=1)\n",
    "        # Transpose, filter out genes not in gene list, then sort column (by gene name)\n",
    "        self.bkdata = self.bkdata.T\n",
    "        self.bkdata = self.bkdata.loc[:,self.bkdata.columns.isin(self.features)].sort_index(axis=1)\n",
    "        self.bkdata = self.bkdata.values.astype(float)\n",
    "    def load_scdata(self, data_directories, cell_types):\n",
    "        # Read and merge 10X Genomics scRNA-seq data\n",
    "        scdata = None\n",
    "        print('Loading single cell dataset')\n",
    "        for d, c in zip(tqdm(data_directories), cell_types):\n",
    "            x = sc.read_10x_mtx(d)\n",
    "            x.obs['celltype'] = [c]*len(x.obs.index)\n",
    "            # Change each observation (cell) name to celltype + barcode\n",
    "            x.obs.set_index(pd.Index([c+'_'+rn[:-2] for rn in x.obs.index]), inplace=True)\n",
    "            if scdata is not None:\n",
    "                scdata = ad.concat([scdata, x])\n",
    "            else:\n",
    "                scdata = x\n",
    "        # Filter out cells and genes\n",
    "        sc.pp.filter_cells(scdata, min_genes=200)\n",
    "        sc.pp.filter_genes(scdata, min_cells=1)\n",
    "        # Search for prefix \"MT-\" (mitochondrial genes) and make new column in variable annotations\n",
    "        # Search for prefix \"RPL/RPS\" for ribosomal genes and \"MRPL/MRPS\" for mitochondrial ribosomal genes\n",
    "        scdata.var['mito'] = scdata.var.index.str.match('^MT-')\n",
    "        scdata.var['ribo'] = scdata.var.index.str.startswith(('RPL','RPS'))\n",
    "        scdata.var['mribo'] = scdata.var.index.str.startswith(('MRPL','MRPS'))\n",
    "        # Calculate QC metrics as per McCarthy et al., 2017 (Scater)\n",
    "        sc.pp.calculate_qc_metrics(scdata, qc_vars=['mito','ribo', 'mribo'], inplace=True)\n",
    "        # Plot QC metrics\n",
    "        # sns.jointplot(x='total_counts', y='n_genes_by_counts', height=8, data=scdata.obs,\n",
    "        #     kind='scatter', hue='celltype')\n",
    "        # sns.jointplot(x='total_counts', y='pct_counts_mito', height=8, data=scdata.obs,\n",
    "        #     kind='scatter', hue='celltype')\n",
    "        # sns.jointplot(x='total_counts', y='pct_counts_ribo', height=8, data=scdata.obs,\n",
    "        #     kind='scatter', hue='celltype')\n",
    "        # sns.jointplot(x='total_counts', y='pct_counts_mribo', height=8, data=scdata.obs,\n",
    "        #     kind='scatter', hue='celltype')\n",
    "        # plt.show()\n",
    "        # Filter out cells with >5% of counts from mitochondria and mitoribosome\n",
    "        # scdata = scdata[scdata.obs.pct_counts_ribo > 30, :]\n",
    "        scdata = scdata[scdata.obs.pct_counts_mito < 5, :]\n",
    "        scdata = scdata[scdata.obs.pct_counts_mribo < 1, :]\n",
    "        return scdata\n",
    "    def __call__(self, whichdata, batch_size=1):\n",
    "        if whichdata == 'scdata':\n",
    "            out = []\n",
    "            print('Dividing single cell dataset into cell types')\n",
    "            for c in tqdm(self.celltypes):\n",
    "                scdata_ = self.scdata[self.scdata.obs.celltype==c].to_df().sort_index(axis=1)\n",
    "                # Add to row index 0 a cell with no gene expression (all zeros)\n",
    "                # zeros = pd.DataFrame(np.zeros((1,scdata_.shape[1])), columns=scdata_.columns.values)\n",
    "                # Expand into batch dimension and repeat 2-D tensor by # of samples per mini batch\n",
    "                # scdata_ = tf.tile(tf.expand_dims(pd.concat([zeros,scdata_]), axis=0), [batch_size,1,1])\n",
    "                out.append(scdata_)\n",
    "        elif whichdata == 'bkdata':\n",
    "            out = self.bkdata\n",
    "        elif whichdata == 'genelist':\n",
    "            out = self.features\n",
    "        else:\n",
    "            raise ValueError('Choose only one of the following: \"scdata\", \"bkdata\", or \"genelist\"')\n",
    "        return out"
   ]
  },
  {
   "cell_type": "code",
   "execution_count": 6,
   "metadata": {},
   "outputs": [
    {
     "name": "stdout",
     "output_type": "stream",
     "text": [
      "Loading single cell dataset\n"
     ]
    },
    {
     "name": "stderr",
     "output_type": "stream",
     "text": [
      "100%|██████████| 10/10 [01:59<00:00, 11.68s/it]\n",
      "c:\\users\\yw_ji\\documents\\msc thesis\\code\\keras\\scanpy\\scanpy\\preprocessing\\_normalization.py:138: UserWarning: Revieved a view of an AnnData. Making a copy.\n",
      "  view_to_actual(adata)\n"
     ]
    }
   ],
   "source": [
    "myData = DataPreprocess(data_directories, cell_types, bkdata_path, features)"
   ]
  },
  {
   "cell_type": "code",
   "execution_count": 9,
   "metadata": {},
   "outputs": [],
   "source": [
    "class Subsampling(tf.keras.layers.Layer):\n",
    "\n",
    "    def __init__(self, scdata):\n",
    "        super(Subsampling, self).__init__()\n",
    "        # initialize one layer for each cell type\n",
    "        self.scdata=scdata\n",
    "\n",
    "    def call(self, inpt):\n",
    "        subset = tf.slice(tf.random.shuffle(self.scdata), begin=[0], size= inpt)\n",
    "        subset = tf.reduce_sum(subset, axis=0)\n",
    "        return subset"
   ]
  },
  {
   "cell_type": "code",
   "execution_count": 11,
   "metadata": {},
   "outputs": [],
   "source": [
    "def MinMaxNorm(x):\n",
    "    x_scaled = tf.math.divide_no_nan(\n",
    "        (x - tf.math.reduce_min(x)),\n",
    "        (tf.math.reduce_max(x) - tf.math.reduce_min(x)))\n",
    "    return x_scaled"
   ]
  },
  {
   "cell_type": "code",
   "execution_count": 16,
   "metadata": {},
   "outputs": [
    {
     "name": "stdout",
     "output_type": "stream",
     "text": [
      "Dividing single cell dataset into cell types\n"
     ]
    },
    {
     "name": "stderr",
     "output_type": "stream",
     "text": [
      "100%|██████████| 10/10 [00:01<00:00,  8.46it/s]\n"
     ]
    }
   ],
   "source": [
    "scdata = myData('scdata')"
   ]
  },
  {
   "cell_type": "code",
   "execution_count": 17,
   "metadata": {},
   "outputs": [],
   "source": [
    "n_celltypes = 10"
   ]
  },
  {
   "cell_type": "code",
   "execution_count": null,
   "metadata": {},
   "outputs": [],
   "source": [
    "noise = np.random.normal(0, 1, (1,100))\n",
    "dns = tf.keras.layers.Dense(10)(noise)\n",
    "print(dns)\n",
    "alpha = tf.split(dns, axis=1, num_or_size_splits=10)\n",
    "print(alpha)\n",
    "dist = tfp.distributions.DirichletMultinomial(total_count=500, concentration=alpha[0])\n",
    "ssize = dist.sample(sample_shape=[1])\n",
    "ssize"
   ]
  },
  {
   "cell_type": "code",
   "execution_count": 21,
   "metadata": {},
   "outputs": [
    {
     "ename": "TypeError",
     "evalue": "Unable to build `Dense` layer with non-floating point dtype <dtype: 'int32'>",
     "output_type": "error",
     "traceback": [
      "\u001b[1;31m---------------------------------------------------------------------------\u001b[0m",
      "\u001b[1;31mTypeError\u001b[0m                                 Traceback (most recent call last)",
      "\u001b[1;32m<ipython-input-21-e6e5406ebd62>\u001b[0m in \u001b[0;36m<module>\u001b[1;34m\u001b[0m\n\u001b[0;32m      1\u001b[0m \u001b[0minpt\u001b[0m \u001b[1;33m=\u001b[0m \u001b[0mtf\u001b[0m\u001b[1;33m.\u001b[0m\u001b[0mkeras\u001b[0m\u001b[1;33m.\u001b[0m\u001b[0mlayers\u001b[0m\u001b[1;33m.\u001b[0m\u001b[0mInput\u001b[0m\u001b[1;33m(\u001b[0m\u001b[0mshape\u001b[0m\u001b[1;33m=\u001b[0m\u001b[1;33m(\u001b[0m\u001b[1;36m100\u001b[0m\u001b[1;33m,\u001b[0m\u001b[1;33m)\u001b[0m\u001b[1;33m)\u001b[0m\u001b[1;33m\u001b[0m\u001b[1;33m\u001b[0m\u001b[0m\n\u001b[1;32m----> 2\u001b[1;33m \u001b[0mdns\u001b[0m \u001b[1;33m=\u001b[0m \u001b[0mtf\u001b[0m\u001b[1;33m.\u001b[0m\u001b[0mkeras\u001b[0m\u001b[1;33m.\u001b[0m\u001b[0mlayers\u001b[0m\u001b[1;33m.\u001b[0m\u001b[0mDense\u001b[0m\u001b[1;33m(\u001b[0m\u001b[1;36m10\u001b[0m\u001b[1;33m,\u001b[0m \u001b[0mdtype\u001b[0m\u001b[1;33m=\u001b[0m\u001b[0mtf\u001b[0m\u001b[1;33m.\u001b[0m\u001b[0mint32\u001b[0m\u001b[1;33m)\u001b[0m\u001b[1;33m(\u001b[0m\u001b[0minpt\u001b[0m\u001b[1;33m)\u001b[0m\u001b[1;33m\u001b[0m\u001b[1;33m\u001b[0m\u001b[0m\n\u001b[0m\u001b[0;32m      3\u001b[0m \u001b[0malpha\u001b[0m \u001b[1;33m=\u001b[0m \u001b[0mtf\u001b[0m\u001b[1;33m.\u001b[0m\u001b[0msplit\u001b[0m\u001b[1;33m(\u001b[0m\u001b[0mdns\u001b[0m\u001b[1;33m,\u001b[0m \u001b[0mnum_or_size_splits\u001b[0m\u001b[1;33m=\u001b[0m\u001b[1;36m10\u001b[0m\u001b[1;33m)\u001b[0m\u001b[1;33m\u001b[0m\u001b[1;33m\u001b[0m\u001b[0m\n\u001b[0;32m      4\u001b[0m \u001b[0mx\u001b[0m \u001b[1;33m=\u001b[0m \u001b[1;33m[\u001b[0m\u001b[1;33m]\u001b[0m\u001b[1;33m\u001b[0m\u001b[1;33m\u001b[0m\u001b[0m\n\u001b[0;32m      5\u001b[0m \u001b[0msubset\u001b[0m \u001b[1;33m=\u001b[0m \u001b[0mtf\u001b[0m\u001b[1;33m.\u001b[0m\u001b[0mslice\u001b[0m\u001b[1;33m(\u001b[0m\u001b[0mtf\u001b[0m\u001b[1;33m.\u001b[0m\u001b[0mrandom\u001b[0m\u001b[1;33m.\u001b[0m\u001b[0mshuffle\u001b[0m\u001b[1;33m(\u001b[0m\u001b[0mscdata\u001b[0m\u001b[1;33m[\u001b[0m\u001b[1;36m0\u001b[0m\u001b[1;33m]\u001b[0m\u001b[1;33m)\u001b[0m\u001b[1;33m,\u001b[0m \u001b[0mbegin\u001b[0m\u001b[1;33m=\u001b[0m\u001b[1;33m[\u001b[0m\u001b[1;36m0\u001b[0m\u001b[1;33m]\u001b[0m\u001b[1;33m,\u001b[0m \u001b[0msize\u001b[0m\u001b[1;33m=\u001b[0m \u001b[0malpha\u001b[0m\u001b[1;33m[\u001b[0m\u001b[1;36m0\u001b[0m\u001b[1;33m]\u001b[0m\u001b[1;33m)\u001b[0m\u001b[1;33m\u001b[0m\u001b[1;33m\u001b[0m\u001b[0m\n",
      "\u001b[1;32mc:\\users\\yw_ji\\appdata\\local\\programs\\python\\python37\\lib\\site-packages\\tensorflow\\python\\keras\\engine\\base_layer.py\u001b[0m in \u001b[0;36m__call__\u001b[1;34m(self, *args, **kwargs)\u001b[0m\n\u001b[0;32m    950\u001b[0m     \u001b[1;32mif\u001b[0m \u001b[0m_in_functional_construction_mode\u001b[0m\u001b[1;33m(\u001b[0m\u001b[0mself\u001b[0m\u001b[1;33m,\u001b[0m \u001b[0minputs\u001b[0m\u001b[1;33m,\u001b[0m \u001b[0margs\u001b[0m\u001b[1;33m,\u001b[0m \u001b[0mkwargs\u001b[0m\u001b[1;33m,\u001b[0m \u001b[0minput_list\u001b[0m\u001b[1;33m)\u001b[0m\u001b[1;33m:\u001b[0m\u001b[1;33m\u001b[0m\u001b[1;33m\u001b[0m\u001b[0m\n\u001b[0;32m    951\u001b[0m       return self._functional_construction_call(inputs, args, kwargs,\n\u001b[1;32m--> 952\u001b[1;33m                                                 input_list)\n\u001b[0m\u001b[0;32m    953\u001b[0m \u001b[1;33m\u001b[0m\u001b[0m\n\u001b[0;32m    954\u001b[0m     \u001b[1;31m# Maintains info about the `Layer.call` stack.\u001b[0m\u001b[1;33m\u001b[0m\u001b[1;33m\u001b[0m\u001b[1;33m\u001b[0m\u001b[0m\n",
      "\u001b[1;32mc:\\users\\yw_ji\\appdata\\local\\programs\\python\\python37\\lib\\site-packages\\tensorflow\\python\\keras\\engine\\base_layer.py\u001b[0m in \u001b[0;36m_functional_construction_call\u001b[1;34m(self, inputs, args, kwargs, input_list)\u001b[0m\n\u001b[0;32m   1089\u001b[0m         \u001b[1;31m# Check input assumptions set after layer building, e.g. input shape.\u001b[0m\u001b[1;33m\u001b[0m\u001b[1;33m\u001b[0m\u001b[1;33m\u001b[0m\u001b[0m\n\u001b[0;32m   1090\u001b[0m         outputs = self._keras_tensor_symbolic_call(\n\u001b[1;32m-> 1091\u001b[1;33m             inputs, input_masks, args, kwargs)\n\u001b[0m\u001b[0;32m   1092\u001b[0m \u001b[1;33m\u001b[0m\u001b[0m\n\u001b[0;32m   1093\u001b[0m         \u001b[1;32mif\u001b[0m \u001b[0moutputs\u001b[0m \u001b[1;32mis\u001b[0m \u001b[1;32mNone\u001b[0m\u001b[1;33m:\u001b[0m\u001b[1;33m\u001b[0m\u001b[1;33m\u001b[0m\u001b[0m\n",
      "\u001b[1;32mc:\\users\\yw_ji\\appdata\\local\\programs\\python\\python37\\lib\\site-packages\\tensorflow\\python\\keras\\engine\\base_layer.py\u001b[0m in \u001b[0;36m_keras_tensor_symbolic_call\u001b[1;34m(self, inputs, input_masks, args, kwargs)\u001b[0m\n\u001b[0;32m    820\u001b[0m       \u001b[1;32mreturn\u001b[0m \u001b[0mnest\u001b[0m\u001b[1;33m.\u001b[0m\u001b[0mmap_structure\u001b[0m\u001b[1;33m(\u001b[0m\u001b[0mkeras_tensor\u001b[0m\u001b[1;33m.\u001b[0m\u001b[0mKerasTensor\u001b[0m\u001b[1;33m,\u001b[0m \u001b[0moutput_signature\u001b[0m\u001b[1;33m)\u001b[0m\u001b[1;33m\u001b[0m\u001b[1;33m\u001b[0m\u001b[0m\n\u001b[0;32m    821\u001b[0m     \u001b[1;32melse\u001b[0m\u001b[1;33m:\u001b[0m\u001b[1;33m\u001b[0m\u001b[1;33m\u001b[0m\u001b[0m\n\u001b[1;32m--> 822\u001b[1;33m       \u001b[1;32mreturn\u001b[0m \u001b[0mself\u001b[0m\u001b[1;33m.\u001b[0m\u001b[0m_infer_output_signature\u001b[0m\u001b[1;33m(\u001b[0m\u001b[0minputs\u001b[0m\u001b[1;33m,\u001b[0m \u001b[0margs\u001b[0m\u001b[1;33m,\u001b[0m \u001b[0mkwargs\u001b[0m\u001b[1;33m,\u001b[0m \u001b[0minput_masks\u001b[0m\u001b[1;33m)\u001b[0m\u001b[1;33m\u001b[0m\u001b[1;33m\u001b[0m\u001b[0m\n\u001b[0m\u001b[0;32m    823\u001b[0m \u001b[1;33m\u001b[0m\u001b[0m\n\u001b[0;32m    824\u001b[0m   \u001b[1;32mdef\u001b[0m \u001b[0m_infer_output_signature\u001b[0m\u001b[1;33m(\u001b[0m\u001b[0mself\u001b[0m\u001b[1;33m,\u001b[0m \u001b[0minputs\u001b[0m\u001b[1;33m,\u001b[0m \u001b[0margs\u001b[0m\u001b[1;33m,\u001b[0m \u001b[0mkwargs\u001b[0m\u001b[1;33m,\u001b[0m \u001b[0minput_masks\u001b[0m\u001b[1;33m)\u001b[0m\u001b[1;33m:\u001b[0m\u001b[1;33m\u001b[0m\u001b[1;33m\u001b[0m\u001b[0m\n",
      "\u001b[1;32mc:\\users\\yw_ji\\appdata\\local\\programs\\python\\python37\\lib\\site-packages\\tensorflow\\python\\keras\\engine\\base_layer.py\u001b[0m in \u001b[0;36m_infer_output_signature\u001b[1;34m(self, inputs, args, kwargs, input_masks)\u001b[0m\n\u001b[0;32m    860\u001b[0m           \u001b[1;31m# overridden).\u001b[0m\u001b[1;33m\u001b[0m\u001b[1;33m\u001b[0m\u001b[1;33m\u001b[0m\u001b[0m\n\u001b[0;32m    861\u001b[0m           \u001b[1;31m# TODO(kaftan): do we maybe_build here, or have we already done it?\u001b[0m\u001b[1;33m\u001b[0m\u001b[1;33m\u001b[0m\u001b[1;33m\u001b[0m\u001b[0m\n\u001b[1;32m--> 862\u001b[1;33m           \u001b[0mself\u001b[0m\u001b[1;33m.\u001b[0m\u001b[0m_maybe_build\u001b[0m\u001b[1;33m(\u001b[0m\u001b[0minputs\u001b[0m\u001b[1;33m)\u001b[0m\u001b[1;33m\u001b[0m\u001b[1;33m\u001b[0m\u001b[0m\n\u001b[0m\u001b[0;32m    863\u001b[0m           \u001b[0moutputs\u001b[0m \u001b[1;33m=\u001b[0m \u001b[0mcall_fn\u001b[0m\u001b[1;33m(\u001b[0m\u001b[0minputs\u001b[0m\u001b[1;33m,\u001b[0m \u001b[1;33m*\u001b[0m\u001b[0margs\u001b[0m\u001b[1;33m,\u001b[0m \u001b[1;33m**\u001b[0m\u001b[0mkwargs\u001b[0m\u001b[1;33m)\u001b[0m\u001b[1;33m\u001b[0m\u001b[1;33m\u001b[0m\u001b[0m\n\u001b[0;32m    864\u001b[0m \u001b[1;33m\u001b[0m\u001b[0m\n",
      "\u001b[1;32mc:\\users\\yw_ji\\appdata\\local\\programs\\python\\python37\\lib\\site-packages\\tensorflow\\python\\keras\\engine\\base_layer.py\u001b[0m in \u001b[0;36m_maybe_build\u001b[1;34m(self, inputs)\u001b[0m\n\u001b[0;32m   2708\u001b[0m         \u001b[1;31m# operations.\u001b[0m\u001b[1;33m\u001b[0m\u001b[1;33m\u001b[0m\u001b[1;33m\u001b[0m\u001b[0m\n\u001b[0;32m   2709\u001b[0m         \u001b[1;32mwith\u001b[0m \u001b[0mtf_utils\u001b[0m\u001b[1;33m.\u001b[0m\u001b[0mmaybe_init_scope\u001b[0m\u001b[1;33m(\u001b[0m\u001b[0mself\u001b[0m\u001b[1;33m)\u001b[0m\u001b[1;33m:\u001b[0m\u001b[1;33m\u001b[0m\u001b[1;33m\u001b[0m\u001b[0m\n\u001b[1;32m-> 2710\u001b[1;33m           \u001b[0mself\u001b[0m\u001b[1;33m.\u001b[0m\u001b[0mbuild\u001b[0m\u001b[1;33m(\u001b[0m\u001b[0minput_shapes\u001b[0m\u001b[1;33m)\u001b[0m  \u001b[1;31m# pylint:disable=not-callable\u001b[0m\u001b[1;33m\u001b[0m\u001b[1;33m\u001b[0m\u001b[0m\n\u001b[0m\u001b[0;32m   2711\u001b[0m       \u001b[1;31m# We must set also ensure that the layer is marked as built, and the build\u001b[0m\u001b[1;33m\u001b[0m\u001b[1;33m\u001b[0m\u001b[1;33m\u001b[0m\u001b[0m\n\u001b[0;32m   2712\u001b[0m       \u001b[1;31m# shape is stored since user defined build functions may not be calling\u001b[0m\u001b[1;33m\u001b[0m\u001b[1;33m\u001b[0m\u001b[1;33m\u001b[0m\u001b[0m\n",
      "\u001b[1;32mc:\\users\\yw_ji\\appdata\\local\\programs\\python\\python37\\lib\\site-packages\\tensorflow\\python\\keras\\layers\\core.py\u001b[0m in \u001b[0;36mbuild\u001b[1;34m(self, input_shape)\u001b[0m\n\u001b[0;32m   1175\u001b[0m     \u001b[1;32mif\u001b[0m \u001b[1;32mnot\u001b[0m \u001b[1;33m(\u001b[0m\u001b[0mdtype\u001b[0m\u001b[1;33m.\u001b[0m\u001b[0mis_floating\u001b[0m \u001b[1;32mor\u001b[0m \u001b[0mdtype\u001b[0m\u001b[1;33m.\u001b[0m\u001b[0mis_complex\u001b[0m\u001b[1;33m)\u001b[0m\u001b[1;33m:\u001b[0m\u001b[1;33m\u001b[0m\u001b[1;33m\u001b[0m\u001b[0m\n\u001b[0;32m   1176\u001b[0m       raise TypeError('Unable to build `Dense` layer with non-floating point '\n\u001b[1;32m-> 1177\u001b[1;33m                       'dtype %s' % (dtype,))\n\u001b[0m\u001b[0;32m   1178\u001b[0m \u001b[1;33m\u001b[0m\u001b[0m\n\u001b[0;32m   1179\u001b[0m     \u001b[0minput_shape\u001b[0m \u001b[1;33m=\u001b[0m \u001b[0mtensor_shape\u001b[0m\u001b[1;33m.\u001b[0m\u001b[0mTensorShape\u001b[0m\u001b[1;33m(\u001b[0m\u001b[0minput_shape\u001b[0m\u001b[1;33m)\u001b[0m\u001b[1;33m\u001b[0m\u001b[1;33m\u001b[0m\u001b[0m\n",
      "\u001b[1;31mTypeError\u001b[0m: Unable to build `Dense` layer with non-floating point dtype <dtype: 'int32'>"
     ]
    }
   ],
   "source": [
    "inpt = tf.keras.layers.Input(shape=(100,))\n",
    "dns = tf.keras.layers.Dense(10)(inpt)\n",
    "alpha = tf.split(dns, num_or_size_splits=10)\n",
    "dist = tfp.distributions.DirichletMultinomial(total_count=500, concentration=alpha)\n",
    "ssize = dist.sample(sample_shape=[1])\n",
    "x = []\n",
    "subset = tf.slice(tf.random.shuffle(scdata[0]), begin=[0], size= ssize)\n",
    "subset = tf.reduce_sum(subset, axis=0)"
   ]
  },
  {
   "cell_type": "code",
   "execution_count": null,
   "metadata": {},
   "outputs": [],
   "source": [
    "for c in range(n_celltypes):\n",
    "    x.append(Subsampling(scdata[c])(alpha))\n",
    "    inputs.append(inpt)\n",
    "x = tf.keras.layers.Add()(x)\n",
    "x = tf.keras.layers.Lambda(lambda a: tf.math.log1p(a))(x)\n",
    "x = tf.keras.layers.Dense(256)(x)\n",
    "x = tf.keras.layers.LeakyReLU(alpha=0.2)(x)\n",
    "x = tf.keras.layers.LayerNormalization(center=True, scale=True)(x)\n",
    "outputs = tf.keras.layers.Lambda(lambda t: MinMaxNorm(t))(x)\n",
    "model = tf.keras.Model(inputs, outputs)\n",
    "model.summary()"
   ]
  },
  {
   "cell_type": "code",
   "execution_count": 19,
   "metadata": {},
   "outputs": [
    {
     "ename": "ValueError",
     "evalue": "in user code:\n\n    <ipython-input-9-b944d49330bd>:9 call  *\n        subset = tf.slice(tf.random.shuffle(self.scdata), begin=[0], size= inpt)\n    c:\\users\\yw_ji\\appdata\\local\\programs\\python\\python37\\lib\\site-packages\\tensorflow\\python\\util\\dispatch.py:201 wrapper  **\n        return target(*args, **kwargs)\n    c:\\users\\yw_ji\\appdata\\local\\programs\\python\\python37\\lib\\site-packages\\tensorflow\\python\\ops\\array_ops.py:1103 slice\n        return gen_array_ops._slice(input_, begin, size, name=name)\n    c:\\users\\yw_ji\\appdata\\local\\programs\\python\\python37\\lib\\site-packages\\tensorflow\\python\\ops\\gen_array_ops.py:9390 _slice\n        \"Slice\", input=input, begin=begin, size=size, name=name)\n    c:\\users\\yw_ji\\appdata\\local\\programs\\python\\python37\\lib\\site-packages\\tensorflow\\python\\framework\\op_def_library.py:750 _apply_op_helper\n        attrs=attr_protos, op_def=op_def)\n    c:\\users\\yw_ji\\appdata\\local\\programs\\python\\python37\\lib\\site-packages\\tensorflow\\python\\framework\\func_graph.py:592 _create_op_internal\n        compute_device)\n    c:\\users\\yw_ji\\appdata\\local\\programs\\python\\python37\\lib\\site-packages\\tensorflow\\python\\framework\\ops.py:3536 _create_op_internal\n        op_def=op_def)\n    c:\\users\\yw_ji\\appdata\\local\\programs\\python\\python37\\lib\\site-packages\\tensorflow\\python\\framework\\ops.py:2016 __init__\n        control_input_ops, op_def)\n    c:\\users\\yw_ji\\appdata\\local\\programs\\python\\python37\\lib\\site-packages\\tensorflow\\python\\framework\\ops.py:1856 _create_c_op\n        raise ValueError(str(e))\n\n    ValueError: Shape must be rank 1 but is rank 3 for '{{node subsampling/Slice}} = Slice[Index=DT_INT32, T=DT_FLOAT](subsampling/RandomShuffle, subsampling/Slice/begin, subsampling/Slice/size)' with input shapes: [9898,3010], [1], [10,?,10].\n",
     "output_type": "error",
     "traceback": [
      "\u001b[1;31m---------------------------------------------------------------------------\u001b[0m",
      "\u001b[1;31mValueError\u001b[0m                                Traceback (most recent call last)",
      "\u001b[1;32m<ipython-input-19-b6b9e0b72438>\u001b[0m in \u001b[0;36m<module>\u001b[1;34m\u001b[0m\n\u001b[1;32m----> 1\u001b[1;33m \u001b[0mmodel\u001b[0m \u001b[1;33m=\u001b[0m \u001b[0mbuild_simulator\u001b[0m\u001b[1;33m(\u001b[0m\u001b[1;33m)\u001b[0m\u001b[1;33m\u001b[0m\u001b[1;33m\u001b[0m\u001b[0m\n\u001b[0m",
      "\u001b[1;32m<ipython-input-18-753f16f4961e>\u001b[0m in \u001b[0;36mbuild_simulator\u001b[1;34m()\u001b[0m\n\u001b[0;32m      5\u001b[0m     \u001b[0mx\u001b[0m \u001b[1;33m=\u001b[0m \u001b[1;33m[\u001b[0m\u001b[1;33m]\u001b[0m\u001b[1;33m\u001b[0m\u001b[1;33m\u001b[0m\u001b[0m\n\u001b[0;32m      6\u001b[0m     \u001b[1;32mfor\u001b[0m \u001b[0mc\u001b[0m \u001b[1;32min\u001b[0m \u001b[0mrange\u001b[0m\u001b[1;33m(\u001b[0m\u001b[0mn_celltypes\u001b[0m\u001b[1;33m)\u001b[0m\u001b[1;33m:\u001b[0m\u001b[1;33m\u001b[0m\u001b[1;33m\u001b[0m\u001b[0m\n\u001b[1;32m----> 7\u001b[1;33m         \u001b[0mx\u001b[0m\u001b[1;33m.\u001b[0m\u001b[0mappend\u001b[0m\u001b[1;33m(\u001b[0m\u001b[0mSubsampling\u001b[0m\u001b[1;33m(\u001b[0m\u001b[0mscdata\u001b[0m\u001b[1;33m[\u001b[0m\u001b[0mc\u001b[0m\u001b[1;33m]\u001b[0m\u001b[1;33m)\u001b[0m\u001b[1;33m(\u001b[0m\u001b[0malpha\u001b[0m\u001b[1;33m)\u001b[0m\u001b[1;33m)\u001b[0m\u001b[1;33m\u001b[0m\u001b[1;33m\u001b[0m\u001b[0m\n\u001b[0m\u001b[0;32m      8\u001b[0m         \u001b[0minputs\u001b[0m\u001b[1;33m.\u001b[0m\u001b[0mappend\u001b[0m\u001b[1;33m(\u001b[0m\u001b[0minpt\u001b[0m\u001b[1;33m)\u001b[0m\u001b[1;33m\u001b[0m\u001b[1;33m\u001b[0m\u001b[0m\n\u001b[0;32m      9\u001b[0m     \u001b[0mx\u001b[0m \u001b[1;33m=\u001b[0m \u001b[0mtf\u001b[0m\u001b[1;33m.\u001b[0m\u001b[0mkeras\u001b[0m\u001b[1;33m.\u001b[0m\u001b[0mlayers\u001b[0m\u001b[1;33m.\u001b[0m\u001b[0mAdd\u001b[0m\u001b[1;33m(\u001b[0m\u001b[1;33m)\u001b[0m\u001b[1;33m(\u001b[0m\u001b[0mx\u001b[0m\u001b[1;33m)\u001b[0m\u001b[1;33m\u001b[0m\u001b[1;33m\u001b[0m\u001b[0m\n",
      "\u001b[1;32mc:\\users\\yw_ji\\appdata\\local\\programs\\python\\python37\\lib\\site-packages\\tensorflow\\python\\keras\\engine\\base_layer.py\u001b[0m in \u001b[0;36m__call__\u001b[1;34m(self, *args, **kwargs)\u001b[0m\n\u001b[0;32m    950\u001b[0m     \u001b[1;32mif\u001b[0m \u001b[0m_in_functional_construction_mode\u001b[0m\u001b[1;33m(\u001b[0m\u001b[0mself\u001b[0m\u001b[1;33m,\u001b[0m \u001b[0minputs\u001b[0m\u001b[1;33m,\u001b[0m \u001b[0margs\u001b[0m\u001b[1;33m,\u001b[0m \u001b[0mkwargs\u001b[0m\u001b[1;33m,\u001b[0m \u001b[0minput_list\u001b[0m\u001b[1;33m)\u001b[0m\u001b[1;33m:\u001b[0m\u001b[1;33m\u001b[0m\u001b[1;33m\u001b[0m\u001b[0m\n\u001b[0;32m    951\u001b[0m       return self._functional_construction_call(inputs, args, kwargs,\n\u001b[1;32m--> 952\u001b[1;33m                                                 input_list)\n\u001b[0m\u001b[0;32m    953\u001b[0m \u001b[1;33m\u001b[0m\u001b[0m\n\u001b[0;32m    954\u001b[0m     \u001b[1;31m# Maintains info about the `Layer.call` stack.\u001b[0m\u001b[1;33m\u001b[0m\u001b[1;33m\u001b[0m\u001b[1;33m\u001b[0m\u001b[0m\n",
      "\u001b[1;32mc:\\users\\yw_ji\\appdata\\local\\programs\\python\\python37\\lib\\site-packages\\tensorflow\\python\\keras\\engine\\base_layer.py\u001b[0m in \u001b[0;36m_functional_construction_call\u001b[1;34m(self, inputs, args, kwargs, input_list)\u001b[0m\n\u001b[0;32m   1089\u001b[0m         \u001b[1;31m# Check input assumptions set after layer building, e.g. input shape.\u001b[0m\u001b[1;33m\u001b[0m\u001b[1;33m\u001b[0m\u001b[1;33m\u001b[0m\u001b[0m\n\u001b[0;32m   1090\u001b[0m         outputs = self._keras_tensor_symbolic_call(\n\u001b[1;32m-> 1091\u001b[1;33m             inputs, input_masks, args, kwargs)\n\u001b[0m\u001b[0;32m   1092\u001b[0m \u001b[1;33m\u001b[0m\u001b[0m\n\u001b[0;32m   1093\u001b[0m         \u001b[1;32mif\u001b[0m \u001b[0moutputs\u001b[0m \u001b[1;32mis\u001b[0m \u001b[1;32mNone\u001b[0m\u001b[1;33m:\u001b[0m\u001b[1;33m\u001b[0m\u001b[1;33m\u001b[0m\u001b[0m\n",
      "\u001b[1;32mc:\\users\\yw_ji\\appdata\\local\\programs\\python\\python37\\lib\\site-packages\\tensorflow\\python\\keras\\engine\\base_layer.py\u001b[0m in \u001b[0;36m_keras_tensor_symbolic_call\u001b[1;34m(self, inputs, input_masks, args, kwargs)\u001b[0m\n\u001b[0;32m    820\u001b[0m       \u001b[1;32mreturn\u001b[0m \u001b[0mnest\u001b[0m\u001b[1;33m.\u001b[0m\u001b[0mmap_structure\u001b[0m\u001b[1;33m(\u001b[0m\u001b[0mkeras_tensor\u001b[0m\u001b[1;33m.\u001b[0m\u001b[0mKerasTensor\u001b[0m\u001b[1;33m,\u001b[0m \u001b[0moutput_signature\u001b[0m\u001b[1;33m)\u001b[0m\u001b[1;33m\u001b[0m\u001b[1;33m\u001b[0m\u001b[0m\n\u001b[0;32m    821\u001b[0m     \u001b[1;32melse\u001b[0m\u001b[1;33m:\u001b[0m\u001b[1;33m\u001b[0m\u001b[1;33m\u001b[0m\u001b[0m\n\u001b[1;32m--> 822\u001b[1;33m       \u001b[1;32mreturn\u001b[0m \u001b[0mself\u001b[0m\u001b[1;33m.\u001b[0m\u001b[0m_infer_output_signature\u001b[0m\u001b[1;33m(\u001b[0m\u001b[0minputs\u001b[0m\u001b[1;33m,\u001b[0m \u001b[0margs\u001b[0m\u001b[1;33m,\u001b[0m \u001b[0mkwargs\u001b[0m\u001b[1;33m,\u001b[0m \u001b[0minput_masks\u001b[0m\u001b[1;33m)\u001b[0m\u001b[1;33m\u001b[0m\u001b[1;33m\u001b[0m\u001b[0m\n\u001b[0m\u001b[0;32m    823\u001b[0m \u001b[1;33m\u001b[0m\u001b[0m\n\u001b[0;32m    824\u001b[0m   \u001b[1;32mdef\u001b[0m \u001b[0m_infer_output_signature\u001b[0m\u001b[1;33m(\u001b[0m\u001b[0mself\u001b[0m\u001b[1;33m,\u001b[0m \u001b[0minputs\u001b[0m\u001b[1;33m,\u001b[0m \u001b[0margs\u001b[0m\u001b[1;33m,\u001b[0m \u001b[0mkwargs\u001b[0m\u001b[1;33m,\u001b[0m \u001b[0minput_masks\u001b[0m\u001b[1;33m)\u001b[0m\u001b[1;33m:\u001b[0m\u001b[1;33m\u001b[0m\u001b[1;33m\u001b[0m\u001b[0m\n",
      "\u001b[1;32mc:\\users\\yw_ji\\appdata\\local\\programs\\python\\python37\\lib\\site-packages\\tensorflow\\python\\keras\\engine\\base_layer.py\u001b[0m in \u001b[0;36m_infer_output_signature\u001b[1;34m(self, inputs, args, kwargs, input_masks)\u001b[0m\n\u001b[0;32m    861\u001b[0m           \u001b[1;31m# TODO(kaftan): do we maybe_build here, or have we already done it?\u001b[0m\u001b[1;33m\u001b[0m\u001b[1;33m\u001b[0m\u001b[1;33m\u001b[0m\u001b[0m\n\u001b[0;32m    862\u001b[0m           \u001b[0mself\u001b[0m\u001b[1;33m.\u001b[0m\u001b[0m_maybe_build\u001b[0m\u001b[1;33m(\u001b[0m\u001b[0minputs\u001b[0m\u001b[1;33m)\u001b[0m\u001b[1;33m\u001b[0m\u001b[1;33m\u001b[0m\u001b[0m\n\u001b[1;32m--> 863\u001b[1;33m           \u001b[0moutputs\u001b[0m \u001b[1;33m=\u001b[0m \u001b[0mcall_fn\u001b[0m\u001b[1;33m(\u001b[0m\u001b[0minputs\u001b[0m\u001b[1;33m,\u001b[0m \u001b[1;33m*\u001b[0m\u001b[0margs\u001b[0m\u001b[1;33m,\u001b[0m \u001b[1;33m**\u001b[0m\u001b[0mkwargs\u001b[0m\u001b[1;33m)\u001b[0m\u001b[1;33m\u001b[0m\u001b[1;33m\u001b[0m\u001b[0m\n\u001b[0m\u001b[0;32m    864\u001b[0m \u001b[1;33m\u001b[0m\u001b[0m\n\u001b[0;32m    865\u001b[0m         \u001b[0mself\u001b[0m\u001b[1;33m.\u001b[0m\u001b[0m_handle_activity_regularization\u001b[0m\u001b[1;33m(\u001b[0m\u001b[0minputs\u001b[0m\u001b[1;33m,\u001b[0m \u001b[0moutputs\u001b[0m\u001b[1;33m)\u001b[0m\u001b[1;33m\u001b[0m\u001b[1;33m\u001b[0m\u001b[0m\n",
      "\u001b[1;32mc:\\users\\yw_ji\\appdata\\local\\programs\\python\\python37\\lib\\site-packages\\tensorflow\\python\\autograph\\impl\\api.py\u001b[0m in \u001b[0;36mwrapper\u001b[1;34m(*args, **kwargs)\u001b[0m\n\u001b[0;32m    668\u001b[0m       \u001b[1;32mexcept\u001b[0m \u001b[0mException\u001b[0m \u001b[1;32mas\u001b[0m \u001b[0me\u001b[0m\u001b[1;33m:\u001b[0m  \u001b[1;31m# pylint:disable=broad-except\u001b[0m\u001b[1;33m\u001b[0m\u001b[1;33m\u001b[0m\u001b[0m\n\u001b[0;32m    669\u001b[0m         \u001b[1;32mif\u001b[0m \u001b[0mhasattr\u001b[0m\u001b[1;33m(\u001b[0m\u001b[0me\u001b[0m\u001b[1;33m,\u001b[0m \u001b[1;34m'ag_error_metadata'\u001b[0m\u001b[1;33m)\u001b[0m\u001b[1;33m:\u001b[0m\u001b[1;33m\u001b[0m\u001b[1;33m\u001b[0m\u001b[0m\n\u001b[1;32m--> 670\u001b[1;33m           \u001b[1;32mraise\u001b[0m \u001b[0me\u001b[0m\u001b[1;33m.\u001b[0m\u001b[0mag_error_metadata\u001b[0m\u001b[1;33m.\u001b[0m\u001b[0mto_exception\u001b[0m\u001b[1;33m(\u001b[0m\u001b[0me\u001b[0m\u001b[1;33m)\u001b[0m\u001b[1;33m\u001b[0m\u001b[1;33m\u001b[0m\u001b[0m\n\u001b[0m\u001b[0;32m    671\u001b[0m         \u001b[1;32melse\u001b[0m\u001b[1;33m:\u001b[0m\u001b[1;33m\u001b[0m\u001b[1;33m\u001b[0m\u001b[0m\n\u001b[0;32m    672\u001b[0m           \u001b[1;32mraise\u001b[0m\u001b[1;33m\u001b[0m\u001b[1;33m\u001b[0m\u001b[0m\n",
      "\u001b[1;31mValueError\u001b[0m: in user code:\n\n    <ipython-input-9-b944d49330bd>:9 call  *\n        subset = tf.slice(tf.random.shuffle(self.scdata), begin=[0], size= inpt)\n    c:\\users\\yw_ji\\appdata\\local\\programs\\python\\python37\\lib\\site-packages\\tensorflow\\python\\util\\dispatch.py:201 wrapper  **\n        return target(*args, **kwargs)\n    c:\\users\\yw_ji\\appdata\\local\\programs\\python\\python37\\lib\\site-packages\\tensorflow\\python\\ops\\array_ops.py:1103 slice\n        return gen_array_ops._slice(input_, begin, size, name=name)\n    c:\\users\\yw_ji\\appdata\\local\\programs\\python\\python37\\lib\\site-packages\\tensorflow\\python\\ops\\gen_array_ops.py:9390 _slice\n        \"Slice\", input=input, begin=begin, size=size, name=name)\n    c:\\users\\yw_ji\\appdata\\local\\programs\\python\\python37\\lib\\site-packages\\tensorflow\\python\\framework\\op_def_library.py:750 _apply_op_helper\n        attrs=attr_protos, op_def=op_def)\n    c:\\users\\yw_ji\\appdata\\local\\programs\\python\\python37\\lib\\site-packages\\tensorflow\\python\\framework\\func_graph.py:592 _create_op_internal\n        compute_device)\n    c:\\users\\yw_ji\\appdata\\local\\programs\\python\\python37\\lib\\site-packages\\tensorflow\\python\\framework\\ops.py:3536 _create_op_internal\n        op_def=op_def)\n    c:\\users\\yw_ji\\appdata\\local\\programs\\python\\python37\\lib\\site-packages\\tensorflow\\python\\framework\\ops.py:2016 __init__\n        control_input_ops, op_def)\n    c:\\users\\yw_ji\\appdata\\local\\programs\\python\\python37\\lib\\site-packages\\tensorflow\\python\\framework\\ops.py:1856 _create_c_op\n        raise ValueError(str(e))\n\n    ValueError: Shape must be rank 1 but is rank 3 for '{{node subsampling/Slice}} = Slice[Index=DT_INT32, T=DT_FLOAT](subsampling/RandomShuffle, subsampling/Slice/begin, subsampling/Slice/size)' with input shapes: [9898,3010], [1], [10,?,10].\n"
     ]
    }
   ],
   "source": [
    "model = build_simulator()"
   ]
  },
  {
   "cell_type": "code",
   "execution_count": null,
   "metadata": {},
   "outputs": [],
   "source": [
    "class AdversarialSimulator():\n",
    "\n",
    "    '''\n",
    "    Ref: github.com/eriklindernoren/Keras-GAN\n",
    "    '''\n",
    "\n",
    "    def __init__(self, scdata, n_sim_samples = 1000):\n",
    "        self.scdata = scdata\n",
    "        self.n_sim_samples = n_sim_samples\n",
    "        self.n_celltypes = len(scdata)\n",
    "        self.n_features = scdata[0].shape[1]\n",
    "        self.n_cellspersample = 500\n",
    "        self.n_cellspercelltype = [l.shape[0] for l in self.scdata]\n",
    "        optmzr = tf.keras.optimizers.Adam(0.0002, 0.5)\n",
    "        self.Discriminator = self.build_discriminator()\n",
    "        self.Discriminator.compile(loss='binary_crossentropy',\n",
    "            optimizer=optmzr,\n",
    "            metrics=['accuracy'])\n",
    "        self.Simulator = self.build_simulator()\n",
    "        # Simulator takes in Nprop as input and generates simbulk\n",
    "        z = [tf.keras.layers.Input(shape=(1,), name=f'input0_{c}') for c in range(self.n_celltypes)]\n",
    "        self.simbulk = self.Simulator(z)\n",
    "        # For the combined model, we only train the Simulator\n",
    "        self.Discriminator.trainable = False\n",
    "        # Discriminator takes simbulk as input and determines validity\n",
    "        valid = self.Discriminator(tf.expand_dims(self.simbulk, axis=0))\n",
    "        # stacked Simulator and Discriminator\n",
    "        self.AdvSim = tf.keras.Model(z, valid)\n",
    "        self.AdvSim.compile(loss='binary_crossentropy', optimizer=optmzr)\n",
    "\n",
    "    def MinMaxNorm(self, x):\n",
    "        x_scaled = tf.math.divide_no_nan(\n",
    "            (x - tf.math.reduce_min(x)),\n",
    "            (tf.math.reduce_max(x) - tf.math.reduce_min(x)))\n",
    "        return x_scaled\n",
    "\n",
    "    def simulated_fractions(self, batch_size):\n",
    "        alpha = [1]*self.n_celltypes\n",
    "        dist = tfp.distributions.Dirichlet(alpha)\n",
    "        nprop = dist.sample([batch_size])\n",
    "        nprop = nprop * self.n_cellspersample\n",
    "        nprop = tf.squeeze(tf.cast(nprop, dtype=tf.int32))\n",
    "        output = []\n",
    "        for i in range(len(nprop)):\n",
    "            output.append(tf.reshape(tf.gather(nprop, i), [1]))\n",
    "        return output\n",
    "\n",
    "    def build_simulator(self):\n",
    "        inpt = tf.keras.layers.Input(shape=(100,))\n",
    "        dns = tf.keras.layers.Dense(10)(inpt)\n",
    "        alpha = tf.split(dns, num_or_size_splits=10)\n",
    "        x = []\n",
    "        for c in range(self.n_celltypes):\n",
    "            x.append(Subsampling(self.scdata[c])(alpha))\n",
    "            inputs.append(inpt)\n",
    "        x = tf.keras.layers.Add()(x)\n",
    "#         x = tf.keras.layers.Flatten()(x)\n",
    "        x = tf.keras.layers.Lambda(lambda a: tf.math.log1p(a))(x)\n",
    "        x = tf.keras.layers.Dense(256)(x)\n",
    "        x = tf.keras.layers.LeakyReLU(alpha=0.2)(x)\n",
    "        x = tf.keras.layers.LayerNormalization(center=True, scale=True)(x)\n",
    "        outputs = tf.keras.layers.Lambda(lambda t: self.MinMaxNorm(t))(x)\n",
    "        model = tf.keras.Model(inputs, outputs)\n",
    "        model.summary()\n",
    "        return model\n",
    "\n",
    "    def build_discriminator(self):\n",
    "        inputs = tf.keras.Input(shape=(self.n_features,))\n",
    "        x = tf.keras.layers.Dense(64)(inputs)\n",
    "        x = tf.keras.layers.LeakyReLU(alpha=0.2)(x)\n",
    "        x = tf.keras.layers.Dense(32)(x)\n",
    "        x = tf.keras.layers.LeakyReLU(alpha=0.2)(x)\n",
    "        outputs = tf.keras.layers.Dense(1, activation='sigmoid')(x)\n",
    "        model = tf.keras.Model(inputs, outputs)\n",
    "        model._name = \"Discriminator\"\n",
    "        model.summary()\n",
    "        return model\n",
    "\n",
    "    def train(self, X_data, steps=1000, batch_size=1):\n",
    "        X_data = self.MinMaxNorm(tf.math.log1p(X_data))\n",
    "        valid = np.ones((batch_size, 1))\n",
    "        fake = np.zeros((batch_size, 1))\n",
    "        for step in range(steps):\n",
    "            '''\n",
    "            Train Discriminator\n",
    "            '''\n",
    "            # Select random subset of X_data equal to batch_size\n",
    "            idx = np.random.randint(0, X_data.shape[0], 1)\n",
    "            bulk = np.reshape(X_data.numpy()[idx], (1,-1))\n",
    "            # Sample Nprop (cell fractions) using Dirichlet distribution\n",
    "            nprop = self.simulated_fractions(batch_size)\n",
    "            # Generate simbulk using Nprop\n",
    "            simbulk = self.Simulator.predict(nprop)\n",
    "            # Train Discriminator\n",
    "            d_loss_real = self.Discriminator.train_on_batch(bulk, valid)\n",
    "            d_loss_fake = self.Discriminator.train_on_batch(tf.reshape(simbulk, [1,-1]), fake)\n",
    "            d_loss = 0.5 * np.add(d_loss_real, d_loss_fake)\n",
    "            '''\n",
    "            Train Simulator\n",
    "            '''\n",
    "            # Train Simulator (wants Discriminator to make mistakes)\n",
    "            s_loss = self.AdvSim.train_on_batch(nprop, valid)\n",
    "            # Plot the progress\n",
    "            print (\"Step: %d [D loss: %f, acc.: %.2f%%] [G loss: %f]\" % (step, d_loss[0], 100*d_loss[1], s_loss))"
   ]
  },
  {
   "cell_type": "code",
   "execution_count": 243,
   "metadata": {},
   "outputs": [],
   "source": [
    "def build_simulator(self):\n",
    "    inpt = tf.keras.layers.Input(shape=(100,))\n",
    "    dns = tf.keras.layers.Dense(10)(inpt)\n",
    "    alpha = tf.split(dns, num_or_size_splits=10)\n",
    "    x = []\n",
    "    for c in range(self.n_celltypes):\n",
    "        x.append(Subsampling(self.scdata[c])(alpha))\n",
    "        inputs.append(inpt)\n",
    "    x = tf.keras.layers.Add()(x)\n",
    "#         x = tf.keras.layers.Flatten()(x)\n",
    "    x = tf.keras.layers.Lambda(lambda a: tf.math.log1p(a))(x)\n",
    "    x = tf.keras.layers.Dense(256)(x)\n",
    "    x = tf.keras.layers.LeakyReLU(alpha=0.2)(x)\n",
    "    x = tf.keras.layers.LayerNormalization(center=True, scale=True)(x)\n",
    "    outputs = tf.keras.layers.Lambda(lambda t: self.MinMaxNorm(t))(x)\n",
    "    model = tf.keras.Model(inputs, outputs)\n",
    "    model.summary()\n",
    "    return model"
   ]
  },
  {
   "cell_type": "code",
   "execution_count": null,
   "metadata": {},
   "outputs": [],
   "source": []
  },
  {
   "cell_type": "code",
   "execution_count": 4,
   "metadata": {},
   "outputs": [],
   "source": []
  },
  {
   "cell_type": "code",
   "execution_count": 259,
   "metadata": {},
   "outputs": [],
   "source": []
  },
  {
   "cell_type": "code",
   "execution_count": 136,
   "metadata": {},
   "outputs": [],
   "source": [
    "def build_simulator():\n",
    "    inputs = []\n",
    "    x = []\n",
    "    for c in range(n_celltypes):\n",
    "        inpt = tf.keras.layers.Input(shape=(1), dtype = tf.int32, name=f'input{c}')\n",
    "        x.append(Subsampling(scdata[c])(inpt))\n",
    "        inputs.append(inpt)\n",
    "    x = tf.keras.layers.Add()(x)\n",
    "    x = tf.keras.layers.Flatten()(x)\n",
    "    x = tf.keras.layers.Lambda(lambda x: tf.math.log1p(x))(x)\n",
    "    x = tf.keras.layers.LayerNormalization(center=True, scale=True)(x)\n",
    "    outputs = tf.keras.layers.Lambda(lambda x: MinMaxNorm(x))(x)\n",
    "    model = tf.keras.Model(inputs, outputs)\n",
    "    model.summary()\n",
    "    return model\n",
    "\n",
    "def build_discriminator():\n",
    "    inputs = tf.keras.Input(shape=(n_features))\n",
    "    x = tf.keras.layers.Dense(256)(inputs)\n",
    "    x = tf.keras.layers.LeakyReLU(alpha=0.2)(x)\n",
    "    x = tf.keras.layers.Dense(128)(x)\n",
    "    x = tf.keras.layers.LeakyReLU(alpha=0.2)(x)\n",
    "    outputs = tf.keras.layers.Dense(1, activation='sigmoid')(x)\n",
    "    model = tf.keras.Model(inputs, outputs)\n",
    "    model._name = \"Discriminator\"\n",
    "    model.summary()\n",
    "    return model"
   ]
  },
  {
   "cell_type": "code",
   "execution_count": 99,
   "metadata": {},
   "outputs": [],
   "source": [
    "inpt = tf.keras.layers.Input(shape=(1), dtype=tf.int32, name=f'input{0}')\n",
    "x = Subsampling(scdata[0])(inpt)"
   ]
  },
  {
   "cell_type": "code",
   "execution_count": null,
   "metadata": {},
   "outputs": [],
   "source": [
    "tf.keras.layers.Add()([x,x,x,x,x])"
   ]
  },
  {
   "cell_type": "code",
   "execution_count": 82,
   "metadata": {},
   "outputs": [
    {
     "data": {
      "text/plain": [
       "<tf.Tensor: shape=(32,), dtype=int32, numpy=\n",
       "array([7758, 1859, 6978, 1044, 4334, 6252, 1817,  299, 7841, 3392, 9135,\n",
       "       2969, 9139, 8585, 8370, 6200, 6518, 2450, 3689, 4097, 9401, 1498,\n",
       "       9132,  685, 1479, 6334, 4787, 1816, 4331, 1421,  234, 3272])>"
      ]
     },
     "execution_count": 82,
     "metadata": {},
     "output_type": "execute_result"
    }
   ],
   "source": [
    "idx = tf.random.uniform(shape=[32], minval=0, maxval=scdata[0].shape[0], dtype=tf.int32)\n",
    "idx"
   ]
  },
  {
   "cell_type": "code",
   "execution_count": 92,
   "metadata": {},
   "outputs": [
    {
     "data": {
      "text/plain": [
       "<tf.Tensor: shape=(3010,), dtype=float32, numpy=\n",
       "array([    0.   ,     0.   ,     0.   , ...,     0.   ,     0.   ,\n",
       "       34722.223], dtype=float32)>"
      ]
     },
     "execution_count": 92,
     "metadata": {},
     "output_type": "execute_result"
    }
   ],
   "source": [
    "subset = tf.gather(scdata[0], idx, axis=0)\n",
    "tf.keras.layers.Add()([tf.reduce_sum(subset, axis=0)]*10)\n"
   ]
  },
  {
   "cell_type": "code",
   "execution_count": null,
   "metadata": {},
   "outputs": [],
   "source": [
    "optmzr = tf.keras.optimizers.Adam(0.0002, 0.5)\n",
    "Discriminator = build_discriminator()\n",
    "Discriminator.compile(loss='binary_crossentropy',\n",
    "    optimizer=optmzr,\n",
    "    metrics=['accuracy'])\n",
    "Simulator = build_simulator()\n",
    "z = [tf.keras.layers.Input(shape=(1,))]*n_celltypes\n",
    "simbulk = Simulator(z)\n",
    "# For the combined model, we only train the Simulator\n",
    "Discriminator.trainable = False\n",
    "# Discriminator takes simbulk as input and determines validity\n"
   ]
  },
  {
   "cell_type": "code",
   "execution_count": 270,
   "metadata": {},
   "outputs": [
    {
     "data": {
      "text/plain": [
       "<KerasTensor: shape=(3010, 1) dtype=float32 (created by layer 'model_49')>"
      ]
     },
     "execution_count": 270,
     "metadata": {},
     "output_type": "execute_result"
    }
   ],
   "source": [
    "simbulk"
   ]
  },
  {
   "cell_type": "code",
   "execution_count": null,
   "metadata": {},
   "outputs": [],
   "source": [
    "valid = Discriminator(tf.reshape(simbulk, (1,-1)))\n",
    "# stacked Simulator and Discriminator\n",
    "AdvSim = tf.keras.Model(z, valid)\n",
    "AdvSim.compile(loss='binary_crossentropy', optimizer=optmzr)"
   ]
  },
  {
   "cell_type": "code",
   "execution_count": 213,
   "metadata": {},
   "outputs": [],
   "source": [
    "def simulated_fractions(batch_size):\n",
    "    alpha = [1]*n_celltypes\n",
    "    dist = tfp.distributions.Dirichlet(alpha)\n",
    "    nprop = dist.sample([batch_size])\n",
    "    nprop = nprop * n_cellspersample\n",
    "    nprop = tf.squeeze(tf.cast(nprop, dtype=tf.int32))\n",
    "    output = []\n",
    "    for i in range(len(nprop)):\n",
    "        output.append(tf.reshape(tf.gather(nprop, i), [1]))\n",
    "    return output"
   ]
  },
  {
   "cell_type": "code",
   "execution_count": 214,
   "metadata": {},
   "outputs": [],
   "source": [
    "nprop = simulated_fractions(1)"
   ]
  },
  {
   "cell_type": "code",
   "execution_count": null,
   "metadata": {},
   "outputs": [],
   "source": [
    "nprop"
   ]
  },
  {
   "cell_type": "code",
   "execution_count": 13,
   "metadata": {},
   "outputs": [
    {
     "name": "stdout",
     "output_type": "stream",
     "text": [
      "Dividing single cell dataset into cell types\n"
     ]
    },
    {
     "name": "stderr",
     "output_type": "stream",
     "text": [
      "100%|██████████| 10/10 [00:01<00:00,  7.98it/s]\n"
     ]
    },
    {
     "name": "stdout",
     "output_type": "stream",
     "text": [
      "Model: \"Discriminator\"\n",
      "_________________________________________________________________\n",
      "Layer (type)                 Output Shape              Param #   \n",
      "=================================================================\n",
      "input_3 (InputLayer)         [(None, 3010)]            0         \n",
      "_________________________________________________________________\n",
      "dense_7 (Dense)              (None, 64)                192704    \n",
      "_________________________________________________________________\n",
      "leaky_re_lu_4 (LeakyReLU)    (None, 64)                0         \n",
      "_________________________________________________________________\n",
      "dense_8 (Dense)              (None, 32)                2080      \n",
      "_________________________________________________________________\n",
      "leaky_re_lu_5 (LeakyReLU)    (None, 32)                0         \n",
      "_________________________________________________________________\n",
      "dense_9 (Dense)              (None, 1)                 33        \n",
      "=================================================================\n",
      "Total params: 194,817\n",
      "Trainable params: 194,817\n",
      "Non-trainable params: 0\n",
      "_________________________________________________________________\n"
     ]
    },
    {
     "ename": "ValueError",
     "evalue": "Input 0 of layer dense_10 is incompatible with the layer: : expected min_ndim=2, found ndim=1. Full shape received: (3010,)",
     "output_type": "error",
     "traceback": [
      "\u001b[1;31m---------------------------------------------------------------------------\u001b[0m",
      "\u001b[1;31mValueError\u001b[0m                                Traceback (most recent call last)",
      "\u001b[1;32m<ipython-input-13-285b62f753e7>\u001b[0m in \u001b[0;36m<module>\u001b[1;34m\u001b[0m\n\u001b[1;32m----> 1\u001b[1;33m \u001b[0mmyModel\u001b[0m \u001b[1;33m=\u001b[0m \u001b[0mAdversarialSimulator\u001b[0m\u001b[1;33m(\u001b[0m\u001b[0mmyData\u001b[0m\u001b[1;33m(\u001b[0m\u001b[1;34m'scdata'\u001b[0m\u001b[1;33m)\u001b[0m\u001b[1;33m)\u001b[0m\u001b[1;33m\u001b[0m\u001b[1;33m\u001b[0m\u001b[0m\n\u001b[0m",
      "\u001b[1;32m<ipython-input-12-371969d9a7d8>\u001b[0m in \u001b[0;36m__init__\u001b[1;34m(self, scdata, n_sim_samples)\u001b[0m\n\u001b[0;32m    131\u001b[0m             \u001b[0moptimizer\u001b[0m\u001b[1;33m=\u001b[0m\u001b[0moptmzr\u001b[0m\u001b[1;33m,\u001b[0m\u001b[1;33m\u001b[0m\u001b[1;33m\u001b[0m\u001b[0m\n\u001b[0;32m    132\u001b[0m             metrics=['accuracy'])\n\u001b[1;32m--> 133\u001b[1;33m         \u001b[0mself\u001b[0m\u001b[1;33m.\u001b[0m\u001b[0mSimulator\u001b[0m \u001b[1;33m=\u001b[0m \u001b[0mself\u001b[0m\u001b[1;33m.\u001b[0m\u001b[0mbuild_simulator\u001b[0m\u001b[1;33m(\u001b[0m\u001b[1;33m)\u001b[0m\u001b[1;33m\u001b[0m\u001b[1;33m\u001b[0m\u001b[0m\n\u001b[0m\u001b[0;32m    134\u001b[0m         \u001b[1;31m# Simulator takes in Nprop as input and generates simbulk\u001b[0m\u001b[1;33m\u001b[0m\u001b[1;33m\u001b[0m\u001b[1;33m\u001b[0m\u001b[0m\n\u001b[0;32m    135\u001b[0m         \u001b[0mz\u001b[0m \u001b[1;33m=\u001b[0m \u001b[1;33m[\u001b[0m\u001b[0mtf\u001b[0m\u001b[1;33m.\u001b[0m\u001b[0mkeras\u001b[0m\u001b[1;33m.\u001b[0m\u001b[0mlayers\u001b[0m\u001b[1;33m.\u001b[0m\u001b[0mInput\u001b[0m\u001b[1;33m(\u001b[0m\u001b[0mshape\u001b[0m\u001b[1;33m=\u001b[0m\u001b[1;33m(\u001b[0m\u001b[1;36m1\u001b[0m\u001b[1;33m,\u001b[0m\u001b[1;33m)\u001b[0m\u001b[1;33m,\u001b[0m \u001b[0mname\u001b[0m\u001b[1;33m=\u001b[0m\u001b[1;34mf'input0_{c}'\u001b[0m\u001b[1;33m)\u001b[0m \u001b[1;32mfor\u001b[0m \u001b[0mc\u001b[0m \u001b[1;32min\u001b[0m \u001b[0mrange\u001b[0m\u001b[1;33m(\u001b[0m\u001b[0mself\u001b[0m\u001b[1;33m.\u001b[0m\u001b[0mn_celltypes\u001b[0m\u001b[1;33m)\u001b[0m\u001b[1;33m]\u001b[0m\u001b[1;33m\u001b[0m\u001b[1;33m\u001b[0m\u001b[0m\n",
      "\u001b[1;32m<ipython-input-12-371969d9a7d8>\u001b[0m in \u001b[0;36mbuild_simulator\u001b[1;34m(self)\u001b[0m\n\u001b[0;32m    170\u001b[0m \u001b[1;31m#         x = tf.keras.layers.Flatten()(x)\u001b[0m\u001b[1;33m\u001b[0m\u001b[1;33m\u001b[0m\u001b[1;33m\u001b[0m\u001b[0m\n\u001b[0;32m    171\u001b[0m         \u001b[0mx\u001b[0m \u001b[1;33m=\u001b[0m \u001b[0mtf\u001b[0m\u001b[1;33m.\u001b[0m\u001b[0mkeras\u001b[0m\u001b[1;33m.\u001b[0m\u001b[0mlayers\u001b[0m\u001b[1;33m.\u001b[0m\u001b[0mLambda\u001b[0m\u001b[1;33m(\u001b[0m\u001b[1;32mlambda\u001b[0m \u001b[0ma\u001b[0m\u001b[1;33m:\u001b[0m \u001b[0mtf\u001b[0m\u001b[1;33m.\u001b[0m\u001b[0mmath\u001b[0m\u001b[1;33m.\u001b[0m\u001b[0mlog1p\u001b[0m\u001b[1;33m(\u001b[0m\u001b[0ma\u001b[0m\u001b[1;33m)\u001b[0m\u001b[1;33m)\u001b[0m\u001b[1;33m(\u001b[0m\u001b[0mx\u001b[0m\u001b[1;33m)\u001b[0m\u001b[1;33m\u001b[0m\u001b[1;33m\u001b[0m\u001b[0m\n\u001b[1;32m--> 172\u001b[1;33m         \u001b[0mx\u001b[0m \u001b[1;33m=\u001b[0m \u001b[0mtf\u001b[0m\u001b[1;33m.\u001b[0m\u001b[0mkeras\u001b[0m\u001b[1;33m.\u001b[0m\u001b[0mlayers\u001b[0m\u001b[1;33m.\u001b[0m\u001b[0mDense\u001b[0m\u001b[1;33m(\u001b[0m\u001b[1;36m256\u001b[0m\u001b[1;33m)\u001b[0m\u001b[1;33m(\u001b[0m\u001b[0mx\u001b[0m\u001b[1;33m)\u001b[0m\u001b[1;33m\u001b[0m\u001b[1;33m\u001b[0m\u001b[0m\n\u001b[0m\u001b[0;32m    173\u001b[0m         \u001b[0mx\u001b[0m \u001b[1;33m=\u001b[0m \u001b[0mtf\u001b[0m\u001b[1;33m.\u001b[0m\u001b[0mkeras\u001b[0m\u001b[1;33m.\u001b[0m\u001b[0mlayers\u001b[0m\u001b[1;33m.\u001b[0m\u001b[0mLeakyReLU\u001b[0m\u001b[1;33m(\u001b[0m\u001b[0malpha\u001b[0m\u001b[1;33m=\u001b[0m\u001b[1;36m0.2\u001b[0m\u001b[1;33m)\u001b[0m\u001b[1;33m(\u001b[0m\u001b[0mx\u001b[0m\u001b[1;33m)\u001b[0m\u001b[1;33m\u001b[0m\u001b[1;33m\u001b[0m\u001b[0m\n\u001b[0;32m    174\u001b[0m         \u001b[0mx\u001b[0m \u001b[1;33m=\u001b[0m \u001b[0mtf\u001b[0m\u001b[1;33m.\u001b[0m\u001b[0mkeras\u001b[0m\u001b[1;33m.\u001b[0m\u001b[0mlayers\u001b[0m\u001b[1;33m.\u001b[0m\u001b[0mLayerNormalization\u001b[0m\u001b[1;33m(\u001b[0m\u001b[0mcenter\u001b[0m\u001b[1;33m=\u001b[0m\u001b[1;32mTrue\u001b[0m\u001b[1;33m,\u001b[0m \u001b[0mscale\u001b[0m\u001b[1;33m=\u001b[0m\u001b[1;32mTrue\u001b[0m\u001b[1;33m)\u001b[0m\u001b[1;33m(\u001b[0m\u001b[0mx\u001b[0m\u001b[1;33m)\u001b[0m\u001b[1;33m\u001b[0m\u001b[1;33m\u001b[0m\u001b[0m\n",
      "\u001b[1;32mc:\\users\\yw_ji\\appdata\\local\\programs\\python\\python37\\lib\\site-packages\\tensorflow\\python\\keras\\engine\\base_layer.py\u001b[0m in \u001b[0;36m__call__\u001b[1;34m(self, *args, **kwargs)\u001b[0m\n\u001b[0;32m    950\u001b[0m     \u001b[1;32mif\u001b[0m \u001b[0m_in_functional_construction_mode\u001b[0m\u001b[1;33m(\u001b[0m\u001b[0mself\u001b[0m\u001b[1;33m,\u001b[0m \u001b[0minputs\u001b[0m\u001b[1;33m,\u001b[0m \u001b[0margs\u001b[0m\u001b[1;33m,\u001b[0m \u001b[0mkwargs\u001b[0m\u001b[1;33m,\u001b[0m \u001b[0minput_list\u001b[0m\u001b[1;33m)\u001b[0m\u001b[1;33m:\u001b[0m\u001b[1;33m\u001b[0m\u001b[1;33m\u001b[0m\u001b[0m\n\u001b[0;32m    951\u001b[0m       return self._functional_construction_call(inputs, args, kwargs,\n\u001b[1;32m--> 952\u001b[1;33m                                                 input_list)\n\u001b[0m\u001b[0;32m    953\u001b[0m \u001b[1;33m\u001b[0m\u001b[0m\n\u001b[0;32m    954\u001b[0m     \u001b[1;31m# Maintains info about the `Layer.call` stack.\u001b[0m\u001b[1;33m\u001b[0m\u001b[1;33m\u001b[0m\u001b[1;33m\u001b[0m\u001b[0m\n",
      "\u001b[1;32mc:\\users\\yw_ji\\appdata\\local\\programs\\python\\python37\\lib\\site-packages\\tensorflow\\python\\keras\\engine\\base_layer.py\u001b[0m in \u001b[0;36m_functional_construction_call\u001b[1;34m(self, inputs, args, kwargs, input_list)\u001b[0m\n\u001b[0;32m   1089\u001b[0m         \u001b[1;31m# Check input assumptions set after layer building, e.g. input shape.\u001b[0m\u001b[1;33m\u001b[0m\u001b[1;33m\u001b[0m\u001b[1;33m\u001b[0m\u001b[0m\n\u001b[0;32m   1090\u001b[0m         outputs = self._keras_tensor_symbolic_call(\n\u001b[1;32m-> 1091\u001b[1;33m             inputs, input_masks, args, kwargs)\n\u001b[0m\u001b[0;32m   1092\u001b[0m \u001b[1;33m\u001b[0m\u001b[0m\n\u001b[0;32m   1093\u001b[0m         \u001b[1;32mif\u001b[0m \u001b[0moutputs\u001b[0m \u001b[1;32mis\u001b[0m \u001b[1;32mNone\u001b[0m\u001b[1;33m:\u001b[0m\u001b[1;33m\u001b[0m\u001b[1;33m\u001b[0m\u001b[0m\n",
      "\u001b[1;32mc:\\users\\yw_ji\\appdata\\local\\programs\\python\\python37\\lib\\site-packages\\tensorflow\\python\\keras\\engine\\base_layer.py\u001b[0m in \u001b[0;36m_keras_tensor_symbolic_call\u001b[1;34m(self, inputs, input_masks, args, kwargs)\u001b[0m\n\u001b[0;32m    820\u001b[0m       \u001b[1;32mreturn\u001b[0m \u001b[0mnest\u001b[0m\u001b[1;33m.\u001b[0m\u001b[0mmap_structure\u001b[0m\u001b[1;33m(\u001b[0m\u001b[0mkeras_tensor\u001b[0m\u001b[1;33m.\u001b[0m\u001b[0mKerasTensor\u001b[0m\u001b[1;33m,\u001b[0m \u001b[0moutput_signature\u001b[0m\u001b[1;33m)\u001b[0m\u001b[1;33m\u001b[0m\u001b[1;33m\u001b[0m\u001b[0m\n\u001b[0;32m    821\u001b[0m     \u001b[1;32melse\u001b[0m\u001b[1;33m:\u001b[0m\u001b[1;33m\u001b[0m\u001b[1;33m\u001b[0m\u001b[0m\n\u001b[1;32m--> 822\u001b[1;33m       \u001b[1;32mreturn\u001b[0m \u001b[0mself\u001b[0m\u001b[1;33m.\u001b[0m\u001b[0m_infer_output_signature\u001b[0m\u001b[1;33m(\u001b[0m\u001b[0minputs\u001b[0m\u001b[1;33m,\u001b[0m \u001b[0margs\u001b[0m\u001b[1;33m,\u001b[0m \u001b[0mkwargs\u001b[0m\u001b[1;33m,\u001b[0m \u001b[0minput_masks\u001b[0m\u001b[1;33m)\u001b[0m\u001b[1;33m\u001b[0m\u001b[1;33m\u001b[0m\u001b[0m\n\u001b[0m\u001b[0;32m    823\u001b[0m \u001b[1;33m\u001b[0m\u001b[0m\n\u001b[0;32m    824\u001b[0m   \u001b[1;32mdef\u001b[0m \u001b[0m_infer_output_signature\u001b[0m\u001b[1;33m(\u001b[0m\u001b[0mself\u001b[0m\u001b[1;33m,\u001b[0m \u001b[0minputs\u001b[0m\u001b[1;33m,\u001b[0m \u001b[0margs\u001b[0m\u001b[1;33m,\u001b[0m \u001b[0mkwargs\u001b[0m\u001b[1;33m,\u001b[0m \u001b[0minput_masks\u001b[0m\u001b[1;33m)\u001b[0m\u001b[1;33m:\u001b[0m\u001b[1;33m\u001b[0m\u001b[1;33m\u001b[0m\u001b[0m\n",
      "\u001b[1;32mc:\\users\\yw_ji\\appdata\\local\\programs\\python\\python37\\lib\\site-packages\\tensorflow\\python\\keras\\engine\\base_layer.py\u001b[0m in \u001b[0;36m_infer_output_signature\u001b[1;34m(self, inputs, args, kwargs, input_masks)\u001b[0m\n\u001b[0;32m    860\u001b[0m           \u001b[1;31m# overridden).\u001b[0m\u001b[1;33m\u001b[0m\u001b[1;33m\u001b[0m\u001b[1;33m\u001b[0m\u001b[0m\n\u001b[0;32m    861\u001b[0m           \u001b[1;31m# TODO(kaftan): do we maybe_build here, or have we already done it?\u001b[0m\u001b[1;33m\u001b[0m\u001b[1;33m\u001b[0m\u001b[1;33m\u001b[0m\u001b[0m\n\u001b[1;32m--> 862\u001b[1;33m           \u001b[0mself\u001b[0m\u001b[1;33m.\u001b[0m\u001b[0m_maybe_build\u001b[0m\u001b[1;33m(\u001b[0m\u001b[0minputs\u001b[0m\u001b[1;33m)\u001b[0m\u001b[1;33m\u001b[0m\u001b[1;33m\u001b[0m\u001b[0m\n\u001b[0m\u001b[0;32m    863\u001b[0m           \u001b[0moutputs\u001b[0m \u001b[1;33m=\u001b[0m \u001b[0mcall_fn\u001b[0m\u001b[1;33m(\u001b[0m\u001b[0minputs\u001b[0m\u001b[1;33m,\u001b[0m \u001b[1;33m*\u001b[0m\u001b[0margs\u001b[0m\u001b[1;33m,\u001b[0m \u001b[1;33m**\u001b[0m\u001b[0mkwargs\u001b[0m\u001b[1;33m)\u001b[0m\u001b[1;33m\u001b[0m\u001b[1;33m\u001b[0m\u001b[0m\n\u001b[0;32m    864\u001b[0m \u001b[1;33m\u001b[0m\u001b[0m\n",
      "\u001b[1;32mc:\\users\\yw_ji\\appdata\\local\\programs\\python\\python37\\lib\\site-packages\\tensorflow\\python\\keras\\engine\\base_layer.py\u001b[0m in \u001b[0;36m_maybe_build\u001b[1;34m(self, inputs)\u001b[0m\n\u001b[0;32m   2683\u001b[0m     \u001b[1;32mif\u001b[0m \u001b[1;32mnot\u001b[0m \u001b[0mself\u001b[0m\u001b[1;33m.\u001b[0m\u001b[0mbuilt\u001b[0m\u001b[1;33m:\u001b[0m\u001b[1;33m\u001b[0m\u001b[1;33m\u001b[0m\u001b[0m\n\u001b[0;32m   2684\u001b[0m       input_spec.assert_input_compatibility(\n\u001b[1;32m-> 2685\u001b[1;33m           self.input_spec, inputs, self.name)\n\u001b[0m\u001b[0;32m   2686\u001b[0m       \u001b[0minput_list\u001b[0m \u001b[1;33m=\u001b[0m \u001b[0mnest\u001b[0m\u001b[1;33m.\u001b[0m\u001b[0mflatten\u001b[0m\u001b[1;33m(\u001b[0m\u001b[0minputs\u001b[0m\u001b[1;33m)\u001b[0m\u001b[1;33m\u001b[0m\u001b[1;33m\u001b[0m\u001b[0m\n\u001b[0;32m   2687\u001b[0m       \u001b[1;32mif\u001b[0m \u001b[0minput_list\u001b[0m \u001b[1;32mand\u001b[0m \u001b[0mself\u001b[0m\u001b[1;33m.\u001b[0m\u001b[0m_dtype_policy\u001b[0m\u001b[1;33m.\u001b[0m\u001b[0mcompute_dtype\u001b[0m \u001b[1;32mis\u001b[0m \u001b[1;32mNone\u001b[0m\u001b[1;33m:\u001b[0m\u001b[1;33m\u001b[0m\u001b[1;33m\u001b[0m\u001b[0m\n",
      "\u001b[1;32mc:\\users\\yw_ji\\appdata\\local\\programs\\python\\python37\\lib\\site-packages\\tensorflow\\python\\keras\\engine\\input_spec.py\u001b[0m in \u001b[0;36massert_input_compatibility\u001b[1;34m(input_spec, inputs, layer_name)\u001b[0m\n\u001b[0;32m    237\u001b[0m                          \u001b[1;34m', found ndim='\u001b[0m \u001b[1;33m+\u001b[0m \u001b[0mstr\u001b[0m\u001b[1;33m(\u001b[0m\u001b[0mndim\u001b[0m\u001b[1;33m)\u001b[0m \u001b[1;33m+\u001b[0m\u001b[1;33m\u001b[0m\u001b[1;33m\u001b[0m\u001b[0m\n\u001b[0;32m    238\u001b[0m                          \u001b[1;34m'. Full shape received: '\u001b[0m \u001b[1;33m+\u001b[0m\u001b[1;33m\u001b[0m\u001b[1;33m\u001b[0m\u001b[0m\n\u001b[1;32m--> 239\u001b[1;33m                          str(tuple(shape)))\n\u001b[0m\u001b[0;32m    240\u001b[0m     \u001b[1;31m# Check dtype.\u001b[0m\u001b[1;33m\u001b[0m\u001b[1;33m\u001b[0m\u001b[1;33m\u001b[0m\u001b[0m\n\u001b[0;32m    241\u001b[0m     \u001b[1;32mif\u001b[0m \u001b[0mspec\u001b[0m\u001b[1;33m.\u001b[0m\u001b[0mdtype\u001b[0m \u001b[1;32mis\u001b[0m \u001b[1;32mnot\u001b[0m \u001b[1;32mNone\u001b[0m\u001b[1;33m:\u001b[0m\u001b[1;33m\u001b[0m\u001b[1;33m\u001b[0m\u001b[0m\n",
      "\u001b[1;31mValueError\u001b[0m: Input 0 of layer dense_10 is incompatible with the layer: : expected min_ndim=2, found ndim=1. Full shape received: (3010,)"
     ]
    }
   ],
   "source": [
    "myModel = AdversarialSimulator(myData('scdata'))"
   ]
  },
  {
   "cell_type": "code",
   "execution_count": 8,
   "metadata": {},
   "outputs": [
    {
     "name": "stderr",
     "output_type": "stream",
     "text": [
      "  0%|          | 0/1000 [00:00<?, ?it/s]"
     ]
    },
    {
     "name": "stdout",
     "output_type": "stream",
     "text": [
      "Step: 0 [D loss: 1.646936, acc.: 50.00%] [G loss: 0.246143]\n"
     ]
    },
    {
     "name": "stderr",
     "output_type": "stream",
     "text": [
      "  0%|          | 1/1000 [01:13<20:17:13, 73.11s/it]"
     ]
    },
    {
     "name": "stdout",
     "output_type": "stream",
     "text": [
      "Step: 1 [D loss: 0.794228, acc.: 50.00%] [G loss: 1.064051]\n"
     ]
    },
    {
     "name": "stderr",
     "output_type": "stream",
     "text": [
      "  0%|          | 2/1000 [01:13<14:12:14, 51.24s/it]"
     ]
    },
    {
     "name": "stdout",
     "output_type": "stream",
     "text": [
      "Step: 2 [D loss: 0.437839, acc.: 100.00%] [G loss: 1.941169]\n",
      "Step: 3 [D loss: 0.438649, acc.: 100.00%] [G loss: 1.948250]\n"
     ]
    },
    {
     "name": "stderr",
     "output_type": "stream",
     "text": [
      "  0%|          | 4/1000 [01:13<9:55:48, 35.89s/it] "
     ]
    },
    {
     "name": "stdout",
     "output_type": "stream",
     "text": [
      "Step: 4 [D loss: 0.274552, acc.: 100.00%] [G loss: 1.977576]\n",
      "Step: 5 [D loss: 0.207969, acc.: 100.00%] [G loss: 2.699950]\n"
     ]
    },
    {
     "name": "stderr",
     "output_type": "stream",
     "text": [
      "  1%|          | 6/1000 [01:13<6:56:38, 25.15s/it]"
     ]
    },
    {
     "name": "stdout",
     "output_type": "stream",
     "text": [
      "Step: 6 [D loss: 0.127630, acc.: 100.00%] [G loss: 2.840358]\n",
      "Step: 7 [D loss: 0.161089, acc.: 100.00%] [G loss: 3.081508]\n"
     ]
    },
    {
     "name": "stderr",
     "output_type": "stream",
     "text": [
      "  1%|          | 8/1000 [01:13<4:51:28, 17.63s/it]"
     ]
    },
    {
     "name": "stdout",
     "output_type": "stream",
     "text": [
      "Step: 8 [D loss: 0.162041, acc.: 100.00%] [G loss: 3.106816]\n",
      "Step: 9 [D loss: 0.080374, acc.: 100.00%] [G loss: 3.308683]\n"
     ]
    },
    {
     "name": "stderr",
     "output_type": "stream",
     "text": [
      "  1%|          | 10/1000 [01:13<3:24:01, 12.37s/it]"
     ]
    },
    {
     "name": "stdout",
     "output_type": "stream",
     "text": [
      "Step: 10 [D loss: 0.068871, acc.: 100.00%] [G loss: 3.445336]\n",
      "Step: 11 [D loss: 0.044136, acc.: 100.00%] [G loss: 3.668658]\n"
     ]
    },
    {
     "name": "stderr",
     "output_type": "stream",
     "text": [
      "  1%|          | 12/1000 [01:14<2:22:56,  8.68s/it]"
     ]
    },
    {
     "name": "stdout",
     "output_type": "stream",
     "text": [
      "Step: 12 [D loss: 0.077947, acc.: 100.00%] [G loss: 3.667607]\n",
      "Step: 13 [D loss: 0.041568, acc.: 100.00%] [G loss: 3.811404]\n"
     ]
    },
    {
     "name": "stderr",
     "output_type": "stream",
     "text": [
      "  1%|▏         | 14/1000 [01:14<1:40:15,  6.10s/it]"
     ]
    },
    {
     "name": "stdout",
     "output_type": "stream",
     "text": [
      "Step: 14 [D loss: 0.039615, acc.: 100.00%] [G loss: 3.866166]\n",
      "Step: 15 [D loss: 0.024036, acc.: 100.00%] [G loss: 4.152997]\n"
     ]
    },
    {
     "name": "stderr",
     "output_type": "stream",
     "text": [
      "  2%|▏         | 16/1000 [01:14<1:10:27,  4.30s/it]"
     ]
    },
    {
     "name": "stdout",
     "output_type": "stream",
     "text": [
      "Step: 16 [D loss: 0.026737, acc.: 100.00%] [G loss: 4.313144]\n",
      "Step: 17 [D loss: 0.017378, acc.: 100.00%] [G loss: 5.064924]\n"
     ]
    },
    {
     "name": "stderr",
     "output_type": "stream",
     "text": [
      "  2%|▏         | 18/1000 [01:14<49:37,  3.03s/it]  "
     ]
    },
    {
     "name": "stdout",
     "output_type": "stream",
     "text": [
      "Step: 18 [D loss: 0.020187, acc.: 100.00%] [G loss: 4.505683]\n",
      "Step: 19 [D loss: 0.032189, acc.: 100.00%] [G loss: 4.196187]\n"
     ]
    },
    {
     "name": "stderr",
     "output_type": "stream",
     "text": [
      "  2%|▏         | 20/1000 [01:14<35:04,  2.15s/it]"
     ]
    },
    {
     "name": "stdout",
     "output_type": "stream",
     "text": [
      "Step: 20 [D loss: 0.012036, acc.: 100.00%] [G loss: 5.092068]\n",
      "Step: 21 [D loss: 0.022939, acc.: 100.00%] [G loss: 4.892183]\n"
     ]
    },
    {
     "name": "stderr",
     "output_type": "stream",
     "text": [
      "  2%|▏         | 22/1000 [01:14<24:54,  1.53s/it]"
     ]
    },
    {
     "name": "stdout",
     "output_type": "stream",
     "text": [
      "Step: 22 [D loss: 0.016569, acc.: 100.00%] [G loss: 4.678298]\n",
      "Step: 23 [D loss: 0.023721, acc.: 100.00%] [G loss: 4.734723]\n"
     ]
    },
    {
     "name": "stderr",
     "output_type": "stream",
     "text": [
      "  2%|▏         | 24/1000 [01:15<17:47,  1.09s/it]"
     ]
    },
    {
     "name": "stdout",
     "output_type": "stream",
     "text": [
      "Step: 24 [D loss: 0.019483, acc.: 100.00%] [G loss: 4.800162]\n",
      "Step: 25 [D loss: 0.012704, acc.: 100.00%] [G loss: 5.217998]\n"
     ]
    },
    {
     "name": "stderr",
     "output_type": "stream",
     "text": [
      "  3%|▎         | 26/1000 [01:15<12:49,  1.27it/s]"
     ]
    },
    {
     "name": "stdout",
     "output_type": "stream",
     "text": [
      "Step: 26 [D loss: 0.016844, acc.: 100.00%] [G loss: 5.354411]\n",
      "Step: 27 [D loss: 0.013569, acc.: 100.00%] [G loss: 5.973701]\n"
     ]
    },
    {
     "name": "stderr",
     "output_type": "stream",
     "text": [
      "  3%|▎         | 28/1000 [01:15<09:21,  1.73it/s]"
     ]
    },
    {
     "name": "stdout",
     "output_type": "stream",
     "text": [
      "Step: 28 [D loss: 0.020976, acc.: 100.00%] [G loss: 5.203756]\n",
      "Step: 29 [D loss: 0.006160, acc.: 100.00%] [G loss: 5.481505]\n"
     ]
    },
    {
     "name": "stderr",
     "output_type": "stream",
     "text": [
      "  3%|▎         | 30/1000 [01:15<06:55,  2.33it/s]"
     ]
    },
    {
     "name": "stdout",
     "output_type": "stream",
     "text": [
      "Step: 30 [D loss: 0.005958, acc.: 100.00%] [G loss: 5.860933]\n",
      "Step: 31 [D loss: 0.005842, acc.: 100.00%] [G loss: 5.579538]\n"
     ]
    },
    {
     "name": "stderr",
     "output_type": "stream",
     "text": [
      "  3%|▎         | 32/1000 [01:15<05:14,  3.08it/s]"
     ]
    },
    {
     "name": "stdout",
     "output_type": "stream",
     "text": [
      "Step: 32 [D loss: 0.004042, acc.: 100.00%] [G loss: 6.527279]\n",
      "Step: 33 [D loss: 0.005780, acc.: 100.00%] [G loss: 5.875699]\n"
     ]
    },
    {
     "name": "stderr",
     "output_type": "stream",
     "text": [
      "  3%|▎         | 34/1000 [01:15<04:02,  3.98it/s]"
     ]
    },
    {
     "name": "stdout",
     "output_type": "stream",
     "text": [
      "Step: 34 [D loss: 0.005212, acc.: 100.00%] [G loss: 5.811258]\n",
      "Step: 35 [D loss: 0.004792, acc.: 100.00%] [G loss: 6.263728]\n"
     ]
    },
    {
     "name": "stderr",
     "output_type": "stream",
     "text": [
      "  4%|▎         | 36/1000 [01:16<03:13,  4.99it/s]"
     ]
    },
    {
     "name": "stdout",
     "output_type": "stream",
     "text": [
      "Step: 36 [D loss: 0.003419, acc.: 100.00%] [G loss: 5.846633]\n",
      "Step: 37 [D loss: 0.004669, acc.: 100.00%] [G loss: 5.816922]\n"
     ]
    },
    {
     "name": "stderr",
     "output_type": "stream",
     "text": [
      "  4%|▍         | 38/1000 [01:16<02:38,  6.07it/s]"
     ]
    },
    {
     "name": "stdout",
     "output_type": "stream",
     "text": [
      "Step: 38 [D loss: 0.006385, acc.: 100.00%] [G loss: 6.007067]\n",
      "Step: 39 [D loss: 0.007052, acc.: 100.00%] [G loss: 5.236130]\n"
     ]
    },
    {
     "name": "stderr",
     "output_type": "stream",
     "text": [
      "  4%|▍         | 40/1000 [01:16<02:14,  7.15it/s]"
     ]
    },
    {
     "name": "stdout",
     "output_type": "stream",
     "text": [
      "Step: 40 [D loss: 0.004661, acc.: 100.00%] [G loss: 6.360093]\n",
      "Step: 41 [D loss: 0.002860, acc.: 100.00%] [G loss: 5.377583]\n"
     ]
    },
    {
     "name": "stderr",
     "output_type": "stream",
     "text": [
      "  4%|▍         | 42/1000 [01:16<01:56,  8.23it/s]"
     ]
    },
    {
     "name": "stdout",
     "output_type": "stream",
     "text": [
      "Step: 42 [D loss: 0.003014, acc.: 100.00%] [G loss: 6.146272]\n",
      "Step: 43 [D loss: 0.005668, acc.: 100.00%] [G loss: 5.736959]\n"
     ]
    },
    {
     "name": "stderr",
     "output_type": "stream",
     "text": [
      "  4%|▍         | 44/1000 [01:16<01:43,  9.20it/s]"
     ]
    },
    {
     "name": "stdout",
     "output_type": "stream",
     "text": [
      "Step: 44 [D loss: 0.002329, acc.: 100.00%] [G loss: 6.053387]\n",
      "Step: 45 [D loss: 0.004140, acc.: 100.00%] [G loss: 6.194346]\n"
     ]
    },
    {
     "name": "stderr",
     "output_type": "stream",
     "text": [
      "  5%|▍         | 46/1000 [01:16<01:35,  9.97it/s]"
     ]
    },
    {
     "name": "stdout",
     "output_type": "stream",
     "text": [
      "Step: 46 [D loss: 0.002597, acc.: 100.00%] [G loss: 6.197581]\n",
      "Step: 47 [D loss: 0.002890, acc.: 100.00%] [G loss: 6.116003]\n"
     ]
    },
    {
     "name": "stderr",
     "output_type": "stream",
     "text": [
      "  5%|▍         | 48/1000 [01:17<01:29, 10.60it/s]"
     ]
    },
    {
     "name": "stdout",
     "output_type": "stream",
     "text": [
      "Step: 48 [D loss: 0.004745, acc.: 100.00%] [G loss: 6.486349]\n",
      "Step: 49 [D loss: 0.002717, acc.: 100.00%] [G loss: 6.347831]\n"
     ]
    },
    {
     "name": "stderr",
     "output_type": "stream",
     "text": [
      "  5%|▌         | 50/1000 [01:17<01:26, 11.00it/s]"
     ]
    },
    {
     "name": "stdout",
     "output_type": "stream",
     "text": [
      "Step: 50 [D loss: 0.002577, acc.: 100.00%] [G loss: 6.336410]\n",
      "Step: 51 [D loss: 0.002951, acc.: 100.00%] [G loss: 6.264555]\n"
     ]
    },
    {
     "name": "stderr",
     "output_type": "stream",
     "text": [
      "  5%|▌         | 52/1000 [01:17<01:23, 11.33it/s]"
     ]
    },
    {
     "name": "stdout",
     "output_type": "stream",
     "text": [
      "Step: 52 [D loss: 0.003870, acc.: 100.00%] [G loss: 6.923349]\n",
      "Step: 53 [D loss: 0.008882, acc.: 100.00%] [G loss: 5.975909]\n"
     ]
    },
    {
     "name": "stderr",
     "output_type": "stream",
     "text": [
      "  5%|▌         | 54/1000 [01:17<01:21, 11.64it/s]"
     ]
    },
    {
     "name": "stdout",
     "output_type": "stream",
     "text": [
      "Step: 54 [D loss: 0.001032, acc.: 100.00%] [G loss: 6.447329]\n",
      "Step: 55 [D loss: 0.002484, acc.: 100.00%] [G loss: 6.826351]\n"
     ]
    },
    {
     "name": "stderr",
     "output_type": "stream",
     "text": [
      "  6%|▌         | 56/1000 [01:17<01:19, 11.82it/s]"
     ]
    },
    {
     "name": "stdout",
     "output_type": "stream",
     "text": [
      "Step: 56 [D loss: 0.002287, acc.: 100.00%] [G loss: 6.420654]\n",
      "Step: 57 [D loss: 0.003415, acc.: 100.00%] [G loss: 6.056478]\n"
     ]
    },
    {
     "name": "stderr",
     "output_type": "stream",
     "text": [
      "  6%|▌         | 58/1000 [01:17<01:18, 12.04it/s]"
     ]
    },
    {
     "name": "stdout",
     "output_type": "stream",
     "text": [
      "Step: 58 [D loss: 0.003569, acc.: 100.00%] [G loss: 6.652602]\n",
      "Step: 59 [D loss: 0.002768, acc.: 100.00%] [G loss: 7.049605]\n"
     ]
    },
    {
     "name": "stderr",
     "output_type": "stream",
     "text": [
      "  6%|▌         | 60/1000 [01:18<01:17, 12.10it/s]"
     ]
    },
    {
     "name": "stdout",
     "output_type": "stream",
     "text": [
      "Step: 60 [D loss: 0.001665, acc.: 100.00%] [G loss: 6.869416]\n",
      "Step: 61 [D loss: 0.001308, acc.: 100.00%] [G loss: 6.441842]\n"
     ]
    },
    {
     "name": "stderr",
     "output_type": "stream",
     "text": [
      "  6%|▌         | 62/1000 [01:18<01:17, 12.15it/s]"
     ]
    },
    {
     "name": "stdout",
     "output_type": "stream",
     "text": [
      "Step: 62 [D loss: 0.000863, acc.: 100.00%] [G loss: 7.344971]\n",
      "Step: 63 [D loss: 0.002124, acc.: 100.00%] [G loss: 6.857797]\n"
     ]
    },
    {
     "name": "stderr",
     "output_type": "stream",
     "text": [
      "  6%|▋         | 64/1000 [01:18<01:17, 12.14it/s]"
     ]
    },
    {
     "name": "stdout",
     "output_type": "stream",
     "text": [
      "Step: 64 [D loss: 0.001023, acc.: 100.00%] [G loss: 7.369140]\n",
      "Step: 65 [D loss: 0.001359, acc.: 100.00%] [G loss: 7.106653]\n"
     ]
    },
    {
     "name": "stderr",
     "output_type": "stream",
     "text": [
      "  7%|▋         | 66/1000 [01:18<01:15, 12.29it/s]"
     ]
    },
    {
     "name": "stdout",
     "output_type": "stream",
     "text": [
      "Step: 66 [D loss: 0.000908, acc.: 100.00%] [G loss: 7.406456]\n",
      "Step: 67 [D loss: 0.001723, acc.: 100.00%] [G loss: 6.639356]\n"
     ]
    },
    {
     "name": "stderr",
     "output_type": "stream",
     "text": [
      "  7%|▋         | 68/1000 [01:18<01:16, 12.19it/s]"
     ]
    },
    {
     "name": "stdout",
     "output_type": "stream",
     "text": [
      "Step: 68 [D loss: 0.001159, acc.: 100.00%] [G loss: 6.878848]\n",
      "Step: 69 [D loss: 0.001322, acc.: 100.00%] [G loss: 7.506294]\n"
     ]
    },
    {
     "name": "stderr",
     "output_type": "stream",
     "text": [
      "  7%|▋         | 70/1000 [01:18<01:15, 12.31it/s]"
     ]
    },
    {
     "name": "stdout",
     "output_type": "stream",
     "text": [
      "Step: 70 [D loss: 0.003797, acc.: 100.00%] [G loss: 6.191331]\n",
      "Step: 71 [D loss: 0.001165, acc.: 100.00%] [G loss: 6.788066]\n"
     ]
    },
    {
     "name": "stderr",
     "output_type": "stream",
     "text": [
      "  7%|▋         | 72/1000 [01:19<01:15, 12.25it/s]"
     ]
    },
    {
     "name": "stdout",
     "output_type": "stream",
     "text": [
      "Step: 72 [D loss: 0.000899, acc.: 100.00%] [G loss: 7.184346]\n",
      "Step: 73 [D loss: 0.001372, acc.: 100.00%] [G loss: 7.139486]\n"
     ]
    },
    {
     "name": "stderr",
     "output_type": "stream",
     "text": [
      "  7%|▋         | 74/1000 [01:19<01:15, 12.21it/s]"
     ]
    },
    {
     "name": "stdout",
     "output_type": "stream",
     "text": [
      "Step: 74 [D loss: 0.000653, acc.: 100.00%] [G loss: 7.069470]\n",
      "Step: 75 [D loss: 0.001235, acc.: 100.00%] [G loss: 7.338398]\n"
     ]
    },
    {
     "name": "stderr",
     "output_type": "stream",
     "text": [
      "  8%|▊         | 76/1000 [01:19<01:15, 12.32it/s]"
     ]
    },
    {
     "name": "stdout",
     "output_type": "stream",
     "text": [
      "Step: 76 [D loss: 0.002918, acc.: 100.00%] [G loss: 6.841933]\n",
      "Step: 77 [D loss: 0.000806, acc.: 100.00%] [G loss: 6.716288]\n"
     ]
    },
    {
     "name": "stderr",
     "output_type": "stream",
     "text": [
      "  8%|▊         | 78/1000 [01:19<01:15, 12.28it/s]"
     ]
    },
    {
     "name": "stdout",
     "output_type": "stream",
     "text": [
      "Step: 78 [D loss: 0.000547, acc.: 100.00%] [G loss: 7.455602]\n",
      "Step: 79 [D loss: 0.000687, acc.: 100.00%] [G loss: 7.114057]\n"
     ]
    },
    {
     "name": "stderr",
     "output_type": "stream",
     "text": [
      "  8%|▊         | 80/1000 [01:19<01:14, 12.34it/s]"
     ]
    },
    {
     "name": "stdout",
     "output_type": "stream",
     "text": [
      "Step: 80 [D loss: 0.002184, acc.: 100.00%] [G loss: 6.977488]\n",
      "Step: 81 [D loss: 0.001520, acc.: 100.00%] [G loss: 6.920814]\n"
     ]
    },
    {
     "name": "stderr",
     "output_type": "stream",
     "text": [
      "  8%|▊         | 82/1000 [01:19<01:14, 12.37it/s]"
     ]
    },
    {
     "name": "stdout",
     "output_type": "stream",
     "text": [
      "Step: 82 [D loss: 0.000955, acc.: 100.00%] [G loss: 6.703695]\n",
      "Step: 83 [D loss: 0.001610, acc.: 100.00%] [G loss: 7.448170]\n"
     ]
    },
    {
     "name": "stderr",
     "output_type": "stream",
     "text": [
      "  8%|▊         | 84/1000 [01:20<01:14, 12.25it/s]"
     ]
    },
    {
     "name": "stdout",
     "output_type": "stream",
     "text": [
      "Step: 84 [D loss: 0.001434, acc.: 100.00%] [G loss: 7.551943]\n",
      "Step: 85 [D loss: 0.000989, acc.: 100.00%] [G loss: 7.064464]\n"
     ]
    },
    {
     "name": "stderr",
     "output_type": "stream",
     "text": [
      "  9%|▊         | 86/1000 [01:20<01:13, 12.37it/s]"
     ]
    },
    {
     "name": "stdout",
     "output_type": "stream",
     "text": [
      "Step: 86 [D loss: 0.001263, acc.: 100.00%] [G loss: 7.195370]\n",
      "Step: 87 [D loss: 0.001051, acc.: 100.00%] [G loss: 7.000938]\n"
     ]
    },
    {
     "name": "stderr",
     "output_type": "stream",
     "text": [
      "  9%|▉         | 88/1000 [01:20<01:13, 12.38it/s]"
     ]
    },
    {
     "name": "stdout",
     "output_type": "stream",
     "text": [
      "Step: 88 [D loss: 0.001075, acc.: 100.00%] [G loss: 6.416843]\n",
      "Step: 89 [D loss: 0.000960, acc.: 100.00%] [G loss: 6.854950]\n"
     ]
    },
    {
     "name": "stderr",
     "output_type": "stream",
     "text": [
      "  9%|▉         | 90/1000 [01:20<01:13, 12.42it/s]"
     ]
    },
    {
     "name": "stdout",
     "output_type": "stream",
     "text": [
      "Step: 90 [D loss: 0.002057, acc.: 100.00%] [G loss: 7.447572]\n",
      "Step: 91 [D loss: 0.000558, acc.: 100.00%] [G loss: 7.820713]\n"
     ]
    },
    {
     "name": "stderr",
     "output_type": "stream",
     "text": [
      "  9%|▉         | 92/1000 [01:20<01:13, 12.42it/s]"
     ]
    },
    {
     "name": "stdout",
     "output_type": "stream",
     "text": [
      "Step: 92 [D loss: 0.000631, acc.: 100.00%] [G loss: 7.614851]\n",
      "Step: 93 [D loss: 0.000530, acc.: 100.00%] [G loss: 7.810421]\n"
     ]
    },
    {
     "name": "stderr",
     "output_type": "stream",
     "text": [
      "  9%|▉         | 94/1000 [01:20<01:13, 12.28it/s]"
     ]
    },
    {
     "name": "stdout",
     "output_type": "stream",
     "text": [
      "Step: 94 [D loss: 0.000598, acc.: 100.00%] [G loss: 7.427395]\n",
      "Step: 95 [D loss: 0.001102, acc.: 100.00%] [G loss: 7.769918]\n"
     ]
    },
    {
     "name": "stderr",
     "output_type": "stream",
     "text": [
      " 10%|▉         | 96/1000 [01:20<01:13, 12.34it/s]"
     ]
    },
    {
     "name": "stdout",
     "output_type": "stream",
     "text": [
      "Step: 96 [D loss: 0.000706, acc.: 100.00%] [G loss: 7.305712]\n",
      "Step: 97 [D loss: 0.000625, acc.: 100.00%] [G loss: 7.493116]\n"
     ]
    },
    {
     "name": "stderr",
     "output_type": "stream",
     "text": [
      " 10%|▉         | 98/1000 [01:21<01:13, 12.34it/s]"
     ]
    },
    {
     "name": "stdout",
     "output_type": "stream",
     "text": [
      "Step: 98 [D loss: 0.001844, acc.: 100.00%] [G loss: 6.855888]\n",
      "Step: 99 [D loss: 0.000667, acc.: 100.00%] [G loss: 7.831414]\n"
     ]
    },
    {
     "name": "stderr",
     "output_type": "stream",
     "text": [
      " 10%|█         | 100/1000 [01:21<01:12, 12.34it/s]"
     ]
    },
    {
     "name": "stdout",
     "output_type": "stream",
     "text": [
      "Step: 100 [D loss: 0.000897, acc.: 100.00%] [G loss: 7.571364]\n",
      "Step: 101 [D loss: 0.001752, acc.: 100.00%] [G loss: 7.432854]\n"
     ]
    },
    {
     "name": "stderr",
     "output_type": "stream",
     "text": [
      " 10%|█         | 102/1000 [01:21<01:12, 12.41it/s]"
     ]
    },
    {
     "name": "stdout",
     "output_type": "stream",
     "text": [
      "Step: 102 [D loss: 0.001101, acc.: 100.00%] [G loss: 7.415797]\n",
      "Step: 103 [D loss: 0.001731, acc.: 100.00%] [G loss: 7.075431]\n"
     ]
    },
    {
     "name": "stderr",
     "output_type": "stream",
     "text": [
      " 10%|█         | 104/1000 [01:21<01:13, 12.14it/s]"
     ]
    },
    {
     "name": "stdout",
     "output_type": "stream",
     "text": [
      "Step: 104 [D loss: 0.000487, acc.: 100.00%] [G loss: 6.786811]\n",
      "Step: 105 [D loss: 0.001295, acc.: 100.00%] [G loss: 7.848993]\n"
     ]
    },
    {
     "name": "stderr",
     "output_type": "stream",
     "text": [
      " 11%|█         | 106/1000 [01:21<01:12, 12.25it/s]"
     ]
    },
    {
     "name": "stdout",
     "output_type": "stream",
     "text": [
      "Step: 106 [D loss: 0.002023, acc.: 100.00%] [G loss: 7.031448]\n",
      "Step: 107 [D loss: 0.000626, acc.: 100.00%] [G loss: 7.326468]\n"
     ]
    },
    {
     "name": "stderr",
     "output_type": "stream",
     "text": [
      " 11%|█         | 108/1000 [01:21<01:12, 12.37it/s]"
     ]
    },
    {
     "name": "stdout",
     "output_type": "stream",
     "text": [
      "Step: 108 [D loss: 0.001151, acc.: 100.00%] [G loss: 6.819026]\n",
      "Step: 109 [D loss: 0.001059, acc.: 100.00%] [G loss: 7.736420]\n"
     ]
    },
    {
     "name": "stderr",
     "output_type": "stream",
     "text": [
      " 11%|█         | 110/1000 [01:22<02:04,  7.17it/s]"
     ]
    },
    {
     "name": "stdout",
     "output_type": "stream",
     "text": [
      "Step: 110 [D loss: 0.000794, acc.: 100.00%] [G loss: 7.681656]\n",
      "Step: 111 [D loss: 0.000461, acc.: 100.00%] [G loss: 7.195276]\n"
     ]
    },
    {
     "name": "stderr",
     "output_type": "stream",
     "text": [
      " 11%|█         | 112/1000 [01:22<01:48,  8.15it/s]"
     ]
    },
    {
     "name": "stdout",
     "output_type": "stream",
     "text": [
      "Step: 112 [D loss: 0.000601, acc.: 100.00%] [G loss: 7.350157]\n",
      "Step: 113 [D loss: 0.001990, acc.: 100.00%] [G loss: 6.816636]\n"
     ]
    },
    {
     "name": "stderr",
     "output_type": "stream",
     "text": [
      " 11%|█▏        | 114/1000 [01:22<01:37,  9.08it/s]"
     ]
    },
    {
     "name": "stdout",
     "output_type": "stream",
     "text": [
      "Step: 114 [D loss: 0.000628, acc.: 100.00%] [G loss: 6.403862]\n",
      "Step: 115 [D loss: 0.000673, acc.: 100.00%] [G loss: 7.333794]\n"
     ]
    },
    {
     "name": "stderr",
     "output_type": "stream",
     "text": [
      " 12%|█▏        | 116/1000 [01:22<01:29,  9.90it/s]"
     ]
    },
    {
     "name": "stdout",
     "output_type": "stream",
     "text": [
      "Step: 116 [D loss: 0.001072, acc.: 100.00%] [G loss: 7.324796]\n",
      "Step: 117 [D loss: 0.000558, acc.: 100.00%] [G loss: 7.491381]\n"
     ]
    },
    {
     "name": "stderr",
     "output_type": "stream",
     "text": [
      " 12%|█▏        | 118/1000 [01:23<01:24, 10.38it/s]"
     ]
    },
    {
     "name": "stdout",
     "output_type": "stream",
     "text": [
      "Step: 118 [D loss: 0.000768, acc.: 100.00%] [G loss: 7.469020]\n",
      "Step: 119 [D loss: 0.000887, acc.: 100.00%] [G loss: 7.888517]\n"
     ]
    },
    {
     "name": "stderr",
     "output_type": "stream",
     "text": [
      " 12%|█▏        | 120/1000 [01:23<01:20, 10.94it/s]"
     ]
    },
    {
     "name": "stdout",
     "output_type": "stream",
     "text": [
      "Step: 120 [D loss: 0.000816, acc.: 100.00%] [G loss: 7.869545]\n",
      "Step: 121 [D loss: 0.000397, acc.: 100.00%] [G loss: 8.561032]\n"
     ]
    },
    {
     "name": "stderr",
     "output_type": "stream",
     "text": [
      " 12%|█▏        | 122/1000 [01:23<01:17, 11.32it/s]"
     ]
    },
    {
     "name": "stdout",
     "output_type": "stream",
     "text": [
      "Step: 122 [D loss: 0.001463, acc.: 100.00%] [G loss: 7.764583]\n",
      "Step: 123 [D loss: 0.000463, acc.: 100.00%] [G loss: 7.640166]\n"
     ]
    },
    {
     "name": "stderr",
     "output_type": "stream",
     "text": [
      " 12%|█▏        | 124/1000 [01:23<01:15, 11.63it/s]"
     ]
    },
    {
     "name": "stdout",
     "output_type": "stream",
     "text": [
      "Step: 124 [D loss: 0.000322, acc.: 100.00%] [G loss: 7.723608]\n",
      "Step: 125 [D loss: 0.001214, acc.: 100.00%] [G loss: 7.807895]\n"
     ]
    },
    {
     "name": "stderr",
     "output_type": "stream",
     "text": [
      " 13%|█▎        | 126/1000 [01:23<01:14, 11.73it/s]"
     ]
    },
    {
     "name": "stdout",
     "output_type": "stream",
     "text": [
      "Step: 126 [D loss: 0.000401, acc.: 100.00%] [G loss: 7.678005]\n",
      "Step: 127 [D loss: 0.000999, acc.: 100.00%] [G loss: 7.310823]\n"
     ]
    },
    {
     "name": "stderr",
     "output_type": "stream",
     "text": [
      " 13%|█▎        | 128/1000 [01:23<01:13, 11.91it/s]"
     ]
    },
    {
     "name": "stdout",
     "output_type": "stream",
     "text": [
      "Step: 128 [D loss: 0.003800, acc.: 100.00%] [G loss: 7.730555]\n",
      "Step: 129 [D loss: 0.000353, acc.: 100.00%] [G loss: 7.542641]\n"
     ]
    },
    {
     "name": "stderr",
     "output_type": "stream",
     "text": [
      " 13%|█▎        | 130/1000 [01:24<01:11, 12.12it/s]"
     ]
    },
    {
     "name": "stdout",
     "output_type": "stream",
     "text": [
      "Step: 130 [D loss: 0.000436, acc.: 100.00%] [G loss: 7.341691]\n",
      "Step: 131 [D loss: 0.001367, acc.: 100.00%] [G loss: 7.836432]\n"
     ]
    },
    {
     "name": "stderr",
     "output_type": "stream",
     "text": [
      " 13%|█▎        | 132/1000 [01:24<01:10, 12.23it/s]"
     ]
    },
    {
     "name": "stdout",
     "output_type": "stream",
     "text": [
      "Step: 132 [D loss: 0.000445, acc.: 100.00%] [G loss: 7.076260]\n",
      "Step: 133 [D loss: 0.000910, acc.: 100.00%] [G loss: 7.481141]\n"
     ]
    },
    {
     "name": "stderr",
     "output_type": "stream",
     "text": [
      " 13%|█▎        | 134/1000 [01:24<01:10, 12.27it/s]"
     ]
    },
    {
     "name": "stdout",
     "output_type": "stream",
     "text": [
      "Step: 134 [D loss: 0.001701, acc.: 100.00%] [G loss: 7.288209]\n",
      "Step: 135 [D loss: 0.000740, acc.: 100.00%] [G loss: 6.546502]\n"
     ]
    },
    {
     "name": "stderr",
     "output_type": "stream",
     "text": [
      " 14%|█▎        | 136/1000 [01:24<01:10, 12.24it/s]"
     ]
    },
    {
     "name": "stdout",
     "output_type": "stream",
     "text": [
      "Step: 136 [D loss: 0.001156, acc.: 100.00%] [G loss: 8.207305]\n",
      "Step: 137 [D loss: 0.001061, acc.: 100.00%] [G loss: 8.003349]\n"
     ]
    },
    {
     "name": "stderr",
     "output_type": "stream",
     "text": [
      " 14%|█▍        | 138/1000 [01:24<01:09, 12.43it/s]"
     ]
    },
    {
     "name": "stdout",
     "output_type": "stream",
     "text": [
      "Step: 138 [D loss: 0.000463, acc.: 100.00%] [G loss: 7.924842]\n",
      "Step: 139 [D loss: 0.000727, acc.: 100.00%] [G loss: 7.996863]\n"
     ]
    },
    {
     "name": "stderr",
     "output_type": "stream",
     "text": [
      " 14%|█▍        | 140/1000 [01:24<01:09, 12.43it/s]"
     ]
    },
    {
     "name": "stdout",
     "output_type": "stream",
     "text": [
      "Step: 140 [D loss: 0.000629, acc.: 100.00%] [G loss: 8.076415]\n",
      "Step: 141 [D loss: 0.000763, acc.: 100.00%] [G loss: 7.657110]\n"
     ]
    },
    {
     "name": "stderr",
     "output_type": "stream",
     "text": [
      " 14%|█▍        | 142/1000 [01:25<01:09, 12.38it/s]"
     ]
    },
    {
     "name": "stdout",
     "output_type": "stream",
     "text": [
      "Step: 142 [D loss: 0.001975, acc.: 100.00%] [G loss: 7.789675]\n",
      "Step: 143 [D loss: 0.000594, acc.: 100.00%] [G loss: 7.736830]\n"
     ]
    },
    {
     "name": "stderr",
     "output_type": "stream",
     "text": [
      " 14%|█▍        | 144/1000 [01:25<01:09, 12.37it/s]"
     ]
    },
    {
     "name": "stdout",
     "output_type": "stream",
     "text": [
      "Step: 144 [D loss: 0.000363, acc.: 100.00%] [G loss: 7.713715]\n",
      "Step: 145 [D loss: 0.000438, acc.: 100.00%] [G loss: 7.438574]\n"
     ]
    },
    {
     "name": "stderr",
     "output_type": "stream",
     "text": [
      " 15%|█▍        | 146/1000 [01:25<01:08, 12.41it/s]"
     ]
    },
    {
     "name": "stdout",
     "output_type": "stream",
     "text": [
      "Step: 146 [D loss: 0.000335, acc.: 100.00%] [G loss: 8.141136]\n",
      "Step: 147 [D loss: 0.000495, acc.: 100.00%] [G loss: 8.077272]\n"
     ]
    },
    {
     "name": "stderr",
     "output_type": "stream",
     "text": [
      " 15%|█▍        | 148/1000 [01:25<01:09, 12.32it/s]"
     ]
    },
    {
     "name": "stdout",
     "output_type": "stream",
     "text": [
      "Step: 148 [D loss: 0.000372, acc.: 100.00%] [G loss: 7.976915]\n",
      "Step: 149 [D loss: 0.001690, acc.: 100.00%] [G loss: 7.105926]\n"
     ]
    },
    {
     "name": "stderr",
     "output_type": "stream",
     "text": [
      " 15%|█▌        | 150/1000 [01:25<01:08, 12.33it/s]"
     ]
    },
    {
     "name": "stdout",
     "output_type": "stream",
     "text": [
      "Step: 150 [D loss: 0.000290, acc.: 100.00%] [G loss: 8.506004]\n",
      "Step: 151 [D loss: 0.000214, acc.: 100.00%] [G loss: 8.446677]\n"
     ]
    },
    {
     "name": "stderr",
     "output_type": "stream",
     "text": [
      " 15%|█▌        | 152/1000 [01:25<01:08, 12.35it/s]"
     ]
    },
    {
     "name": "stdout",
     "output_type": "stream",
     "text": [
      "Step: 152 [D loss: 0.000169, acc.: 100.00%] [G loss: 8.155706]\n",
      "Step: 153 [D loss: 0.000806, acc.: 100.00%] [G loss: 8.091043]\n"
     ]
    },
    {
     "name": "stderr",
     "output_type": "stream",
     "text": [
      " 15%|█▌        | 154/1000 [01:26<01:08, 12.42it/s]"
     ]
    },
    {
     "name": "stdout",
     "output_type": "stream",
     "text": [
      "Step: 154 [D loss: 0.000557, acc.: 100.00%] [G loss: 8.404050]\n",
      "Step: 155 [D loss: 0.000533, acc.: 100.00%] [G loss: 8.139885]\n"
     ]
    },
    {
     "name": "stderr",
     "output_type": "stream",
     "text": [
      " 16%|█▌        | 156/1000 [01:26<01:07, 12.44it/s]"
     ]
    },
    {
     "name": "stdout",
     "output_type": "stream",
     "text": [
      "Step: 156 [D loss: 0.000521, acc.: 100.00%] [G loss: 7.671293]\n",
      "Step: 157 [D loss: 0.000463, acc.: 100.00%] [G loss: 8.163081]\n"
     ]
    },
    {
     "name": "stderr",
     "output_type": "stream",
     "text": [
      " 16%|█▌        | 158/1000 [01:26<01:08, 12.30it/s]"
     ]
    },
    {
     "name": "stdout",
     "output_type": "stream",
     "text": [
      "Step: 158 [D loss: 0.000286, acc.: 100.00%] [G loss: 8.602441]\n",
      "Step: 159 [D loss: 0.000293, acc.: 100.00%] [G loss: 8.022943]\n"
     ]
    },
    {
     "name": "stderr",
     "output_type": "stream",
     "text": [
      " 16%|█▌        | 160/1000 [01:26<01:08, 12.29it/s]"
     ]
    },
    {
     "name": "stdout",
     "output_type": "stream",
     "text": [
      "Step: 160 [D loss: 0.000230, acc.: 100.00%] [G loss: 8.216746]\n",
      "Step: 161 [D loss: 0.000417, acc.: 100.00%] [G loss: 8.457229]\n"
     ]
    },
    {
     "name": "stderr",
     "output_type": "stream",
     "text": [
      " 16%|█▌        | 162/1000 [01:26<01:07, 12.37it/s]"
     ]
    },
    {
     "name": "stdout",
     "output_type": "stream",
     "text": [
      "Step: 162 [D loss: 0.000237, acc.: 100.00%] [G loss: 8.546321]\n",
      "Step: 163 [D loss: 0.000400, acc.: 100.00%] [G loss: 7.951635]\n"
     ]
    },
    {
     "name": "stderr",
     "output_type": "stream",
     "text": [
      " 16%|█▋        | 164/1000 [01:26<01:07, 12.36it/s]"
     ]
    },
    {
     "name": "stdout",
     "output_type": "stream",
     "text": [
      "Step: 164 [D loss: 0.000127, acc.: 100.00%] [G loss: 7.727820]\n",
      "Step: 165 [D loss: 0.000175, acc.: 100.00%] [G loss: 8.677170]\n"
     ]
    },
    {
     "name": "stderr",
     "output_type": "stream",
     "text": [
      " 17%|█▋        | 166/1000 [01:27<01:07, 12.40it/s]"
     ]
    },
    {
     "name": "stdout",
     "output_type": "stream",
     "text": [
      "Step: 166 [D loss: 0.000297, acc.: 100.00%] [G loss: 8.532621]\n",
      "Step: 167 [D loss: 0.000831, acc.: 100.00%] [G loss: 8.767190]\n"
     ]
    },
    {
     "name": "stderr",
     "output_type": "stream",
     "text": [
      " 17%|█▋        | 168/1000 [01:27<01:07, 12.34it/s]"
     ]
    },
    {
     "name": "stdout",
     "output_type": "stream",
     "text": [
      "Step: 168 [D loss: 0.000264, acc.: 100.00%] [G loss: 8.195196]\n",
      "Step: 169 [D loss: 0.000205, acc.: 100.00%] [G loss: 8.464131]\n"
     ]
    },
    {
     "name": "stderr",
     "output_type": "stream",
     "text": [
      " 17%|█▋        | 170/1000 [01:27<01:06, 12.41it/s]"
     ]
    },
    {
     "name": "stdout",
     "output_type": "stream",
     "text": [
      "Step: 170 [D loss: 0.000379, acc.: 100.00%] [G loss: 8.191363]\n",
      "Step: 171 [D loss: 0.000451, acc.: 100.00%] [G loss: 7.755347]\n"
     ]
    },
    {
     "name": "stderr",
     "output_type": "stream",
     "text": [
      " 17%|█▋        | 172/1000 [01:27<01:06, 12.37it/s]"
     ]
    },
    {
     "name": "stdout",
     "output_type": "stream",
     "text": [
      "Step: 172 [D loss: 0.000633, acc.: 100.00%] [G loss: 8.572063]\n",
      "Step: 173 [D loss: 0.000325, acc.: 100.00%] [G loss: 8.284960]\n"
     ]
    },
    {
     "name": "stderr",
     "output_type": "stream",
     "text": [
      " 17%|█▋        | 174/1000 [01:27<01:06, 12.34it/s]"
     ]
    },
    {
     "name": "stdout",
     "output_type": "stream",
     "text": [
      "Step: 174 [D loss: 0.000550, acc.: 100.00%] [G loss: 8.423566]\n",
      "Step: 175 [D loss: 0.000275, acc.: 100.00%] [G loss: 7.767436]\n"
     ]
    },
    {
     "name": "stderr",
     "output_type": "stream",
     "text": [
      " 18%|█▊        | 176/1000 [01:27<01:06, 12.38it/s]"
     ]
    },
    {
     "name": "stdout",
     "output_type": "stream",
     "text": [
      "Step: 176 [D loss: 0.000326, acc.: 100.00%] [G loss: 8.492276]\n",
      "Step: 177 [D loss: 0.000299, acc.: 100.00%] [G loss: 8.055153]\n"
     ]
    },
    {
     "name": "stderr",
     "output_type": "stream",
     "text": [
      " 18%|█▊        | 178/1000 [01:28<01:06, 12.39it/s]"
     ]
    },
    {
     "name": "stdout",
     "output_type": "stream",
     "text": [
      "Step: 178 [D loss: 0.000551, acc.: 100.00%] [G loss: 8.090246]\n",
      "Step: 179 [D loss: 0.000265, acc.: 100.00%] [G loss: 8.100984]\n"
     ]
    },
    {
     "name": "stderr",
     "output_type": "stream",
     "text": [
      " 18%|█▊        | 180/1000 [01:28<01:06, 12.38it/s]"
     ]
    },
    {
     "name": "stdout",
     "output_type": "stream",
     "text": [
      "Step: 180 [D loss: 0.000564, acc.: 100.00%] [G loss: 8.508921]\n",
      "Step: 181 [D loss: 0.000464, acc.: 100.00%] [G loss: 8.531833]\n"
     ]
    },
    {
     "name": "stderr",
     "output_type": "stream",
     "text": [
      " 18%|█▊        | 182/1000 [01:28<01:05, 12.53it/s]"
     ]
    },
    {
     "name": "stdout",
     "output_type": "stream",
     "text": [
      "Step: 182 [D loss: 0.000213, acc.: 100.00%] [G loss: 8.851330]\n",
      "Step: 183 [D loss: 0.000608, acc.: 100.00%] [G loss: 8.495811]\n"
     ]
    },
    {
     "name": "stderr",
     "output_type": "stream",
     "text": [
      " 18%|█▊        | 184/1000 [01:28<01:05, 12.43it/s]"
     ]
    },
    {
     "name": "stdout",
     "output_type": "stream",
     "text": [
      "Step: 184 [D loss: 0.000413, acc.: 100.00%] [G loss: 8.047619]\n",
      "Step: 185 [D loss: 0.000202, acc.: 100.00%] [G loss: 8.519196]\n"
     ]
    },
    {
     "name": "stderr",
     "output_type": "stream",
     "text": [
      " 19%|█▊        | 186/1000 [01:28<01:05, 12.47it/s]"
     ]
    },
    {
     "name": "stdout",
     "output_type": "stream",
     "text": [
      "Step: 186 [D loss: 0.000493, acc.: 100.00%] [G loss: 8.657813]\n",
      "Step: 187 [D loss: 0.000456, acc.: 100.00%] [G loss: 7.532444]\n"
     ]
    },
    {
     "name": "stderr",
     "output_type": "stream",
     "text": [
      " 19%|█▉        | 188/1000 [01:28<01:05, 12.46it/s]"
     ]
    },
    {
     "name": "stdout",
     "output_type": "stream",
     "text": [
      "Step: 188 [D loss: 0.000293, acc.: 100.00%] [G loss: 8.220677]\n",
      "Step: 189 [D loss: 0.000395, acc.: 100.00%] [G loss: 8.919755]\n"
     ]
    },
    {
     "name": "stderr",
     "output_type": "stream",
     "text": [
      " 19%|█▉        | 190/1000 [01:28<01:05, 12.42it/s]"
     ]
    },
    {
     "name": "stdout",
     "output_type": "stream",
     "text": [
      "Step: 190 [D loss: 0.000637, acc.: 100.00%] [G loss: 8.431115]\n",
      "Step: 191 [D loss: 0.000334, acc.: 100.00%] [G loss: 7.854256]\n"
     ]
    },
    {
     "name": "stderr",
     "output_type": "stream",
     "text": [
      " 19%|█▉        | 192/1000 [01:29<01:05, 12.37it/s]"
     ]
    },
    {
     "name": "stdout",
     "output_type": "stream",
     "text": [
      "Step: 192 [D loss: 0.000189, acc.: 100.00%] [G loss: 7.697976]\n",
      "Step: 193 [D loss: 0.000255, acc.: 100.00%] [G loss: 7.932180]\n"
     ]
    },
    {
     "name": "stderr",
     "output_type": "stream",
     "text": [
      " 19%|█▉        | 194/1000 [01:29<01:04, 12.48it/s]"
     ]
    },
    {
     "name": "stdout",
     "output_type": "stream",
     "text": [
      "Step: 194 [D loss: 0.000512, acc.: 100.00%] [G loss: 8.109959]\n",
      "Step: 195 [D loss: 0.000799, acc.: 100.00%] [G loss: 8.581249]\n"
     ]
    },
    {
     "name": "stderr",
     "output_type": "stream",
     "text": [
      " 20%|█▉        | 196/1000 [01:29<01:04, 12.46it/s]"
     ]
    },
    {
     "name": "stdout",
     "output_type": "stream",
     "text": [
      "Step: 196 [D loss: 0.000306, acc.: 100.00%] [G loss: 8.040738]\n",
      "Step: 197 [D loss: 0.000262, acc.: 100.00%] [G loss: 8.676513]\n"
     ]
    },
    {
     "name": "stderr",
     "output_type": "stream",
     "text": [
      " 20%|█▉        | 198/1000 [01:29<01:04, 12.52it/s]"
     ]
    },
    {
     "name": "stdout",
     "output_type": "stream",
     "text": [
      "Step: 198 [D loss: 0.000143, acc.: 100.00%] [G loss: 8.178493]\n",
      "Step: 199 [D loss: 0.000937, acc.: 100.00%] [G loss: 8.832607]\n"
     ]
    },
    {
     "name": "stderr",
     "output_type": "stream",
     "text": [
      " 20%|██        | 200/1000 [01:29<01:04, 12.49it/s]"
     ]
    },
    {
     "name": "stdout",
     "output_type": "stream",
     "text": [
      "Step: 200 [D loss: 0.000365, acc.: 100.00%] [G loss: 8.432414]\n",
      "Step: 201 [D loss: 0.000168, acc.: 100.00%] [G loss: 8.182806]\n"
     ]
    },
    {
     "name": "stderr",
     "output_type": "stream",
     "text": [
      " 20%|██        | 202/1000 [01:29<01:03, 12.52it/s]"
     ]
    },
    {
     "name": "stdout",
     "output_type": "stream",
     "text": [
      "Step: 202 [D loss: 0.000228, acc.: 100.00%] [G loss: 7.956502]\n",
      "Step: 203 [D loss: 0.000208, acc.: 100.00%] [G loss: 8.633945]\n"
     ]
    },
    {
     "name": "stderr",
     "output_type": "stream",
     "text": [
      " 20%|██        | 204/1000 [01:30<01:03, 12.49it/s]"
     ]
    },
    {
     "name": "stdout",
     "output_type": "stream",
     "text": [
      "Step: 204 [D loss: 0.000390, acc.: 100.00%] [G loss: 8.658338]\n",
      "Step: 205 [D loss: 0.000214, acc.: 100.00%] [G loss: 8.292135]\n"
     ]
    },
    {
     "name": "stderr",
     "output_type": "stream",
     "text": [
      " 21%|██        | 206/1000 [01:30<01:03, 12.42it/s]"
     ]
    },
    {
     "name": "stdout",
     "output_type": "stream",
     "text": [
      "Step: 206 [D loss: 0.000221, acc.: 100.00%] [G loss: 8.807194]\n",
      "Step: 207 [D loss: 0.000504, acc.: 100.00%] [G loss: 8.987829]\n"
     ]
    },
    {
     "name": "stderr",
     "output_type": "stream",
     "text": [
      " 21%|██        | 208/1000 [01:30<01:03, 12.51it/s]"
     ]
    },
    {
     "name": "stdout",
     "output_type": "stream",
     "text": [
      "Step: 208 [D loss: 0.000192, acc.: 100.00%] [G loss: 8.756095]\n",
      "Step: 209 [D loss: 0.000136, acc.: 100.00%] [G loss: 8.383131]\n"
     ]
    },
    {
     "name": "stderr",
     "output_type": "stream",
     "text": [
      " 21%|██        | 210/1000 [01:30<01:03, 12.46it/s]"
     ]
    },
    {
     "name": "stdout",
     "output_type": "stream",
     "text": [
      "Step: 210 [D loss: 0.000843, acc.: 100.00%] [G loss: 8.107259]\n",
      "Step: 211 [D loss: 0.000840, acc.: 100.00%] [G loss: 8.183947]\n"
     ]
    },
    {
     "name": "stderr",
     "output_type": "stream",
     "text": [
      " 21%|██        | 212/1000 [01:30<01:04, 12.27it/s]"
     ]
    },
    {
     "name": "stdout",
     "output_type": "stream",
     "text": [
      "Step: 212 [D loss: 0.000561, acc.: 100.00%] [G loss: 9.341195]\n",
      "Step: 213 [D loss: 0.000162, acc.: 100.00%] [G loss: 8.525314]\n"
     ]
    },
    {
     "name": "stderr",
     "output_type": "stream",
     "text": [
      " 21%|██▏       | 214/1000 [01:30<01:03, 12.31it/s]"
     ]
    },
    {
     "name": "stdout",
     "output_type": "stream",
     "text": [
      "Step: 214 [D loss: 0.000227, acc.: 100.00%] [G loss: 7.959173]\n",
      "Step: 215 [D loss: 0.000181, acc.: 100.00%] [G loss: 8.518939]\n"
     ]
    },
    {
     "name": "stderr",
     "output_type": "stream",
     "text": [
      " 22%|██▏       | 216/1000 [01:31<01:03, 12.34it/s]"
     ]
    },
    {
     "name": "stdout",
     "output_type": "stream",
     "text": [
      "Step: 216 [D loss: 0.000173, acc.: 100.00%] [G loss: 9.017185]\n",
      "Step: 217 [D loss: 0.000320, acc.: 100.00%] [G loss: 8.825738]\n"
     ]
    },
    {
     "name": "stderr",
     "output_type": "stream",
     "text": [
      " 22%|██▏       | 218/1000 [01:31<01:03, 12.34it/s]"
     ]
    },
    {
     "name": "stdout",
     "output_type": "stream",
     "text": [
      "Step: 218 [D loss: 0.000449, acc.: 100.00%] [G loss: 9.455525]\n",
      "Step: 219 [D loss: 0.000198, acc.: 100.00%] [G loss: 8.406600]\n"
     ]
    },
    {
     "name": "stderr",
     "output_type": "stream",
     "text": [
      " 22%|██▏       | 220/1000 [01:31<01:02, 12.46it/s]"
     ]
    },
    {
     "name": "stdout",
     "output_type": "stream",
     "text": [
      "Step: 220 [D loss: 0.000538, acc.: 100.00%] [G loss: 8.822742]\n",
      "Step: 221 [D loss: 0.000351, acc.: 100.00%] [G loss: 8.222568]\n"
     ]
    },
    {
     "name": "stderr",
     "output_type": "stream",
     "text": [
      " 22%|██▏       | 222/1000 [01:31<01:03, 12.33it/s]"
     ]
    },
    {
     "name": "stdout",
     "output_type": "stream",
     "text": [
      "Step: 222 [D loss: 0.000431, acc.: 100.00%] [G loss: 8.744394]\n",
      "Step: 223 [D loss: 0.000211, acc.: 100.00%] [G loss: 8.591559]\n"
     ]
    },
    {
     "name": "stderr",
     "output_type": "stream",
     "text": [
      " 22%|██▏       | 224/1000 [01:31<01:03, 12.18it/s]"
     ]
    },
    {
     "name": "stdout",
     "output_type": "stream",
     "text": [
      "Step: 224 [D loss: 0.000220, acc.: 100.00%] [G loss: 8.515323]\n",
      "Step: 225 [D loss: 0.000425, acc.: 100.00%] [G loss: 8.894987]\n"
     ]
    },
    {
     "name": "stderr",
     "output_type": "stream",
     "text": [
      " 23%|██▎       | 226/1000 [01:31<01:03, 12.16it/s]"
     ]
    },
    {
     "name": "stdout",
     "output_type": "stream",
     "text": [
      "Step: 226 [D loss: 0.000147, acc.: 100.00%] [G loss: 8.917839]\n",
      "Step: 227 [D loss: 0.000130, acc.: 100.00%] [G loss: 7.761568]\n"
     ]
    },
    {
     "name": "stderr",
     "output_type": "stream",
     "text": [
      " 23%|██▎       | 228/1000 [01:32<01:03, 12.17it/s]"
     ]
    },
    {
     "name": "stdout",
     "output_type": "stream",
     "text": [
      "Step: 228 [D loss: 0.000319, acc.: 100.00%] [G loss: 8.966380]\n",
      "Step: 229 [D loss: 0.000296, acc.: 100.00%] [G loss: 8.362828]\n"
     ]
    },
    {
     "name": "stderr",
     "output_type": "stream",
     "text": [
      " 23%|██▎       | 230/1000 [01:32<01:02, 12.33it/s]"
     ]
    },
    {
     "name": "stdout",
     "output_type": "stream",
     "text": [
      "Step: 230 [D loss: 0.000495, acc.: 100.00%] [G loss: 8.619416]\n",
      "Step: 231 [D loss: 0.000138, acc.: 100.00%] [G loss: 8.828226]\n"
     ]
    },
    {
     "name": "stderr",
     "output_type": "stream",
     "text": [
      " 23%|██▎       | 232/1000 [01:32<01:02, 12.34it/s]"
     ]
    },
    {
     "name": "stdout",
     "output_type": "stream",
     "text": [
      "Step: 232 [D loss: 0.000263, acc.: 100.00%] [G loss: 8.794927]\n",
      "Step: 233 [D loss: 0.000182, acc.: 100.00%] [G loss: 8.404915]\n"
     ]
    },
    {
     "name": "stderr",
     "output_type": "stream",
     "text": [
      " 23%|██▎       | 234/1000 [01:32<01:01, 12.43it/s]"
     ]
    },
    {
     "name": "stdout",
     "output_type": "stream",
     "text": [
      "Step: 234 [D loss: 0.000134, acc.: 100.00%] [G loss: 8.400703]\n",
      "Step: 235 [D loss: 0.000361, acc.: 100.00%] [G loss: 8.418292]\n"
     ]
    },
    {
     "name": "stderr",
     "output_type": "stream",
     "text": [
      " 24%|██▎       | 236/1000 [01:32<01:01, 12.43it/s]"
     ]
    },
    {
     "name": "stdout",
     "output_type": "stream",
     "text": [
      "Step: 236 [D loss: 0.000260, acc.: 100.00%] [G loss: 8.014704]\n",
      "Step: 237 [D loss: 0.000300, acc.: 100.00%] [G loss: 7.674022]\n"
     ]
    },
    {
     "name": "stderr",
     "output_type": "stream",
     "text": [
      " 24%|██▍       | 238/1000 [01:32<01:01, 12.40it/s]"
     ]
    },
    {
     "name": "stdout",
     "output_type": "stream",
     "text": [
      "Step: 238 [D loss: 0.000487, acc.: 100.00%] [G loss: 8.331831]\n",
      "Step: 239 [D loss: 0.000196, acc.: 100.00%] [G loss: 8.387786]\n"
     ]
    },
    {
     "name": "stderr",
     "output_type": "stream",
     "text": [
      " 24%|██▍       | 240/1000 [01:33<01:00, 12.48it/s]"
     ]
    },
    {
     "name": "stdout",
     "output_type": "stream",
     "text": [
      "Step: 240 [D loss: 0.000333, acc.: 100.00%] [G loss: 8.178740]\n",
      "Step: 241 [D loss: 0.000307, acc.: 100.00%] [G loss: 8.734911]\n"
     ]
    },
    {
     "name": "stderr",
     "output_type": "stream",
     "text": [
      " 24%|██▍       | 242/1000 [01:33<01:00, 12.44it/s]"
     ]
    },
    {
     "name": "stdout",
     "output_type": "stream",
     "text": [
      "Step: 242 [D loss: 0.000197, acc.: 100.00%] [G loss: 8.875343]\n",
      "Step: 243 [D loss: 0.000110, acc.: 100.00%] [G loss: 9.245889]\n"
     ]
    },
    {
     "name": "stderr",
     "output_type": "stream",
     "text": [
      " 24%|██▍       | 244/1000 [01:33<01:01, 12.23it/s]"
     ]
    },
    {
     "name": "stdout",
     "output_type": "stream",
     "text": [
      "Step: 244 [D loss: 0.000400, acc.: 100.00%] [G loss: 8.768704]\n",
      "Step: 245 [D loss: 0.000147, acc.: 100.00%] [G loss: 8.217422]\n"
     ]
    },
    {
     "name": "stderr",
     "output_type": "stream",
     "text": [
      " 25%|██▍       | 246/1000 [01:33<01:01, 12.26it/s]"
     ]
    },
    {
     "name": "stdout",
     "output_type": "stream",
     "text": [
      "Step: 246 [D loss: 0.000214, acc.: 100.00%] [G loss: 8.893469]\n",
      "Step: 247 [D loss: 0.000213, acc.: 100.00%] [G loss: 8.809278]\n"
     ]
    },
    {
     "name": "stderr",
     "output_type": "stream",
     "text": [
      " 25%|██▍       | 248/1000 [01:33<01:01, 12.26it/s]"
     ]
    },
    {
     "name": "stdout",
     "output_type": "stream",
     "text": [
      "Step: 248 [D loss: 0.000164, acc.: 100.00%] [G loss: 9.260754]\n",
      "Step: 249 [D loss: 0.000230, acc.: 100.00%] [G loss: 8.807108]\n"
     ]
    },
    {
     "name": "stderr",
     "output_type": "stream",
     "text": [
      " 25%|██▌       | 250/1000 [01:33<01:00, 12.36it/s]"
     ]
    },
    {
     "name": "stdout",
     "output_type": "stream",
     "text": [
      "Step: 250 [D loss: 0.000201, acc.: 100.00%] [G loss: 8.442296]\n",
      "Step: 251 [D loss: 0.000355, acc.: 100.00%] [G loss: 8.560228]\n"
     ]
    },
    {
     "name": "stderr",
     "output_type": "stream",
     "text": [
      " 25%|██▌       | 252/1000 [01:33<01:00, 12.42it/s]"
     ]
    },
    {
     "name": "stdout",
     "output_type": "stream",
     "text": [
      "Step: 252 [D loss: 0.000427, acc.: 100.00%] [G loss: 8.644034]\n",
      "Step: 253 [D loss: 0.000170, acc.: 100.00%] [G loss: 8.814456]\n"
     ]
    },
    {
     "name": "stderr",
     "output_type": "stream",
     "text": [
      " 25%|██▌       | 254/1000 [01:34<01:00, 12.31it/s]"
     ]
    },
    {
     "name": "stdout",
     "output_type": "stream",
     "text": [
      "Step: 254 [D loss: 0.000248, acc.: 100.00%] [G loss: 9.149840]\n",
      "Step: 255 [D loss: 0.007535, acc.: 100.00%] [G loss: 6.795023]\n"
     ]
    },
    {
     "name": "stderr",
     "output_type": "stream",
     "text": [
      " 26%|██▌       | 256/1000 [01:34<00:59, 12.41it/s]"
     ]
    },
    {
     "name": "stdout",
     "output_type": "stream",
     "text": [
      "Step: 256 [D loss: 0.000312, acc.: 100.00%] [G loss: 8.689633]\n",
      "Step: 257 [D loss: 0.000167, acc.: 100.00%] [G loss: 8.348029]\n"
     ]
    },
    {
     "name": "stderr",
     "output_type": "stream",
     "text": [
      " 26%|██▌       | 258/1000 [01:34<00:59, 12.55it/s]"
     ]
    },
    {
     "name": "stdout",
     "output_type": "stream",
     "text": [
      "Step: 258 [D loss: 0.000125, acc.: 100.00%] [G loss: 8.744087]\n",
      "Step: 259 [D loss: 0.000095, acc.: 100.00%] [G loss: 8.242120]\n"
     ]
    },
    {
     "name": "stderr",
     "output_type": "stream",
     "text": [
      " 26%|██▌       | 260/1000 [01:34<00:59, 12.51it/s]"
     ]
    },
    {
     "name": "stdout",
     "output_type": "stream",
     "text": [
      "Step: 260 [D loss: 0.000232, acc.: 100.00%] [G loss: 8.477534]\n",
      "Step: 261 [D loss: 0.000511, acc.: 100.00%] [G loss: 9.545612]\n"
     ]
    },
    {
     "name": "stderr",
     "output_type": "stream",
     "text": [
      " 26%|██▌       | 262/1000 [01:34<00:58, 12.60it/s]"
     ]
    },
    {
     "name": "stdout",
     "output_type": "stream",
     "text": [
      "Step: 262 [D loss: 0.000200, acc.: 100.00%] [G loss: 8.421539]\n",
      "Step: 263 [D loss: 0.001806, acc.: 100.00%] [G loss: 7.723107]\n"
     ]
    },
    {
     "name": "stderr",
     "output_type": "stream",
     "text": [
      " 26%|██▋       | 264/1000 [01:34<00:58, 12.59it/s]"
     ]
    },
    {
     "name": "stdout",
     "output_type": "stream",
     "text": [
      "Step: 264 [D loss: 0.000201, acc.: 100.00%] [G loss: 7.781857]\n",
      "Step: 265 [D loss: 0.000502, acc.: 100.00%] [G loss: 6.932871]\n"
     ]
    },
    {
     "name": "stderr",
     "output_type": "stream",
     "text": [
      " 27%|██▋       | 266/1000 [01:35<00:58, 12.61it/s]"
     ]
    },
    {
     "name": "stdout",
     "output_type": "stream",
     "text": [
      "Step: 266 [D loss: 0.000124, acc.: 100.00%] [G loss: 9.170442]\n",
      "Step: 267 [D loss: 0.000322, acc.: 100.00%] [G loss: 8.216253]\n"
     ]
    },
    {
     "name": "stderr",
     "output_type": "stream",
     "text": [
      " 27%|██▋       | 268/1000 [01:35<00:57, 12.63it/s]"
     ]
    },
    {
     "name": "stdout",
     "output_type": "stream",
     "text": [
      "Step: 268 [D loss: 0.000173, acc.: 100.00%] [G loss: 8.600165]\n",
      "Step: 269 [D loss: 0.000260, acc.: 100.00%] [G loss: 8.703702]\n"
     ]
    },
    {
     "name": "stderr",
     "output_type": "stream",
     "text": [
      " 27%|██▋       | 270/1000 [01:35<00:58, 12.52it/s]"
     ]
    },
    {
     "name": "stdout",
     "output_type": "stream",
     "text": [
      "Step: 270 [D loss: 0.000138, acc.: 100.00%] [G loss: 8.987590]\n",
      "Step: 271 [D loss: 0.000532, acc.: 100.00%] [G loss: 7.950660]\n"
     ]
    },
    {
     "name": "stderr",
     "output_type": "stream",
     "text": [
      " 27%|██▋       | 272/1000 [01:35<00:58, 12.53it/s]"
     ]
    },
    {
     "name": "stdout",
     "output_type": "stream",
     "text": [
      "Step: 272 [D loss: 0.000188, acc.: 100.00%] [G loss: 7.984710]\n",
      "Step: 273 [D loss: 0.000227, acc.: 100.00%] [G loss: 8.348951]\n"
     ]
    },
    {
     "name": "stderr",
     "output_type": "stream",
     "text": [
      " 27%|██▋       | 274/1000 [01:35<00:58, 12.43it/s]"
     ]
    },
    {
     "name": "stdout",
     "output_type": "stream",
     "text": [
      "Step: 274 [D loss: 0.000273, acc.: 100.00%] [G loss: 8.942000]\n",
      "Step: 275 [D loss: 0.000115, acc.: 100.00%] [G loss: 9.032742]\n"
     ]
    },
    {
     "name": "stderr",
     "output_type": "stream",
     "text": [
      " 28%|██▊       | 276/1000 [01:35<00:58, 12.38it/s]"
     ]
    },
    {
     "name": "stdout",
     "output_type": "stream",
     "text": [
      "Step: 276 [D loss: 0.000142, acc.: 100.00%] [G loss: 8.491142]\n",
      "Step: 277 [D loss: 0.000116, acc.: 100.00%] [G loss: 9.120825]\n"
     ]
    },
    {
     "name": "stderr",
     "output_type": "stream",
     "text": [
      " 28%|██▊       | 278/1000 [01:36<00:57, 12.46it/s]"
     ]
    },
    {
     "name": "stdout",
     "output_type": "stream",
     "text": [
      "Step: 278 [D loss: 0.000131, acc.: 100.00%] [G loss: 9.312327]\n",
      "Step: 279 [D loss: 0.000445, acc.: 100.00%] [G loss: 7.984221]\n"
     ]
    },
    {
     "name": "stderr",
     "output_type": "stream",
     "text": [
      " 28%|██▊       | 280/1000 [01:36<00:58, 12.40it/s]"
     ]
    },
    {
     "name": "stdout",
     "output_type": "stream",
     "text": [
      "Step: 280 [D loss: 0.000191, acc.: 100.00%] [G loss: 8.733054]\n",
      "Step: 281 [D loss: 0.000447, acc.: 100.00%] [G loss: 8.379806]\n"
     ]
    },
    {
     "name": "stderr",
     "output_type": "stream",
     "text": [
      " 28%|██▊       | 282/1000 [01:36<00:57, 12.43it/s]"
     ]
    },
    {
     "name": "stdout",
     "output_type": "stream",
     "text": [
      "Step: 282 [D loss: 0.000402, acc.: 100.00%] [G loss: 8.767848]\n",
      "Step: 283 [D loss: 0.000122, acc.: 100.00%] [G loss: 8.749991]\n"
     ]
    },
    {
     "name": "stderr",
     "output_type": "stream",
     "text": [
      " 28%|██▊       | 284/1000 [01:36<00:57, 12.43it/s]"
     ]
    },
    {
     "name": "stdout",
     "output_type": "stream",
     "text": [
      "Step: 284 [D loss: 0.000112, acc.: 100.00%] [G loss: 8.692484]\n",
      "Step: 285 [D loss: 0.000129, acc.: 100.00%] [G loss: 8.806672]\n"
     ]
    },
    {
     "name": "stderr",
     "output_type": "stream",
     "text": [
      " 29%|██▊       | 286/1000 [01:36<00:58, 12.31it/s]"
     ]
    },
    {
     "name": "stdout",
     "output_type": "stream",
     "text": [
      "Step: 286 [D loss: 0.000159, acc.: 100.00%] [G loss: 8.589161]\n",
      "Step: 287 [D loss: 0.000236, acc.: 100.00%] [G loss: 9.014557]\n"
     ]
    },
    {
     "name": "stderr",
     "output_type": "stream",
     "text": [
      " 29%|██▉       | 288/1000 [01:36<00:57, 12.39it/s]"
     ]
    },
    {
     "name": "stdout",
     "output_type": "stream",
     "text": [
      "Step: 288 [D loss: 0.000151, acc.: 100.00%] [G loss: 8.113309]\n",
      "Step: 289 [D loss: 0.000096, acc.: 100.00%] [G loss: 8.454089]\n"
     ]
    },
    {
     "name": "stderr",
     "output_type": "stream",
     "text": [
      " 29%|██▉       | 290/1000 [01:37<00:56, 12.47it/s]"
     ]
    },
    {
     "name": "stdout",
     "output_type": "stream",
     "text": [
      "Step: 290 [D loss: 0.000219, acc.: 100.00%] [G loss: 9.232611]\n",
      "Step: 291 [D loss: 0.001427, acc.: 100.00%] [G loss: 8.424049]\n"
     ]
    },
    {
     "name": "stderr",
     "output_type": "stream",
     "text": [
      " 29%|██▉       | 292/1000 [01:37<00:56, 12.45it/s]"
     ]
    },
    {
     "name": "stdout",
     "output_type": "stream",
     "text": [
      "Step: 292 [D loss: 0.000210, acc.: 100.00%] [G loss: 7.684995]\n",
      "Step: 293 [D loss: 0.000162, acc.: 100.00%] [G loss: 7.810296]\n"
     ]
    },
    {
     "name": "stderr",
     "output_type": "stream",
     "text": [
      " 29%|██▉       | 294/1000 [01:37<00:56, 12.51it/s]"
     ]
    },
    {
     "name": "stdout",
     "output_type": "stream",
     "text": [
      "Step: 294 [D loss: 0.000200, acc.: 100.00%] [G loss: 9.364961]\n",
      "Step: 295 [D loss: 0.000087, acc.: 100.00%] [G loss: 8.608195]\n"
     ]
    },
    {
     "name": "stderr",
     "output_type": "stream",
     "text": [
      " 30%|██▉       | 296/1000 [01:37<00:56, 12.48it/s]"
     ]
    },
    {
     "name": "stdout",
     "output_type": "stream",
     "text": [
      "Step: 296 [D loss: 0.000110, acc.: 100.00%] [G loss: 9.006993]\n",
      "Step: 297 [D loss: 0.000271, acc.: 100.00%] [G loss: 8.764215]\n"
     ]
    },
    {
     "name": "stderr",
     "output_type": "stream",
     "text": [
      " 30%|██▉       | 298/1000 [01:37<00:56, 12.47it/s]"
     ]
    },
    {
     "name": "stdout",
     "output_type": "stream",
     "text": [
      "Step: 298 [D loss: 0.000166, acc.: 100.00%] [G loss: 8.145321]\n",
      "Step: 299 [D loss: 0.000070, acc.: 100.00%] [G loss: 9.157296]\n"
     ]
    },
    {
     "name": "stderr",
     "output_type": "stream",
     "text": [
      " 30%|███       | 300/1000 [01:37<00:56, 12.31it/s]"
     ]
    },
    {
     "name": "stdout",
     "output_type": "stream",
     "text": [
      "Step: 300 [D loss: 0.000100, acc.: 100.00%] [G loss: 9.081981]\n",
      "Step: 301 [D loss: 0.000091, acc.: 100.00%] [G loss: 9.252101]\n"
     ]
    },
    {
     "name": "stderr",
     "output_type": "stream",
     "text": [
      " 30%|███       | 302/1000 [01:38<00:56, 12.32it/s]"
     ]
    },
    {
     "name": "stdout",
     "output_type": "stream",
     "text": [
      "Step: 302 [D loss: 0.000059, acc.: 100.00%] [G loss: 9.875375]\n",
      "Step: 303 [D loss: 0.000087, acc.: 100.00%] [G loss: 9.373997]\n"
     ]
    },
    {
     "name": "stderr",
     "output_type": "stream",
     "text": [
      " 30%|███       | 304/1000 [01:38<00:56, 12.35it/s]"
     ]
    },
    {
     "name": "stdout",
     "output_type": "stream",
     "text": [
      "Step: 304 [D loss: 0.000189, acc.: 100.00%] [G loss: 9.616158]\n",
      "Step: 305 [D loss: 0.000090, acc.: 100.00%] [G loss: 9.336683]\n"
     ]
    },
    {
     "name": "stderr",
     "output_type": "stream",
     "text": [
      " 31%|███       | 306/1000 [01:38<00:57, 12.17it/s]"
     ]
    },
    {
     "name": "stdout",
     "output_type": "stream",
     "text": [
      "Step: 306 [D loss: 0.000230, acc.: 100.00%] [G loss: 8.810736]\n",
      "Step: 307 [D loss: 0.000119, acc.: 100.00%] [G loss: 9.186827]\n"
     ]
    },
    {
     "name": "stderr",
     "output_type": "stream",
     "text": [
      " 31%|███       | 308/1000 [01:38<00:56, 12.29it/s]"
     ]
    },
    {
     "name": "stdout",
     "output_type": "stream",
     "text": [
      "Step: 308 [D loss: 0.000298, acc.: 100.00%] [G loss: 8.441810]\n",
      "Step: 309 [D loss: 0.000069, acc.: 100.00%] [G loss: 9.404576]\n"
     ]
    },
    {
     "name": "stderr",
     "output_type": "stream",
     "text": [
      " 31%|███       | 310/1000 [01:38<00:55, 12.35it/s]"
     ]
    },
    {
     "name": "stdout",
     "output_type": "stream",
     "text": [
      "Step: 310 [D loss: 0.000100, acc.: 100.00%] [G loss: 9.913136]\n",
      "Step: 311 [D loss: 0.000110, acc.: 100.00%] [G loss: 9.791848]\n"
     ]
    },
    {
     "name": "stderr",
     "output_type": "stream",
     "text": [
      " 31%|███       | 312/1000 [01:38<00:55, 12.35it/s]"
     ]
    },
    {
     "name": "stdout",
     "output_type": "stream",
     "text": [
      "Step: 312 [D loss: 0.000059, acc.: 100.00%] [G loss: 9.432899]\n",
      "Step: 313 [D loss: 0.000069, acc.: 100.00%] [G loss: 9.293814]\n"
     ]
    },
    {
     "name": "stderr",
     "output_type": "stream",
     "text": [
      " 31%|███▏      | 314/1000 [01:38<00:55, 12.39it/s]"
     ]
    },
    {
     "name": "stdout",
     "output_type": "stream",
     "text": [
      "Step: 314 [D loss: 0.000165, acc.: 100.00%] [G loss: 10.057717]\n",
      "Step: 315 [D loss: 0.000086, acc.: 100.00%] [G loss: 10.003451]\n"
     ]
    },
    {
     "name": "stderr",
     "output_type": "stream",
     "text": [
      " 32%|███▏      | 316/1000 [01:39<00:55, 12.35it/s]"
     ]
    },
    {
     "name": "stdout",
     "output_type": "stream",
     "text": [
      "Step: 316 [D loss: 0.000175, acc.: 100.00%] [G loss: 9.948233]\n",
      "Step: 317 [D loss: 0.000094, acc.: 100.00%] [G loss: 9.903967]\n"
     ]
    },
    {
     "name": "stderr",
     "output_type": "stream",
     "text": [
      " 32%|███▏      | 318/1000 [01:39<00:55, 12.33it/s]"
     ]
    },
    {
     "name": "stdout",
     "output_type": "stream",
     "text": [
      "Step: 318 [D loss: 0.000081, acc.: 100.00%] [G loss: 8.580843]\n",
      "Step: 319 [D loss: 0.000100, acc.: 100.00%] [G loss: 9.849716]\n"
     ]
    },
    {
     "name": "stderr",
     "output_type": "stream",
     "text": [
      " 32%|███▏      | 320/1000 [01:39<00:54, 12.45it/s]"
     ]
    },
    {
     "name": "stdout",
     "output_type": "stream",
     "text": [
      "Step: 320 [D loss: 0.000073, acc.: 100.00%] [G loss: 8.972457]\n",
      "Step: 321 [D loss: 0.000367, acc.: 100.00%] [G loss: 10.310822]\n"
     ]
    },
    {
     "name": "stderr",
     "output_type": "stream",
     "text": [
      " 32%|███▏      | 322/1000 [01:39<00:54, 12.49it/s]"
     ]
    },
    {
     "name": "stdout",
     "output_type": "stream",
     "text": [
      "Step: 322 [D loss: 0.000049, acc.: 100.00%] [G loss: 9.902878]\n",
      "Step: 323 [D loss: 0.000509, acc.: 100.00%] [G loss: 8.443988]\n"
     ]
    },
    {
     "name": "stderr",
     "output_type": "stream",
     "text": [
      " 32%|███▏      | 324/1000 [01:39<00:54, 12.42it/s]"
     ]
    },
    {
     "name": "stdout",
     "output_type": "stream",
     "text": [
      "Step: 324 [D loss: 0.000055, acc.: 100.00%] [G loss: 9.698705]\n",
      "Step: 325 [D loss: 0.000081, acc.: 100.00%] [G loss: 8.394679]\n"
     ]
    },
    {
     "name": "stderr",
     "output_type": "stream",
     "text": [
      " 33%|███▎      | 326/1000 [01:39<00:54, 12.44it/s]"
     ]
    },
    {
     "name": "stdout",
     "output_type": "stream",
     "text": [
      "Step: 326 [D loss: 0.000261, acc.: 100.00%] [G loss: 8.792788]\n",
      "Step: 327 [D loss: 0.000225, acc.: 100.00%] [G loss: 9.615061]\n"
     ]
    },
    {
     "name": "stderr",
     "output_type": "stream",
     "text": [
      " 33%|███▎      | 328/1000 [01:40<00:53, 12.48it/s]"
     ]
    },
    {
     "name": "stdout",
     "output_type": "stream",
     "text": [
      "Step: 328 [D loss: 0.000083, acc.: 100.00%] [G loss: 8.508794]\n",
      "Step: 329 [D loss: 0.000089, acc.: 100.00%] [G loss: 9.218751]\n"
     ]
    },
    {
     "name": "stderr",
     "output_type": "stream",
     "text": [
      " 33%|███▎      | 330/1000 [01:40<00:53, 12.51it/s]"
     ]
    },
    {
     "name": "stdout",
     "output_type": "stream",
     "text": [
      "Step: 330 [D loss: 0.000055, acc.: 100.00%] [G loss: 9.701840]\n",
      "Step: 331 [D loss: 0.005226, acc.: 100.00%] [G loss: 5.827863]\n"
     ]
    },
    {
     "name": "stderr",
     "output_type": "stream",
     "text": [
      " 33%|███▎      | 332/1000 [01:40<00:53, 12.46it/s]"
     ]
    },
    {
     "name": "stdout",
     "output_type": "stream",
     "text": [
      "Step: 332 [D loss: 0.001106, acc.: 100.00%] [G loss: 6.802175]\n",
      "Step: 333 [D loss: 0.000203, acc.: 100.00%] [G loss: 8.155235]\n"
     ]
    },
    {
     "name": "stderr",
     "output_type": "stream",
     "text": [
      " 33%|███▎      | 334/1000 [01:40<00:53, 12.42it/s]"
     ]
    },
    {
     "name": "stdout",
     "output_type": "stream",
     "text": [
      "Step: 334 [D loss: 0.000128, acc.: 100.00%] [G loss: 8.527401]\n",
      "Step: 335 [D loss: 0.000182, acc.: 100.00%] [G loss: 8.773438]\n"
     ]
    },
    {
     "name": "stderr",
     "output_type": "stream",
     "text": [
      " 34%|███▎      | 336/1000 [01:40<00:53, 12.42it/s]"
     ]
    },
    {
     "name": "stdout",
     "output_type": "stream",
     "text": [
      "Step: 336 [D loss: 0.000100, acc.: 100.00%] [G loss: 8.614799]\n",
      "Step: 337 [D loss: 0.000083, acc.: 100.00%] [G loss: 9.266558]\n"
     ]
    },
    {
     "name": "stderr",
     "output_type": "stream",
     "text": [
      " 34%|███▍      | 338/1000 [01:40<00:53, 12.47it/s]"
     ]
    },
    {
     "name": "stdout",
     "output_type": "stream",
     "text": [
      "Step: 338 [D loss: 0.000086, acc.: 100.00%] [G loss: 8.859748]\n",
      "Step: 339 [D loss: 0.000568, acc.: 100.00%] [G loss: 7.780435]\n"
     ]
    },
    {
     "name": "stderr",
     "output_type": "stream",
     "text": [
      " 34%|███▍      | 340/1000 [01:41<00:53, 12.32it/s]"
     ]
    },
    {
     "name": "stdout",
     "output_type": "stream",
     "text": [
      "Step: 340 [D loss: 0.000054, acc.: 100.00%] [G loss: 9.284321]\n",
      "Step: 341 [D loss: 0.000106, acc.: 100.00%] [G loss: 9.488709]\n"
     ]
    },
    {
     "name": "stderr",
     "output_type": "stream",
     "text": [
      " 34%|███▍      | 342/1000 [01:41<00:53, 12.35it/s]"
     ]
    },
    {
     "name": "stdout",
     "output_type": "stream",
     "text": [
      "Step: 342 [D loss: 0.000113, acc.: 100.00%] [G loss: 9.732589]\n",
      "Step: 343 [D loss: 0.000050, acc.: 100.00%] [G loss: 9.083822]\n"
     ]
    },
    {
     "name": "stderr",
     "output_type": "stream",
     "text": [
      " 34%|███▍      | 344/1000 [01:41<00:53, 12.37it/s]"
     ]
    },
    {
     "name": "stdout",
     "output_type": "stream",
     "text": [
      "Step: 344 [D loss: 0.000064, acc.: 100.00%] [G loss: 9.419711]\n",
      "Step: 345 [D loss: 0.000152, acc.: 100.00%] [G loss: 8.792026]\n"
     ]
    },
    {
     "name": "stderr",
     "output_type": "stream",
     "text": [
      " 35%|███▍      | 346/1000 [01:41<00:52, 12.45it/s]"
     ]
    },
    {
     "name": "stdout",
     "output_type": "stream",
     "text": [
      "Step: 346 [D loss: 0.000089, acc.: 100.00%] [G loss: 9.567841]\n",
      "Step: 347 [D loss: 0.000056, acc.: 100.00%] [G loss: 9.766638]\n"
     ]
    },
    {
     "name": "stderr",
     "output_type": "stream",
     "text": [
      " 35%|███▍      | 348/1000 [01:41<00:52, 12.37it/s]"
     ]
    },
    {
     "name": "stdout",
     "output_type": "stream",
     "text": [
      "Step: 348 [D loss: 0.000070, acc.: 100.00%] [G loss: 9.780890]\n",
      "Step: 349 [D loss: 0.000063, acc.: 100.00%] [G loss: 9.746348]\n"
     ]
    },
    {
     "name": "stderr",
     "output_type": "stream",
     "text": [
      " 35%|███▌      | 350/1000 [01:41<00:53, 12.18it/s]"
     ]
    },
    {
     "name": "stdout",
     "output_type": "stream",
     "text": [
      "Step: 350 [D loss: 0.000373, acc.: 100.00%] [G loss: 9.169234]\n",
      "Step: 351 [D loss: 0.000541, acc.: 100.00%] [G loss: 9.640870]\n"
     ]
    },
    {
     "name": "stderr",
     "output_type": "stream",
     "text": [
      " 35%|███▌      | 352/1000 [01:42<00:52, 12.23it/s]"
     ]
    },
    {
     "name": "stdout",
     "output_type": "stream",
     "text": [
      "Step: 352 [D loss: 0.001452, acc.: 100.00%] [G loss: 8.356987]\n",
      "Step: 353 [D loss: 0.000212, acc.: 100.00%] [G loss: 8.560350]\n"
     ]
    },
    {
     "name": "stderr",
     "output_type": "stream",
     "text": [
      " 35%|███▌      | 354/1000 [01:42<00:52, 12.38it/s]"
     ]
    },
    {
     "name": "stdout",
     "output_type": "stream",
     "text": [
      "Step: 354 [D loss: 0.000142, acc.: 100.00%] [G loss: 8.699301]\n",
      "Step: 355 [D loss: 0.000164, acc.: 100.00%] [G loss: 9.008355]\n"
     ]
    },
    {
     "name": "stderr",
     "output_type": "stream",
     "text": [
      " 36%|███▌      | 356/1000 [01:42<00:52, 12.37it/s]"
     ]
    },
    {
     "name": "stdout",
     "output_type": "stream",
     "text": [
      "Step: 356 [D loss: 0.000099, acc.: 100.00%] [G loss: 9.041588]\n",
      "Step: 357 [D loss: 0.000091, acc.: 100.00%] [G loss: 8.514132]\n"
     ]
    },
    {
     "name": "stderr",
     "output_type": "stream",
     "text": [
      " 36%|███▌      | 358/1000 [01:42<00:51, 12.41it/s]"
     ]
    },
    {
     "name": "stdout",
     "output_type": "stream",
     "text": [
      "Step: 358 [D loss: 0.000104, acc.: 100.00%] [G loss: 9.972215]\n",
      "Step: 359 [D loss: 0.000169, acc.: 100.00%] [G loss: 9.122035]\n"
     ]
    },
    {
     "name": "stderr",
     "output_type": "stream",
     "text": [
      " 36%|███▌      | 360/1000 [01:42<00:51, 12.32it/s]"
     ]
    },
    {
     "name": "stdout",
     "output_type": "stream",
     "text": [
      "Step: 360 [D loss: 0.000064, acc.: 100.00%] [G loss: 9.276294]\n",
      "Step: 361 [D loss: 0.000375, acc.: 100.00%] [G loss: 9.463525]\n"
     ]
    },
    {
     "name": "stderr",
     "output_type": "stream",
     "text": [
      " 36%|███▌      | 362/1000 [01:42<00:52, 12.24it/s]"
     ]
    },
    {
     "name": "stdout",
     "output_type": "stream",
     "text": [
      "Step: 362 [D loss: 0.000165, acc.: 100.00%] [G loss: 9.325102]\n",
      "Step: 363 [D loss: 0.000083, acc.: 100.00%] [G loss: 9.328032]\n"
     ]
    },
    {
     "name": "stderr",
     "output_type": "stream",
     "text": [
      " 36%|███▋      | 364/1000 [01:43<00:51, 12.31it/s]"
     ]
    },
    {
     "name": "stdout",
     "output_type": "stream",
     "text": [
      "Step: 364 [D loss: 0.000279, acc.: 100.00%] [G loss: 8.768923]\n",
      "Step: 365 [D loss: 0.000284, acc.: 100.00%] [G loss: 8.962979]\n"
     ]
    },
    {
     "name": "stderr",
     "output_type": "stream",
     "text": [
      " 37%|███▋      | 366/1000 [01:43<00:51, 12.23it/s]"
     ]
    },
    {
     "name": "stdout",
     "output_type": "stream",
     "text": [
      "Step: 366 [D loss: 0.000054, acc.: 100.00%] [G loss: 9.254337]\n",
      "Step: 367 [D loss: 0.000075, acc.: 100.00%] [G loss: 8.996339]\n"
     ]
    },
    {
     "name": "stderr",
     "output_type": "stream",
     "text": [
      " 37%|███▋      | 368/1000 [01:43<00:51, 12.22it/s]"
     ]
    },
    {
     "name": "stdout",
     "output_type": "stream",
     "text": [
      "Step: 368 [D loss: 0.000121, acc.: 100.00%] [G loss: 9.351702]\n",
      "Step: 369 [D loss: 0.000182, acc.: 100.00%] [G loss: 9.574106]\n"
     ]
    },
    {
     "name": "stderr",
     "output_type": "stream",
     "text": [
      " 37%|███▋      | 370/1000 [01:43<00:50, 12.39it/s]"
     ]
    },
    {
     "name": "stdout",
     "output_type": "stream",
     "text": [
      "Step: 370 [D loss: 0.000080, acc.: 100.00%] [G loss: 8.999324]\n",
      "Step: 371 [D loss: 0.000087, acc.: 100.00%] [G loss: 8.372307]\n"
     ]
    },
    {
     "name": "stderr",
     "output_type": "stream",
     "text": [
      " 37%|███▋      | 372/1000 [01:43<00:50, 12.33it/s]"
     ]
    },
    {
     "name": "stdout",
     "output_type": "stream",
     "text": [
      "Step: 372 [D loss: 0.000087, acc.: 100.00%] [G loss: 9.125283]\n",
      "Step: 373 [D loss: 0.000080, acc.: 100.00%] [G loss: 9.211612]\n"
     ]
    },
    {
     "name": "stderr",
     "output_type": "stream",
     "text": [
      " 37%|███▋      | 374/1000 [01:43<00:50, 12.38it/s]"
     ]
    },
    {
     "name": "stdout",
     "output_type": "stream",
     "text": [
      "Step: 374 [D loss: 0.000070, acc.: 100.00%] [G loss: 9.437416]\n",
      "Step: 375 [D loss: 0.000062, acc.: 100.00%] [G loss: 9.695406]\n"
     ]
    },
    {
     "name": "stderr",
     "output_type": "stream",
     "text": [
      " 38%|███▊      | 376/1000 [01:43<00:50, 12.35it/s]"
     ]
    },
    {
     "name": "stdout",
     "output_type": "stream",
     "text": [
      "Step: 376 [D loss: 0.000087, acc.: 100.00%] [G loss: 9.857471]\n",
      "Step: 377 [D loss: 0.000169, acc.: 100.00%] [G loss: 9.404799]\n"
     ]
    },
    {
     "name": "stderr",
     "output_type": "stream",
     "text": [
      " 38%|███▊      | 378/1000 [01:44<00:50, 12.44it/s]"
     ]
    },
    {
     "name": "stdout",
     "output_type": "stream",
     "text": [
      "Step: 378 [D loss: 0.000058, acc.: 100.00%] [G loss: 10.204514]\n",
      "Step: 379 [D loss: 0.000042, acc.: 100.00%] [G loss: 10.092620]\n"
     ]
    },
    {
     "name": "stderr",
     "output_type": "stream",
     "text": [
      " 38%|███▊      | 380/1000 [01:44<00:49, 12.53it/s]"
     ]
    },
    {
     "name": "stdout",
     "output_type": "stream",
     "text": [
      "Step: 380 [D loss: 0.000187, acc.: 100.00%] [G loss: 9.284348]\n",
      "Step: 381 [D loss: 0.000192, acc.: 100.00%] [G loss: 9.253735]\n"
     ]
    },
    {
     "name": "stderr",
     "output_type": "stream",
     "text": [
      " 38%|███▊      | 382/1000 [01:44<00:49, 12.45it/s]"
     ]
    },
    {
     "name": "stdout",
     "output_type": "stream",
     "text": [
      "Step: 382 [D loss: 0.000169, acc.: 100.00%] [G loss: 9.964694]\n",
      "Step: 383 [D loss: 0.000411, acc.: 100.00%] [G loss: 8.657561]\n"
     ]
    },
    {
     "name": "stderr",
     "output_type": "stream",
     "text": [
      " 38%|███▊      | 384/1000 [01:44<00:49, 12.51it/s]"
     ]
    },
    {
     "name": "stdout",
     "output_type": "stream",
     "text": [
      "Step: 384 [D loss: 0.000095, acc.: 100.00%] [G loss: 9.039059]\n",
      "Step: 385 [D loss: 0.000169, acc.: 100.00%] [G loss: 8.934771]\n"
     ]
    },
    {
     "name": "stderr",
     "output_type": "stream",
     "text": [
      " 39%|███▊      | 386/1000 [01:44<00:49, 12.48it/s]"
     ]
    },
    {
     "name": "stdout",
     "output_type": "stream",
     "text": [
      "Step: 386 [D loss: 0.000134, acc.: 100.00%] [G loss: 9.361661]\n",
      "Step: 387 [D loss: 0.000063, acc.: 100.00%] [G loss: 8.588285]\n"
     ]
    },
    {
     "name": "stderr",
     "output_type": "stream",
     "text": [
      " 39%|███▉      | 388/1000 [01:44<00:49, 12.37it/s]"
     ]
    },
    {
     "name": "stdout",
     "output_type": "stream",
     "text": [
      "Step: 388 [D loss: 0.000280, acc.: 100.00%] [G loss: 9.035836]\n",
      "Step: 389 [D loss: 0.000112, acc.: 100.00%] [G loss: 9.352864]\n"
     ]
    },
    {
     "name": "stderr",
     "output_type": "stream",
     "text": [
      " 39%|███▉      | 390/1000 [01:45<00:49, 12.41it/s]"
     ]
    },
    {
     "name": "stdout",
     "output_type": "stream",
     "text": [
      "Step: 390 [D loss: 0.000111, acc.: 100.00%] [G loss: 7.754905]\n",
      "Step: 391 [D loss: 0.000121, acc.: 100.00%] [G loss: 9.030168]\n"
     ]
    },
    {
     "name": "stderr",
     "output_type": "stream",
     "text": [
      " 39%|███▉      | 392/1000 [01:45<00:49, 12.30it/s]"
     ]
    },
    {
     "name": "stdout",
     "output_type": "stream",
     "text": [
      "Step: 392 [D loss: 0.000072, acc.: 100.00%] [G loss: 9.499606]\n",
      "Step: 393 [D loss: 0.000088, acc.: 100.00%] [G loss: 8.830000]\n"
     ]
    },
    {
     "name": "stderr",
     "output_type": "stream",
     "text": [
      " 39%|███▉      | 394/1000 [01:45<00:49, 12.33it/s]"
     ]
    },
    {
     "name": "stdout",
     "output_type": "stream",
     "text": [
      "Step: 394 [D loss: 0.000083, acc.: 100.00%] [G loss: 9.361934]\n",
      "Step: 395 [D loss: 0.000053, acc.: 100.00%] [G loss: 9.040760]\n"
     ]
    },
    {
     "name": "stderr",
     "output_type": "stream",
     "text": [
      " 40%|███▉      | 396/1000 [01:45<00:48, 12.36it/s]"
     ]
    },
    {
     "name": "stdout",
     "output_type": "stream",
     "text": [
      "Step: 396 [D loss: 0.000060, acc.: 100.00%] [G loss: 9.143501]\n",
      "Step: 397 [D loss: 0.000083, acc.: 100.00%] [G loss: 8.510607]\n"
     ]
    },
    {
     "name": "stderr",
     "output_type": "stream",
     "text": [
      " 40%|███▉      | 398/1000 [01:45<00:48, 12.35it/s]"
     ]
    },
    {
     "name": "stdout",
     "output_type": "stream",
     "text": [
      "Step: 398 [D loss: 0.000119, acc.: 100.00%] [G loss: 10.176908]\n",
      "Step: 399 [D loss: 0.000054, acc.: 100.00%] [G loss: 9.707280]\n"
     ]
    },
    {
     "name": "stderr",
     "output_type": "stream",
     "text": [
      " 40%|████      | 400/1000 [01:45<00:48, 12.49it/s]"
     ]
    },
    {
     "name": "stdout",
     "output_type": "stream",
     "text": [
      "Step: 400 [D loss: 0.000055, acc.: 100.00%] [G loss: 9.627678]\n",
      "Step: 401 [D loss: 0.000038, acc.: 100.00%] [G loss: 10.237474]\n"
     ]
    },
    {
     "name": "stderr",
     "output_type": "stream",
     "text": [
      " 40%|████      | 402/1000 [01:46<00:48, 12.42it/s]"
     ]
    },
    {
     "name": "stdout",
     "output_type": "stream",
     "text": [
      "Step: 402 [D loss: 0.000057, acc.: 100.00%] [G loss: 10.049216]\n",
      "Step: 403 [D loss: 0.000061, acc.: 100.00%] [G loss: 9.369288]\n"
     ]
    },
    {
     "name": "stderr",
     "output_type": "stream",
     "text": [
      " 40%|████      | 404/1000 [01:46<00:48, 12.28it/s]"
     ]
    },
    {
     "name": "stdout",
     "output_type": "stream",
     "text": [
      "Step: 404 [D loss: 0.000113, acc.: 100.00%] [G loss: 9.594239]\n",
      "Step: 405 [D loss: 0.000026, acc.: 100.00%] [G loss: 9.799865]\n"
     ]
    },
    {
     "name": "stderr",
     "output_type": "stream",
     "text": [
      " 41%|████      | 406/1000 [01:46<00:48, 12.30it/s]"
     ]
    },
    {
     "name": "stdout",
     "output_type": "stream",
     "text": [
      "Step: 406 [D loss: 0.000059, acc.: 100.00%] [G loss: 9.621919]\n",
      "Step: 407 [D loss: 0.000074, acc.: 100.00%] [G loss: 8.384408]\n"
     ]
    },
    {
     "name": "stderr",
     "output_type": "stream",
     "text": [
      " 41%|████      | 408/1000 [01:46<00:48, 12.25it/s]"
     ]
    },
    {
     "name": "stdout",
     "output_type": "stream",
     "text": [
      "Step: 408 [D loss: 0.000069, acc.: 100.00%] [G loss: 9.445622]\n",
      "Step: 409 [D loss: 0.000049, acc.: 100.00%] [G loss: 9.481955]\n"
     ]
    },
    {
     "name": "stderr",
     "output_type": "stream",
     "text": [
      " 41%|████      | 410/1000 [01:46<00:48, 12.25it/s]"
     ]
    },
    {
     "name": "stdout",
     "output_type": "stream",
     "text": [
      "Step: 410 [D loss: 0.000368, acc.: 100.00%] [G loss: 8.996675]\n",
      "Step: 411 [D loss: 0.000119, acc.: 100.00%] [G loss: 9.666098]\n"
     ]
    },
    {
     "name": "stderr",
     "output_type": "stream",
     "text": [
      " 41%|████      | 412/1000 [01:46<00:48, 12.21it/s]"
     ]
    },
    {
     "name": "stdout",
     "output_type": "stream",
     "text": [
      "Step: 412 [D loss: 0.000207, acc.: 100.00%] [G loss: 8.913778]\n",
      "Step: 413 [D loss: 0.000079, acc.: 100.00%] [G loss: 9.105483]\n"
     ]
    },
    {
     "name": "stderr",
     "output_type": "stream",
     "text": [
      " 41%|████▏     | 414/1000 [01:47<00:48, 12.16it/s]"
     ]
    },
    {
     "name": "stdout",
     "output_type": "stream",
     "text": [
      "Step: 414 [D loss: 0.000088, acc.: 100.00%] [G loss: 9.502587]\n",
      "Step: 415 [D loss: 0.000067, acc.: 100.00%] [G loss: 9.378589]\n"
     ]
    },
    {
     "name": "stderr",
     "output_type": "stream",
     "text": [
      " 42%|████▏     | 416/1000 [01:47<00:47, 12.19it/s]"
     ]
    },
    {
     "name": "stdout",
     "output_type": "stream",
     "text": [
      "Step: 416 [D loss: 0.000033, acc.: 100.00%] [G loss: 10.234513]\n",
      "Step: 417 [D loss: 0.000044, acc.: 100.00%] [G loss: 9.102169]\n"
     ]
    },
    {
     "name": "stderr",
     "output_type": "stream",
     "text": [
      " 42%|████▏     | 418/1000 [01:47<00:47, 12.28it/s]"
     ]
    },
    {
     "name": "stdout",
     "output_type": "stream",
     "text": [
      "Step: 418 [D loss: 0.000062, acc.: 100.00%] [G loss: 10.058956]\n",
      "Step: 419 [D loss: 0.000460, acc.: 100.00%] [G loss: 8.923041]\n"
     ]
    },
    {
     "name": "stderr",
     "output_type": "stream",
     "text": [
      " 42%|████▏     | 420/1000 [01:47<00:47, 12.26it/s]"
     ]
    },
    {
     "name": "stdout",
     "output_type": "stream",
     "text": [
      "Step: 420 [D loss: 0.000110, acc.: 100.00%] [G loss: 9.019742]\n",
      "Step: 421 [D loss: 0.000092, acc.: 100.00%] [G loss: 9.476493]\n"
     ]
    },
    {
     "name": "stderr",
     "output_type": "stream",
     "text": [
      " 42%|████▏     | 422/1000 [01:47<00:47, 12.19it/s]"
     ]
    },
    {
     "name": "stdout",
     "output_type": "stream",
     "text": [
      "Step: 422 [D loss: 0.000124, acc.: 100.00%] [G loss: 9.632855]\n",
      "Step: 423 [D loss: 0.000392, acc.: 100.00%] [G loss: 8.799744]\n"
     ]
    },
    {
     "name": "stderr",
     "output_type": "stream",
     "text": [
      " 42%|████▏     | 424/1000 [01:47<00:47, 12.19it/s]"
     ]
    },
    {
     "name": "stdout",
     "output_type": "stream",
     "text": [
      "Step: 424 [D loss: 0.000288, acc.: 100.00%] [G loss: 9.555292]\n",
      "Step: 425 [D loss: 0.000141, acc.: 100.00%] [G loss: 9.600952]\n"
     ]
    },
    {
     "name": "stderr",
     "output_type": "stream",
     "text": [
      " 43%|████▎     | 426/1000 [01:48<00:46, 12.24it/s]"
     ]
    },
    {
     "name": "stdout",
     "output_type": "stream",
     "text": [
      "Step: 426 [D loss: 0.000568, acc.: 100.00%] [G loss: 9.271144]\n",
      "Step: 427 [D loss: 0.000079, acc.: 100.00%] [G loss: 8.876817]\n"
     ]
    },
    {
     "name": "stderr",
     "output_type": "stream",
     "text": [
      " 43%|████▎     | 428/1000 [01:48<00:46, 12.25it/s]"
     ]
    },
    {
     "name": "stdout",
     "output_type": "stream",
     "text": [
      "Step: 428 [D loss: 0.000062, acc.: 100.00%] [G loss: 9.101748]\n",
      "Step: 429 [D loss: 0.000068, acc.: 100.00%] [G loss: 9.440956]\n"
     ]
    },
    {
     "name": "stderr",
     "output_type": "stream",
     "text": [
      " 43%|████▎     | 430/1000 [01:48<00:46, 12.30it/s]"
     ]
    },
    {
     "name": "stdout",
     "output_type": "stream",
     "text": [
      "Step: 430 [D loss: 0.000061, acc.: 100.00%] [G loss: 9.885050]\n",
      "Step: 431 [D loss: 0.000169, acc.: 100.00%] [G loss: 8.271402]\n"
     ]
    },
    {
     "name": "stderr",
     "output_type": "stream",
     "text": [
      " 43%|████▎     | 432/1000 [01:48<00:45, 12.38it/s]"
     ]
    },
    {
     "name": "stdout",
     "output_type": "stream",
     "text": [
      "Step: 432 [D loss: 0.000557, acc.: 100.00%] [G loss: 9.224723]\n",
      "Step: 433 [D loss: 0.000123, acc.: 100.00%] [G loss: 9.299278]\n"
     ]
    },
    {
     "name": "stderr",
     "output_type": "stream",
     "text": [
      " 43%|████▎     | 434/1000 [01:48<00:45, 12.46it/s]"
     ]
    },
    {
     "name": "stdout",
     "output_type": "stream",
     "text": [
      "Step: 434 [D loss: 0.000090, acc.: 100.00%] [G loss: 9.589690]\n",
      "Step: 435 [D loss: 0.000092, acc.: 100.00%] [G loss: 8.867421]\n"
     ]
    },
    {
     "name": "stderr",
     "output_type": "stream",
     "text": [
      " 44%|████▎     | 436/1000 [01:48<00:45, 12.40it/s]"
     ]
    },
    {
     "name": "stdout",
     "output_type": "stream",
     "text": [
      "Step: 436 [D loss: 0.000174, acc.: 100.00%] [G loss: 8.198110]\n",
      "Step: 437 [D loss: 0.000045, acc.: 100.00%] [G loss: 9.201596]\n"
     ]
    },
    {
     "name": "stderr",
     "output_type": "stream",
     "text": [
      " 44%|████▍     | 438/1000 [01:49<00:44, 12.50it/s]"
     ]
    },
    {
     "name": "stdout",
     "output_type": "stream",
     "text": [
      "Step: 438 [D loss: 0.000097, acc.: 100.00%] [G loss: 8.933002]\n",
      "Step: 439 [D loss: 0.000083, acc.: 100.00%] [G loss: 10.025037]\n"
     ]
    },
    {
     "name": "stderr",
     "output_type": "stream",
     "text": [
      " 44%|████▍     | 440/1000 [01:49<00:44, 12.48it/s]"
     ]
    },
    {
     "name": "stdout",
     "output_type": "stream",
     "text": [
      "Step: 440 [D loss: 0.000153, acc.: 100.00%] [G loss: 10.703028]\n",
      "Step: 441 [D loss: 0.001727, acc.: 100.00%] [G loss: 7.616898]\n"
     ]
    },
    {
     "name": "stderr",
     "output_type": "stream",
     "text": [
      " 44%|████▍     | 442/1000 [01:49<00:44, 12.53it/s]"
     ]
    },
    {
     "name": "stdout",
     "output_type": "stream",
     "text": [
      "Step: 442 [D loss: 0.000342, acc.: 100.00%] [G loss: 8.054959]\n",
      "Step: 443 [D loss: 0.000214, acc.: 100.00%] [G loss: 7.846902]\n"
     ]
    },
    {
     "name": "stderr",
     "output_type": "stream",
     "text": [
      " 44%|████▍     | 444/1000 [01:49<00:44, 12.61it/s]"
     ]
    },
    {
     "name": "stdout",
     "output_type": "stream",
     "text": [
      "Step: 444 [D loss: 0.000105, acc.: 100.00%] [G loss: 9.099540]\n",
      "Step: 445 [D loss: 0.000195, acc.: 100.00%] [G loss: 8.351229]\n"
     ]
    },
    {
     "name": "stderr",
     "output_type": "stream",
     "text": [
      " 45%|████▍     | 446/1000 [01:49<00:44, 12.56it/s]"
     ]
    },
    {
     "name": "stdout",
     "output_type": "stream",
     "text": [
      "Step: 446 [D loss: 0.000074, acc.: 100.00%] [G loss: 8.917102]\n",
      "Step: 447 [D loss: 0.000130, acc.: 100.00%] [G loss: 8.987239]\n"
     ]
    },
    {
     "name": "stderr",
     "output_type": "stream",
     "text": [
      " 45%|████▍     | 448/1000 [01:49<00:43, 12.61it/s]"
     ]
    },
    {
     "name": "stdout",
     "output_type": "stream",
     "text": [
      "Step: 448 [D loss: 0.000070, acc.: 100.00%] [G loss: 9.120352]\n",
      "Step: 449 [D loss: 0.000168, acc.: 100.00%] [G loss: 8.214010]\n"
     ]
    },
    {
     "name": "stderr",
     "output_type": "stream",
     "text": [
      " 45%|████▌     | 450/1000 [01:49<00:43, 12.67it/s]"
     ]
    },
    {
     "name": "stdout",
     "output_type": "stream",
     "text": [
      "Step: 450 [D loss: 0.000031, acc.: 100.00%] [G loss: 10.214788]\n",
      "Step: 451 [D loss: 0.000062, acc.: 100.00%] [G loss: 9.601285]\n"
     ]
    },
    {
     "name": "stderr",
     "output_type": "stream",
     "text": [
      " 45%|████▌     | 452/1000 [01:50<00:43, 12.59it/s]"
     ]
    },
    {
     "name": "stdout",
     "output_type": "stream",
     "text": [
      "Step: 452 [D loss: 0.000113, acc.: 100.00%] [G loss: 9.558378]\n",
      "Step: 453 [D loss: 0.000059, acc.: 100.00%] [G loss: 9.165855]\n"
     ]
    },
    {
     "name": "stderr",
     "output_type": "stream",
     "text": [
      " 45%|████▌     | 454/1000 [01:50<00:43, 12.66it/s]"
     ]
    },
    {
     "name": "stdout",
     "output_type": "stream",
     "text": [
      "Step: 454 [D loss: 0.000030, acc.: 100.00%] [G loss: 10.420388]\n",
      "Step: 455 [D loss: 0.000037, acc.: 100.00%] [G loss: 9.832677]\n"
     ]
    },
    {
     "name": "stderr",
     "output_type": "stream",
     "text": [
      " 46%|████▌     | 456/1000 [01:50<00:43, 12.59it/s]"
     ]
    },
    {
     "name": "stdout",
     "output_type": "stream",
     "text": [
      "Step: 456 [D loss: 0.000042, acc.: 100.00%] [G loss: 9.710356]\n",
      "Step: 457 [D loss: 0.000146, acc.: 100.00%] [G loss: 8.280663]\n"
     ]
    },
    {
     "name": "stderr",
     "output_type": "stream",
     "text": [
      " 46%|████▌     | 458/1000 [01:50<00:43, 12.58it/s]"
     ]
    },
    {
     "name": "stdout",
     "output_type": "stream",
     "text": [
      "Step: 458 [D loss: 0.000039, acc.: 100.00%] [G loss: 10.068225]\n",
      "Step: 459 [D loss: 0.000161, acc.: 100.00%] [G loss: 9.747160]\n"
     ]
    },
    {
     "name": "stderr",
     "output_type": "stream",
     "text": [
      " 46%|████▌     | 460/1000 [01:50<00:42, 12.58it/s]"
     ]
    },
    {
     "name": "stdout",
     "output_type": "stream",
     "text": [
      "Step: 460 [D loss: 0.000274, acc.: 100.00%] [G loss: 9.615311]\n",
      "Step: 461 [D loss: 0.000080, acc.: 100.00%] [G loss: 10.210783]\n"
     ]
    },
    {
     "name": "stderr",
     "output_type": "stream",
     "text": [
      " 46%|████▌     | 462/1000 [01:50<00:43, 12.46it/s]"
     ]
    },
    {
     "name": "stdout",
     "output_type": "stream",
     "text": [
      "Step: 462 [D loss: 0.000086, acc.: 100.00%] [G loss: 10.160035]\n",
      "Step: 463 [D loss: 0.000024, acc.: 100.00%] [G loss: 9.529962]\n"
     ]
    },
    {
     "name": "stderr",
     "output_type": "stream",
     "text": [
      " 46%|████▋     | 464/1000 [01:51<00:42, 12.54it/s]"
     ]
    },
    {
     "name": "stdout",
     "output_type": "stream",
     "text": [
      "Step: 464 [D loss: 0.000052, acc.: 100.00%] [G loss: 9.453991]\n",
      "Step: 465 [D loss: 0.000206, acc.: 100.00%] [G loss: 10.308084]\n"
     ]
    },
    {
     "name": "stderr",
     "output_type": "stream",
     "text": [
      " 47%|████▋     | 466/1000 [01:51<00:42, 12.55it/s]"
     ]
    },
    {
     "name": "stdout",
     "output_type": "stream",
     "text": [
      "Step: 466 [D loss: 0.000042, acc.: 100.00%] [G loss: 9.999855]\n",
      "Step: 467 [D loss: 0.000075, acc.: 100.00%] [G loss: 10.207780]\n"
     ]
    },
    {
     "name": "stderr",
     "output_type": "stream",
     "text": [
      " 47%|████▋     | 468/1000 [01:51<00:42, 12.49it/s]"
     ]
    },
    {
     "name": "stdout",
     "output_type": "stream",
     "text": [
      "Step: 468 [D loss: 0.000053, acc.: 100.00%] [G loss: 9.293553]\n",
      "Step: 469 [D loss: 0.000036, acc.: 100.00%] [G loss: 9.758679]\n"
     ]
    },
    {
     "name": "stderr",
     "output_type": "stream",
     "text": [
      " 47%|████▋     | 470/1000 [01:51<00:42, 12.56it/s]"
     ]
    },
    {
     "name": "stdout",
     "output_type": "stream",
     "text": [
      "Step: 470 [D loss: 0.000146, acc.: 100.00%] [G loss: 9.686341]\n",
      "Step: 471 [D loss: 0.000070, acc.: 100.00%] [G loss: 8.799233]\n"
     ]
    },
    {
     "name": "stderr",
     "output_type": "stream",
     "text": [
      " 47%|████▋     | 472/1000 [01:51<00:42, 12.52it/s]"
     ]
    },
    {
     "name": "stdout",
     "output_type": "stream",
     "text": [
      "Step: 472 [D loss: 0.000063, acc.: 100.00%] [G loss: 9.893128]\n",
      "Step: 473 [D loss: 0.000032, acc.: 100.00%] [G loss: 10.138128]\n"
     ]
    },
    {
     "name": "stderr",
     "output_type": "stream",
     "text": [
      " 47%|████▋     | 474/1000 [01:51<00:41, 12.61it/s]"
     ]
    },
    {
     "name": "stdout",
     "output_type": "stream",
     "text": [
      "Step: 474 [D loss: 0.000356, acc.: 100.00%] [G loss: 9.757692]\n",
      "Step: 475 [D loss: 0.000093, acc.: 100.00%] [G loss: 9.657376]\n"
     ]
    },
    {
     "name": "stderr",
     "output_type": "stream",
     "text": [
      " 48%|████▊     | 476/1000 [01:52<00:41, 12.65it/s]"
     ]
    },
    {
     "name": "stdout",
     "output_type": "stream",
     "text": [
      "Step: 476 [D loss: 0.000653, acc.: 100.00%] [G loss: 8.496261]\n",
      "Step: 477 [D loss: 0.000207, acc.: 100.00%] [G loss: 8.779323]\n"
     ]
    },
    {
     "name": "stderr",
     "output_type": "stream",
     "text": [
      " 48%|████▊     | 478/1000 [01:52<00:41, 12.51it/s]"
     ]
    },
    {
     "name": "stdout",
     "output_type": "stream",
     "text": [
      "Step: 478 [D loss: 0.000274, acc.: 100.00%] [G loss: 8.683559]\n",
      "Step: 479 [D loss: 0.000031, acc.: 100.00%] [G loss: 10.629063]\n"
     ]
    },
    {
     "name": "stderr",
     "output_type": "stream",
     "text": [
      " 48%|████▊     | 480/1000 [01:52<00:41, 12.60it/s]"
     ]
    },
    {
     "name": "stdout",
     "output_type": "stream",
     "text": [
      "Step: 480 [D loss: 0.000046, acc.: 100.00%] [G loss: 10.146351]\n",
      "Step: 481 [D loss: 0.000041, acc.: 100.00%] [G loss: 10.070743]\n"
     ]
    },
    {
     "name": "stderr",
     "output_type": "stream",
     "text": [
      " 48%|████▊     | 482/1000 [01:52<00:40, 12.64it/s]"
     ]
    },
    {
     "name": "stdout",
     "output_type": "stream",
     "text": [
      "Step: 482 [D loss: 0.000224, acc.: 100.00%] [G loss: 10.064413]\n",
      "Step: 483 [D loss: 0.000110, acc.: 100.00%] [G loss: 8.871361]\n"
     ]
    },
    {
     "name": "stderr",
     "output_type": "stream",
     "text": [
      " 48%|████▊     | 484/1000 [01:52<00:41, 12.53it/s]"
     ]
    },
    {
     "name": "stdout",
     "output_type": "stream",
     "text": [
      "Step: 484 [D loss: 0.000051, acc.: 100.00%] [G loss: 10.135101]\n",
      "Step: 485 [D loss: 0.000039, acc.: 100.00%] [G loss: 9.745300]\n"
     ]
    },
    {
     "name": "stderr",
     "output_type": "stream",
     "text": [
      " 49%|████▊     | 486/1000 [01:52<00:41, 12.42it/s]"
     ]
    },
    {
     "name": "stdout",
     "output_type": "stream",
     "text": [
      "Step: 486 [D loss: 0.000047, acc.: 100.00%] [G loss: 10.258617]\n",
      "Step: 487 [D loss: 0.000037, acc.: 100.00%] [G loss: 9.355280]\n"
     ]
    },
    {
     "name": "stderr",
     "output_type": "stream",
     "text": [
      " 49%|████▉     | 488/1000 [01:52<00:41, 12.24it/s]"
     ]
    },
    {
     "name": "stdout",
     "output_type": "stream",
     "text": [
      "Step: 488 [D loss: 0.000169, acc.: 100.00%] [G loss: 9.376005]\n",
      "Step: 489 [D loss: 0.000087, acc.: 100.00%] [G loss: 10.179174]\n"
     ]
    },
    {
     "name": "stderr",
     "output_type": "stream",
     "text": [
      " 49%|████▉     | 490/1000 [01:53<00:41, 12.34it/s]"
     ]
    },
    {
     "name": "stdout",
     "output_type": "stream",
     "text": [
      "Step: 490 [D loss: 0.000090, acc.: 100.00%] [G loss: 10.069823]\n",
      "Step: 491 [D loss: 0.000294, acc.: 100.00%] [G loss: 9.541981]\n"
     ]
    },
    {
     "name": "stderr",
     "output_type": "stream",
     "text": [
      " 49%|████▉     | 492/1000 [01:53<00:41, 12.34it/s]"
     ]
    },
    {
     "name": "stdout",
     "output_type": "stream",
     "text": [
      "Step: 492 [D loss: 0.000235, acc.: 100.00%] [G loss: 8.096955]\n",
      "Step: 493 [D loss: 0.000052, acc.: 100.00%] [G loss: 9.747671]\n"
     ]
    },
    {
     "name": "stderr",
     "output_type": "stream",
     "text": [
      " 49%|████▉     | 494/1000 [01:53<00:41, 12.30it/s]"
     ]
    },
    {
     "name": "stdout",
     "output_type": "stream",
     "text": [
      "Step: 494 [D loss: 0.000077, acc.: 100.00%] [G loss: 9.863319]\n",
      "Step: 495 [D loss: 0.000055, acc.: 100.00%] [G loss: 10.474180]\n"
     ]
    },
    {
     "name": "stderr",
     "output_type": "stream",
     "text": [
      " 50%|████▉     | 496/1000 [01:53<00:40, 12.36it/s]"
     ]
    },
    {
     "name": "stdout",
     "output_type": "stream",
     "text": [
      "Step: 496 [D loss: 0.000041, acc.: 100.00%] [G loss: 10.020940]\n",
      "Step: 497 [D loss: 0.000064, acc.: 100.00%] [G loss: 9.802206]\n"
     ]
    },
    {
     "name": "stderr",
     "output_type": "stream",
     "text": [
      " 50%|████▉     | 498/1000 [01:53<00:40, 12.35it/s]"
     ]
    },
    {
     "name": "stdout",
     "output_type": "stream",
     "text": [
      "Step: 498 [D loss: 0.000058, acc.: 100.00%] [G loss: 10.095653]\n",
      "Step: 499 [D loss: 0.000054, acc.: 100.00%] [G loss: 9.189601]\n"
     ]
    },
    {
     "name": "stderr",
     "output_type": "stream",
     "text": [
      " 50%|█████     | 500/1000 [01:53<00:40, 12.26it/s]"
     ]
    },
    {
     "name": "stdout",
     "output_type": "stream",
     "text": [
      "Step: 500 [D loss: 0.000270, acc.: 100.00%] [G loss: 10.038058]\n",
      "Step: 501 [D loss: 0.000141, acc.: 100.00%] [G loss: 10.063519]\n"
     ]
    },
    {
     "name": "stderr",
     "output_type": "stream",
     "text": [
      " 50%|█████     | 502/1000 [01:54<00:40, 12.35it/s]"
     ]
    },
    {
     "name": "stdout",
     "output_type": "stream",
     "text": [
      "Step: 502 [D loss: 0.000032, acc.: 100.00%] [G loss: 10.867852]\n",
      "Step: 503 [D loss: 0.000064, acc.: 100.00%] [G loss: 9.769720]\n"
     ]
    },
    {
     "name": "stderr",
     "output_type": "stream",
     "text": [
      " 50%|█████     | 504/1000 [01:54<00:40, 12.35it/s]"
     ]
    },
    {
     "name": "stdout",
     "output_type": "stream",
     "text": [
      "Step: 504 [D loss: 0.000091, acc.: 100.00%] [G loss: 10.219256]\n",
      "Step: 505 [D loss: 0.000066, acc.: 100.00%] [G loss: 9.015760]\n"
     ]
    },
    {
     "name": "stderr",
     "output_type": "stream",
     "text": [
      " 51%|█████     | 506/1000 [01:54<00:39, 12.42it/s]"
     ]
    },
    {
     "name": "stdout",
     "output_type": "stream",
     "text": [
      "Step: 506 [D loss: 0.000054, acc.: 100.00%] [G loss: 10.162645]\n",
      "Step: 507 [D loss: 0.000043, acc.: 100.00%] [G loss: 9.385098]\n"
     ]
    },
    {
     "name": "stderr",
     "output_type": "stream",
     "text": [
      " 51%|█████     | 508/1000 [01:54<00:39, 12.44it/s]"
     ]
    },
    {
     "name": "stdout",
     "output_type": "stream",
     "text": [
      "Step: 508 [D loss: 0.000044, acc.: 100.00%] [G loss: 9.569151]\n",
      "Step: 509 [D loss: 0.000043, acc.: 100.00%] [G loss: 10.072773]\n"
     ]
    },
    {
     "name": "stderr",
     "output_type": "stream",
     "text": [
      " 51%|█████     | 510/1000 [01:54<00:39, 12.41it/s]"
     ]
    },
    {
     "name": "stdout",
     "output_type": "stream",
     "text": [
      "Step: 510 [D loss: 0.000018, acc.: 100.00%] [G loss: 10.559381]\n",
      "Step: 511 [D loss: 0.000166, acc.: 100.00%] [G loss: 9.337781]\n"
     ]
    },
    {
     "name": "stderr",
     "output_type": "stream",
     "text": [
      " 51%|█████     | 512/1000 [01:54<00:39, 12.51it/s]"
     ]
    },
    {
     "name": "stdout",
     "output_type": "stream",
     "text": [
      "Step: 512 [D loss: 0.000076, acc.: 100.00%] [G loss: 10.524909]\n",
      "Step: 513 [D loss: 0.000135, acc.: 100.00%] [G loss: 10.733994]\n"
     ]
    },
    {
     "name": "stderr",
     "output_type": "stream",
     "text": [
      " 51%|█████▏    | 514/1000 [01:55<00:38, 12.65it/s]"
     ]
    },
    {
     "name": "stdout",
     "output_type": "stream",
     "text": [
      "Step: 514 [D loss: 0.000053, acc.: 100.00%] [G loss: 9.745993]\n",
      "Step: 515 [D loss: 0.001503, acc.: 100.00%] [G loss: 8.376960]\n"
     ]
    },
    {
     "name": "stderr",
     "output_type": "stream",
     "text": [
      " 52%|█████▏    | 516/1000 [01:55<00:38, 12.58it/s]"
     ]
    },
    {
     "name": "stdout",
     "output_type": "stream",
     "text": [
      "Step: 516 [D loss: 0.000217, acc.: 100.00%] [G loss: 7.492892]\n",
      "Step: 517 [D loss: 0.000235, acc.: 100.00%] [G loss: 8.561216]\n"
     ]
    },
    {
     "name": "stderr",
     "output_type": "stream",
     "text": [
      " 52%|█████▏    | 518/1000 [01:55<00:38, 12.60it/s]"
     ]
    },
    {
     "name": "stdout",
     "output_type": "stream",
     "text": [
      "Step: 518 [D loss: 0.000086, acc.: 100.00%] [G loss: 7.501796]\n",
      "Step: 519 [D loss: 0.000166, acc.: 100.00%] [G loss: 8.639045]\n"
     ]
    },
    {
     "name": "stderr",
     "output_type": "stream",
     "text": [
      " 52%|█████▏    | 520/1000 [01:55<00:38, 12.48it/s]"
     ]
    },
    {
     "name": "stdout",
     "output_type": "stream",
     "text": [
      "Step: 520 [D loss: 0.000045, acc.: 100.00%] [G loss: 10.308531]\n",
      "Step: 521 [D loss: 0.000052, acc.: 100.00%] [G loss: 10.277539]\n"
     ]
    },
    {
     "name": "stderr",
     "output_type": "stream",
     "text": [
      " 52%|█████▏    | 522/1000 [01:55<00:38, 12.51it/s]"
     ]
    },
    {
     "name": "stdout",
     "output_type": "stream",
     "text": [
      "Step: 522 [D loss: 0.000132, acc.: 100.00%] [G loss: 10.537957]\n",
      "Step: 523 [D loss: 0.000044, acc.: 100.00%] [G loss: 8.632349]\n"
     ]
    },
    {
     "name": "stderr",
     "output_type": "stream",
     "text": [
      " 52%|█████▏    | 524/1000 [01:55<00:37, 12.60it/s]"
     ]
    },
    {
     "name": "stdout",
     "output_type": "stream",
     "text": [
      "Step: 524 [D loss: 0.000042, acc.: 100.00%] [G loss: 9.865651]\n",
      "Step: 525 [D loss: 0.000035, acc.: 100.00%] [G loss: 9.865222]\n"
     ]
    },
    {
     "name": "stderr",
     "output_type": "stream",
     "text": [
      " 53%|█████▎    | 526/1000 [01:56<00:38, 12.47it/s]"
     ]
    },
    {
     "name": "stdout",
     "output_type": "stream",
     "text": [
      "Step: 526 [D loss: 0.000030, acc.: 100.00%] [G loss: 10.002972]\n",
      "Step: 527 [D loss: 0.000238, acc.: 100.00%] [G loss: 9.643006]\n"
     ]
    },
    {
     "name": "stderr",
     "output_type": "stream",
     "text": [
      " 53%|█████▎    | 528/1000 [01:56<00:37, 12.60it/s]"
     ]
    },
    {
     "name": "stdout",
     "output_type": "stream",
     "text": [
      "Step: 528 [D loss: 0.000053, acc.: 100.00%] [G loss: 9.332006]\n",
      "Step: 529 [D loss: 0.000026, acc.: 100.00%] [G loss: 10.297410]\n"
     ]
    },
    {
     "name": "stderr",
     "output_type": "stream",
     "text": [
      " 53%|█████▎    | 530/1000 [01:56<00:37, 12.54it/s]"
     ]
    },
    {
     "name": "stdout",
     "output_type": "stream",
     "text": [
      "Step: 530 [D loss: 0.000032, acc.: 100.00%] [G loss: 11.064012]\n",
      "Step: 531 [D loss: 0.000127, acc.: 100.00%] [G loss: 9.198242]\n"
     ]
    },
    {
     "name": "stderr",
     "output_type": "stream",
     "text": [
      " 53%|█████▎    | 532/1000 [01:56<00:37, 12.34it/s]"
     ]
    },
    {
     "name": "stdout",
     "output_type": "stream",
     "text": [
      "Step: 532 [D loss: 0.000027, acc.: 100.00%] [G loss: 11.011708]\n",
      "Step: 533 [D loss: 0.000083, acc.: 100.00%] [G loss: 10.400826]\n"
     ]
    },
    {
     "name": "stderr",
     "output_type": "stream",
     "text": [
      " 53%|█████▎    | 534/1000 [01:56<00:37, 12.44it/s]"
     ]
    },
    {
     "name": "stdout",
     "output_type": "stream",
     "text": [
      "Step: 534 [D loss: 0.000387, acc.: 100.00%] [G loss: 10.767774]\n",
      "Step: 535 [D loss: 0.000041, acc.: 100.00%] [G loss: 10.488933]\n"
     ]
    },
    {
     "name": "stderr",
     "output_type": "stream",
     "text": [
      " 54%|█████▎    | 536/1000 [01:56<00:37, 12.45it/s]"
     ]
    },
    {
     "name": "stdout",
     "output_type": "stream",
     "text": [
      "Step: 536 [D loss: 0.002706, acc.: 100.00%] [G loss: 6.953585]\n",
      "Step: 537 [D loss: 0.000445, acc.: 100.00%] [G loss: 7.093081]\n"
     ]
    },
    {
     "name": "stderr",
     "output_type": "stream",
     "text": [
      " 54%|█████▍    | 538/1000 [01:57<00:37, 12.42it/s]"
     ]
    },
    {
     "name": "stdout",
     "output_type": "stream",
     "text": [
      "Step: 538 [D loss: 0.000116, acc.: 100.00%] [G loss: 8.069440]\n",
      "Step: 539 [D loss: 0.000066, acc.: 100.00%] [G loss: 8.954226]\n"
     ]
    },
    {
     "name": "stderr",
     "output_type": "stream",
     "text": [
      " 54%|█████▍    | 540/1000 [01:57<00:36, 12.51it/s]"
     ]
    },
    {
     "name": "stdout",
     "output_type": "stream",
     "text": [
      "Step: 540 [D loss: 0.000053, acc.: 100.00%] [G loss: 9.478703]\n",
      "Step: 541 [D loss: 0.000099, acc.: 100.00%] [G loss: 9.915093]\n"
     ]
    },
    {
     "name": "stderr",
     "output_type": "stream",
     "text": [
      " 54%|█████▍    | 542/1000 [01:57<00:36, 12.46it/s]"
     ]
    },
    {
     "name": "stdout",
     "output_type": "stream",
     "text": [
      "Step: 542 [D loss: 0.000053, acc.: 100.00%] [G loss: 9.622574]\n",
      "Step: 543 [D loss: 0.000056, acc.: 100.00%] [G loss: 9.871741]\n"
     ]
    },
    {
     "name": "stderr",
     "output_type": "stream",
     "text": [
      " 54%|█████▍    | 544/1000 [01:57<00:36, 12.33it/s]"
     ]
    },
    {
     "name": "stdout",
     "output_type": "stream",
     "text": [
      "Step: 544 [D loss: 0.000017, acc.: 100.00%] [G loss: 10.311608]\n",
      "Step: 545 [D loss: 0.000048, acc.: 100.00%] [G loss: 10.107512]\n"
     ]
    },
    {
     "name": "stderr",
     "output_type": "stream",
     "text": [
      " 55%|█████▍    | 546/1000 [01:57<00:36, 12.45it/s]"
     ]
    },
    {
     "name": "stdout",
     "output_type": "stream",
     "text": [
      "Step: 546 [D loss: 0.000016, acc.: 100.00%] [G loss: 10.637620]\n",
      "Step: 547 [D loss: 0.000054, acc.: 100.00%] [G loss: 9.871187]\n"
     ]
    },
    {
     "name": "stderr",
     "output_type": "stream",
     "text": [
      " 55%|█████▍    | 548/1000 [01:57<00:36, 12.37it/s]"
     ]
    },
    {
     "name": "stdout",
     "output_type": "stream",
     "text": [
      "Step: 548 [D loss: 0.000038, acc.: 100.00%] [G loss: 10.934465]\n",
      "Step: 549 [D loss: 0.000047, acc.: 100.00%] [G loss: 10.311639]\n"
     ]
    },
    {
     "name": "stderr",
     "output_type": "stream",
     "text": [
      " 55%|█████▌    | 550/1000 [01:57<00:36, 12.41it/s]"
     ]
    },
    {
     "name": "stdout",
     "output_type": "stream",
     "text": [
      "Step: 550 [D loss: 0.000039, acc.: 100.00%] [G loss: 11.049191]\n",
      "Step: 551 [D loss: 0.000051, acc.: 100.00%] [G loss: 10.647933]\n"
     ]
    },
    {
     "name": "stderr",
     "output_type": "stream",
     "text": [
      " 55%|█████▌    | 552/1000 [01:58<00:36, 12.41it/s]"
     ]
    },
    {
     "name": "stdout",
     "output_type": "stream",
     "text": [
      "Step: 552 [D loss: 0.000020, acc.: 100.00%] [G loss: 11.754526]\n",
      "Step: 553 [D loss: 0.000023, acc.: 100.00%] [G loss: 10.234626]\n"
     ]
    },
    {
     "name": "stderr",
     "output_type": "stream",
     "text": [
      " 55%|█████▌    | 554/1000 [01:58<00:35, 12.58it/s]"
     ]
    },
    {
     "name": "stdout",
     "output_type": "stream",
     "text": [
      "Step: 554 [D loss: 0.000107, acc.: 100.00%] [G loss: 9.773620]\n",
      "Step: 555 [D loss: 0.000023, acc.: 100.00%] [G loss: 10.110080]\n"
     ]
    },
    {
     "name": "stderr",
     "output_type": "stream",
     "text": [
      " 56%|█████▌    | 556/1000 [01:58<00:35, 12.53it/s]"
     ]
    },
    {
     "name": "stdout",
     "output_type": "stream",
     "text": [
      "Step: 556 [D loss: 0.000035, acc.: 100.00%] [G loss: 11.575945]\n",
      "Step: 557 [D loss: 0.000017, acc.: 100.00%] [G loss: 10.980540]\n"
     ]
    },
    {
     "name": "stderr",
     "output_type": "stream",
     "text": [
      " 56%|█████▌    | 558/1000 [01:58<00:35, 12.52it/s]"
     ]
    },
    {
     "name": "stdout",
     "output_type": "stream",
     "text": [
      "Step: 558 [D loss: 0.000048, acc.: 100.00%] [G loss: 10.207931]\n",
      "Step: 559 [D loss: 0.000047, acc.: 100.00%] [G loss: 9.667754]\n"
     ]
    },
    {
     "name": "stderr",
     "output_type": "stream",
     "text": [
      " 56%|█████▌    | 560/1000 [01:58<00:34, 12.61it/s]"
     ]
    },
    {
     "name": "stdout",
     "output_type": "stream",
     "text": [
      "Step: 560 [D loss: 0.000025, acc.: 100.00%] [G loss: 10.007138]\n",
      "Step: 561 [D loss: 0.000068, acc.: 100.00%] [G loss: 9.451093]\n"
     ]
    },
    {
     "name": "stderr",
     "output_type": "stream",
     "text": [
      " 56%|█████▌    | 562/1000 [01:58<00:34, 12.57it/s]"
     ]
    },
    {
     "name": "stdout",
     "output_type": "stream",
     "text": [
      "Step: 562 [D loss: 0.000026, acc.: 100.00%] [G loss: 9.997873]\n",
      "Step: 563 [D loss: 0.000036, acc.: 100.00%] [G loss: 9.707065]\n"
     ]
    },
    {
     "name": "stderr",
     "output_type": "stream",
     "text": [
      " 56%|█████▋    | 564/1000 [01:59<00:34, 12.48it/s]"
     ]
    },
    {
     "name": "stdout",
     "output_type": "stream",
     "text": [
      "Step: 564 [D loss: 0.000018, acc.: 100.00%] [G loss: 10.977083]\n",
      "Step: 565 [D loss: 0.000035, acc.: 100.00%] [G loss: 10.829149]\n"
     ]
    },
    {
     "name": "stderr",
     "output_type": "stream",
     "text": [
      " 57%|█████▋    | 566/1000 [01:59<00:34, 12.56it/s]"
     ]
    },
    {
     "name": "stdout",
     "output_type": "stream",
     "text": [
      "Step: 566 [D loss: 0.000079, acc.: 100.00%] [G loss: 10.181693]\n",
      "Step: 567 [D loss: 0.000018, acc.: 100.00%] [G loss: 10.539359]\n"
     ]
    },
    {
     "name": "stderr",
     "output_type": "stream",
     "text": [
      " 57%|█████▋    | 568/1000 [01:59<00:34, 12.51it/s]"
     ]
    },
    {
     "name": "stdout",
     "output_type": "stream",
     "text": [
      "Step: 568 [D loss: 0.000068, acc.: 100.00%] [G loss: 10.133984]\n",
      "Step: 569 [D loss: 0.000132, acc.: 100.00%] [G loss: 9.662615]\n"
     ]
    },
    {
     "name": "stderr",
     "output_type": "stream",
     "text": [
      " 57%|█████▋    | 570/1000 [01:59<00:34, 12.49it/s]"
     ]
    },
    {
     "name": "stdout",
     "output_type": "stream",
     "text": [
      "Step: 570 [D loss: 0.000078, acc.: 100.00%] [G loss: 10.722070]\n",
      "Step: 571 [D loss: 0.000177, acc.: 100.00%] [G loss: 10.647361]\n"
     ]
    },
    {
     "name": "stderr",
     "output_type": "stream",
     "text": [
      " 57%|█████▋    | 572/1000 [01:59<00:34, 12.47it/s]"
     ]
    },
    {
     "name": "stdout",
     "output_type": "stream",
     "text": [
      "Step: 572 [D loss: 0.000032, acc.: 100.00%] [G loss: 10.125478]\n",
      "Step: 573 [D loss: 0.000104, acc.: 100.00%] [G loss: 9.369530]\n"
     ]
    },
    {
     "name": "stderr",
     "output_type": "stream",
     "text": [
      " 57%|█████▋    | 574/1000 [01:59<00:34, 12.48it/s]"
     ]
    },
    {
     "name": "stdout",
     "output_type": "stream",
     "text": [
      "Step: 574 [D loss: 0.000063, acc.: 100.00%] [G loss: 9.538573]\n",
      "Step: 575 [D loss: 0.000373, acc.: 100.00%] [G loss: 11.114404]\n"
     ]
    },
    {
     "name": "stderr",
     "output_type": "stream",
     "text": [
      " 58%|█████▊    | 576/1000 [02:00<00:33, 12.51it/s]"
     ]
    },
    {
     "name": "stdout",
     "output_type": "stream",
     "text": [
      "Step: 576 [D loss: 0.000038, acc.: 100.00%] [G loss: 9.038610]\n",
      "Step: 577 [D loss: 0.000188, acc.: 100.00%] [G loss: 8.388081]\n"
     ]
    },
    {
     "name": "stderr",
     "output_type": "stream",
     "text": [
      " 58%|█████▊    | 578/1000 [02:00<00:33, 12.48it/s]"
     ]
    },
    {
     "name": "stdout",
     "output_type": "stream",
     "text": [
      "Step: 578 [D loss: 0.000032, acc.: 100.00%] [G loss: 9.696362]\n",
      "Step: 579 [D loss: 0.000073, acc.: 100.00%] [G loss: 9.935525]\n"
     ]
    },
    {
     "name": "stderr",
     "output_type": "stream",
     "text": [
      " 58%|█████▊    | 580/1000 [02:00<00:34, 12.35it/s]"
     ]
    },
    {
     "name": "stdout",
     "output_type": "stream",
     "text": [
      "Step: 580 [D loss: 0.000080, acc.: 100.00%] [G loss: 9.135142]\n",
      "Step: 581 [D loss: 0.000079, acc.: 100.00%] [G loss: 9.919025]\n"
     ]
    },
    {
     "name": "stderr",
     "output_type": "stream",
     "text": [
      " 58%|█████▊    | 582/1000 [02:00<00:33, 12.32it/s]"
     ]
    },
    {
     "name": "stdout",
     "output_type": "stream",
     "text": [
      "Step: 582 [D loss: 0.000127, acc.: 100.00%] [G loss: 10.222942]\n",
      "Step: 583 [D loss: 0.000047, acc.: 100.00%] [G loss: 10.630537]\n"
     ]
    },
    {
     "name": "stderr",
     "output_type": "stream",
     "text": [
      " 58%|█████▊    | 584/1000 [02:00<00:33, 12.28it/s]"
     ]
    },
    {
     "name": "stdout",
     "output_type": "stream",
     "text": [
      "Step: 584 [D loss: 0.000053, acc.: 100.00%] [G loss: 10.389518]\n",
      "Step: 585 [D loss: 0.000035, acc.: 100.00%] [G loss: 11.330641]\n"
     ]
    },
    {
     "name": "stderr",
     "output_type": "stream",
     "text": [
      " 59%|█████▊    | 586/1000 [02:00<00:33, 12.32it/s]"
     ]
    },
    {
     "name": "stdout",
     "output_type": "stream",
     "text": [
      "Step: 586 [D loss: 0.000016, acc.: 100.00%] [G loss: 11.756383]\n",
      "Step: 587 [D loss: 0.000047, acc.: 100.00%] [G loss: 10.935534]\n"
     ]
    },
    {
     "name": "stderr",
     "output_type": "stream",
     "text": [
      " 59%|█████▉    | 588/1000 [02:01<00:33, 12.33it/s]"
     ]
    },
    {
     "name": "stdout",
     "output_type": "stream",
     "text": [
      "Step: 588 [D loss: 0.000016, acc.: 100.00%] [G loss: 11.467692]\n",
      "Step: 589 [D loss: 0.000038, acc.: 100.00%] [G loss: 9.892774]\n"
     ]
    },
    {
     "name": "stderr",
     "output_type": "stream",
     "text": [
      " 59%|█████▉    | 590/1000 [02:01<00:33, 12.13it/s]"
     ]
    },
    {
     "name": "stdout",
     "output_type": "stream",
     "text": [
      "Step: 590 [D loss: 0.000041, acc.: 100.00%] [G loss: 9.998397]\n",
      "Step: 591 [D loss: 0.000051, acc.: 100.00%] [G loss: 10.796811]\n"
     ]
    },
    {
     "name": "stderr",
     "output_type": "stream",
     "text": [
      " 59%|█████▉    | 592/1000 [02:01<00:33, 12.19it/s]"
     ]
    },
    {
     "name": "stdout",
     "output_type": "stream",
     "text": [
      "Step: 592 [D loss: 0.000046, acc.: 100.00%] [G loss: 10.508380]\n",
      "Step: 593 [D loss: 0.000012, acc.: 100.00%] [G loss: 10.960670]\n"
     ]
    },
    {
     "name": "stderr",
     "output_type": "stream",
     "text": [
      " 59%|█████▉    | 594/1000 [02:01<00:32, 12.33it/s]"
     ]
    },
    {
     "name": "stdout",
     "output_type": "stream",
     "text": [
      "Step: 594 [D loss: 0.000389, acc.: 100.00%] [G loss: 10.819055]\n",
      "Step: 595 [D loss: 0.000016, acc.: 100.00%] [G loss: 11.656869]\n"
     ]
    },
    {
     "name": "stderr",
     "output_type": "stream",
     "text": [
      " 60%|█████▉    | 596/1000 [02:01<00:32, 12.31it/s]"
     ]
    },
    {
     "name": "stdout",
     "output_type": "stream",
     "text": [
      "Step: 596 [D loss: 0.000036, acc.: 100.00%] [G loss: 10.397487]\n",
      "Step: 597 [D loss: 0.000547, acc.: 100.00%] [G loss: 9.310266]\n"
     ]
    },
    {
     "name": "stderr",
     "output_type": "stream",
     "text": [
      " 60%|█████▉    | 598/1000 [02:01<00:32, 12.34it/s]"
     ]
    },
    {
     "name": "stdout",
     "output_type": "stream",
     "text": [
      "Step: 598 [D loss: 0.000171, acc.: 100.00%] [G loss: 10.435416]\n",
      "Step: 599 [D loss: 0.000041, acc.: 100.00%] [G loss: 9.596815]\n"
     ]
    },
    {
     "name": "stderr",
     "output_type": "stream",
     "text": [
      " 60%|██████    | 600/1000 [02:02<00:32, 12.34it/s]"
     ]
    },
    {
     "name": "stdout",
     "output_type": "stream",
     "text": [
      "Step: 600 [D loss: 0.000148, acc.: 100.00%] [G loss: 10.110065]\n",
      "Step: 601 [D loss: 0.000058, acc.: 100.00%] [G loss: 10.011950]\n"
     ]
    },
    {
     "name": "stderr",
     "output_type": "stream",
     "text": [
      " 60%|██████    | 602/1000 [02:02<00:41,  9.70it/s]"
     ]
    },
    {
     "name": "stdout",
     "output_type": "stream",
     "text": [
      "Step: 602 [D loss: 0.000146, acc.: 100.00%] [G loss: 8.975023]\n",
      "Step: 603 [D loss: 0.000026, acc.: 100.00%] [G loss: 9.934841]\n"
     ]
    },
    {
     "name": "stderr",
     "output_type": "stream",
     "text": [
      " 60%|██████    | 604/1000 [02:02<00:38, 10.35it/s]"
     ]
    },
    {
     "name": "stdout",
     "output_type": "stream",
     "text": [
      "Step: 604 [D loss: 0.000026, acc.: 100.00%] [G loss: 9.606584]\n",
      "Step: 605 [D loss: 0.000029, acc.: 100.00%] [G loss: 10.565976]\n"
     ]
    },
    {
     "name": "stderr",
     "output_type": "stream",
     "text": [
      " 61%|██████    | 606/1000 [02:02<00:36, 10.88it/s]"
     ]
    },
    {
     "name": "stdout",
     "output_type": "stream",
     "text": [
      "Step: 606 [D loss: 0.000033, acc.: 100.00%] [G loss: 9.245608]\n",
      "Step: 607 [D loss: 0.000083, acc.: 100.00%] [G loss: 9.635646]\n"
     ]
    },
    {
     "name": "stderr",
     "output_type": "stream",
     "text": [
      " 61%|██████    | 608/1000 [02:02<00:34, 11.34it/s]"
     ]
    },
    {
     "name": "stdout",
     "output_type": "stream",
     "text": [
      "Step: 608 [D loss: 0.000055, acc.: 100.00%] [G loss: 8.668153]\n",
      "Step: 609 [D loss: 0.000076, acc.: 100.00%] [G loss: 10.515317]\n"
     ]
    },
    {
     "name": "stderr",
     "output_type": "stream",
     "text": [
      " 61%|██████    | 610/1000 [02:02<00:33, 11.72it/s]"
     ]
    },
    {
     "name": "stdout",
     "output_type": "stream",
     "text": [
      "Step: 610 [D loss: 0.000049, acc.: 100.00%] [G loss: 9.855075]\n",
      "Step: 611 [D loss: 0.000078, acc.: 100.00%] [G loss: 9.502256]\n"
     ]
    },
    {
     "name": "stderr",
     "output_type": "stream",
     "text": [
      " 61%|██████    | 612/1000 [02:03<00:32, 11.86it/s]"
     ]
    },
    {
     "name": "stdout",
     "output_type": "stream",
     "text": [
      "Step: 612 [D loss: 0.000016, acc.: 100.00%] [G loss: 11.835575]\n",
      "Step: 613 [D loss: 0.000298, acc.: 100.00%] [G loss: 10.728150]\n"
     ]
    },
    {
     "name": "stderr",
     "output_type": "stream",
     "text": [
      " 61%|██████▏   | 614/1000 [02:03<00:31, 12.11it/s]"
     ]
    },
    {
     "name": "stdout",
     "output_type": "stream",
     "text": [
      "Step: 614 [D loss: 0.000039, acc.: 100.00%] [G loss: 10.615786]\n",
      "Step: 615 [D loss: 0.000129, acc.: 100.00%] [G loss: 10.328660]\n"
     ]
    },
    {
     "name": "stderr",
     "output_type": "stream",
     "text": [
      " 62%|██████▏   | 616/1000 [02:03<00:32, 11.85it/s]"
     ]
    },
    {
     "name": "stdout",
     "output_type": "stream",
     "text": [
      "Step: 616 [D loss: 0.000122, acc.: 100.00%] [G loss: 8.653886]\n",
      "Step: 617 [D loss: 0.000208, acc.: 100.00%] [G loss: 10.117517]\n"
     ]
    },
    {
     "name": "stderr",
     "output_type": "stream",
     "text": [
      " 62%|██████▏   | 618/1000 [02:03<00:31, 12.11it/s]"
     ]
    },
    {
     "name": "stdout",
     "output_type": "stream",
     "text": [
      "Step: 618 [D loss: 0.000044, acc.: 100.00%] [G loss: 10.243460]\n",
      "Step: 619 [D loss: 0.000614, acc.: 100.00%] [G loss: 9.306018]\n"
     ]
    },
    {
     "name": "stderr",
     "output_type": "stream",
     "text": [
      " 62%|██████▏   | 620/1000 [02:03<00:30, 12.29it/s]"
     ]
    },
    {
     "name": "stdout",
     "output_type": "stream",
     "text": [
      "Step: 620 [D loss: 0.000413, acc.: 100.00%] [G loss: 8.500349]\n",
      "Step: 621 [D loss: 0.000074, acc.: 100.00%] [G loss: 10.468410]\n"
     ]
    },
    {
     "name": "stderr",
     "output_type": "stream",
     "text": [
      " 62%|██████▏   | 622/1000 [02:03<00:30, 12.33it/s]"
     ]
    },
    {
     "name": "stdout",
     "output_type": "stream",
     "text": [
      "Step: 622 [D loss: 0.000054, acc.: 100.00%] [G loss: 10.122519]\n",
      "Step: 623 [D loss: 0.000022, acc.: 100.00%] [G loss: 12.100827]\n"
     ]
    },
    {
     "name": "stderr",
     "output_type": "stream",
     "text": [
      " 62%|██████▏   | 624/1000 [02:04<00:30, 12.40it/s]"
     ]
    },
    {
     "name": "stdout",
     "output_type": "stream",
     "text": [
      "Step: 624 [D loss: 0.000034, acc.: 100.00%] [G loss: 9.838991]\n",
      "Step: 625 [D loss: 0.000019, acc.: 100.00%] [G loss: 9.475538]\n"
     ]
    },
    {
     "name": "stderr",
     "output_type": "stream",
     "text": [
      " 63%|██████▎   | 626/1000 [02:04<00:30, 12.34it/s]"
     ]
    },
    {
     "name": "stdout",
     "output_type": "stream",
     "text": [
      "Step: 626 [D loss: 0.000024, acc.: 100.00%] [G loss: 11.401639]\n",
      "Step: 627 [D loss: 0.000061, acc.: 100.00%] [G loss: 10.027985]\n"
     ]
    },
    {
     "name": "stderr",
     "output_type": "stream",
     "text": [
      " 63%|██████▎   | 628/1000 [02:04<00:30, 12.27it/s]"
     ]
    },
    {
     "name": "stdout",
     "output_type": "stream",
     "text": [
      "Step: 628 [D loss: 0.000021, acc.: 100.00%] [G loss: 10.466241]\n",
      "Step: 629 [D loss: 0.000036, acc.: 100.00%] [G loss: 10.712581]\n"
     ]
    },
    {
     "name": "stderr",
     "output_type": "stream",
     "text": [
      " 63%|██████▎   | 630/1000 [02:04<00:30, 12.20it/s]"
     ]
    },
    {
     "name": "stdout",
     "output_type": "stream",
     "text": [
      "Step: 630 [D loss: 0.000178, acc.: 100.00%] [G loss: 9.769956]\n",
      "Step: 631 [D loss: 0.000026, acc.: 100.00%] [G loss: 11.420300]\n"
     ]
    },
    {
     "name": "stderr",
     "output_type": "stream",
     "text": [
      " 63%|██████▎   | 632/1000 [02:04<00:30, 12.11it/s]"
     ]
    },
    {
     "name": "stdout",
     "output_type": "stream",
     "text": [
      "Step: 632 [D loss: 0.000015, acc.: 100.00%] [G loss: 10.440730]\n",
      "Step: 633 [D loss: 0.000066, acc.: 100.00%] [G loss: 10.689052]\n"
     ]
    },
    {
     "name": "stderr",
     "output_type": "stream",
     "text": [
      " 63%|██████▎   | 634/1000 [02:04<00:30, 12.18it/s]"
     ]
    },
    {
     "name": "stdout",
     "output_type": "stream",
     "text": [
      "Step: 634 [D loss: 0.000761, acc.: 100.00%] [G loss: 9.381786]\n",
      "Step: 635 [D loss: 0.000017, acc.: 100.00%] [G loss: 9.525848]\n"
     ]
    },
    {
     "name": "stderr",
     "output_type": "stream",
     "text": [
      " 64%|██████▎   | 636/1000 [02:05<00:29, 12.30it/s]"
     ]
    },
    {
     "name": "stdout",
     "output_type": "stream",
     "text": [
      "Step: 636 [D loss: 0.000015, acc.: 100.00%] [G loss: 10.599144]\n",
      "Step: 637 [D loss: 0.000033, acc.: 100.00%] [G loss: 9.268130]\n"
     ]
    },
    {
     "name": "stderr",
     "output_type": "stream",
     "text": [
      " 64%|██████▍   | 638/1000 [02:05<00:29, 12.26it/s]"
     ]
    },
    {
     "name": "stdout",
     "output_type": "stream",
     "text": [
      "Step: 638 [D loss: 0.000239, acc.: 100.00%] [G loss: 8.612203]\n",
      "Step: 639 [D loss: 0.000034, acc.: 100.00%] [G loss: 9.957111]\n"
     ]
    },
    {
     "name": "stderr",
     "output_type": "stream",
     "text": [
      " 64%|██████▍   | 640/1000 [02:05<00:29, 12.36it/s]"
     ]
    },
    {
     "name": "stdout",
     "output_type": "stream",
     "text": [
      "Step: 640 [D loss: 0.000027, acc.: 100.00%] [G loss: 12.232793]\n",
      "Step: 641 [D loss: 0.000035, acc.: 100.00%] [G loss: 11.647028]\n"
     ]
    },
    {
     "name": "stderr",
     "output_type": "stream",
     "text": [
      " 64%|██████▍   | 642/1000 [02:05<00:28, 12.40it/s]"
     ]
    },
    {
     "name": "stdout",
     "output_type": "stream",
     "text": [
      "Step: 642 [D loss: 0.000031, acc.: 100.00%] [G loss: 11.054576]\n",
      "Step: 643 [D loss: 0.000247, acc.: 100.00%] [G loss: 10.531669]\n"
     ]
    },
    {
     "name": "stderr",
     "output_type": "stream",
     "text": [
      " 64%|██████▍   | 644/1000 [02:05<00:28, 12.34it/s]"
     ]
    },
    {
     "name": "stdout",
     "output_type": "stream",
     "text": [
      "Step: 644 [D loss: 0.000021, acc.: 100.00%] [G loss: 10.340952]\n",
      "Step: 645 [D loss: 0.000015, acc.: 100.00%] [G loss: 10.804571]\n"
     ]
    },
    {
     "name": "stderr",
     "output_type": "stream",
     "text": [
      " 65%|██████▍   | 646/1000 [02:05<00:28, 12.48it/s]"
     ]
    },
    {
     "name": "stdout",
     "output_type": "stream",
     "text": [
      "Step: 646 [D loss: 0.000185, acc.: 100.00%] [G loss: 9.571217]\n",
      "Step: 647 [D loss: 0.000023, acc.: 100.00%] [G loss: 10.962985]\n"
     ]
    },
    {
     "name": "stderr",
     "output_type": "stream",
     "text": [
      " 65%|██████▍   | 648/1000 [02:06<00:28, 12.34it/s]"
     ]
    },
    {
     "name": "stdout",
     "output_type": "stream",
     "text": [
      "Step: 648 [D loss: 0.000020, acc.: 100.00%] [G loss: 10.131504]\n",
      "Step: 649 [D loss: 0.000119, acc.: 100.00%] [G loss: 10.094672]\n"
     ]
    },
    {
     "name": "stderr",
     "output_type": "stream",
     "text": [
      " 65%|██████▌   | 650/1000 [02:06<00:28, 12.37it/s]"
     ]
    },
    {
     "name": "stdout",
     "output_type": "stream",
     "text": [
      "Step: 650 [D loss: 0.000030, acc.: 100.00%] [G loss: 10.060539]\n",
      "Step: 651 [D loss: 0.000039, acc.: 100.00%] [G loss: 10.023641]\n"
     ]
    },
    {
     "name": "stderr",
     "output_type": "stream",
     "text": [
      " 65%|██████▌   | 652/1000 [02:06<00:28, 12.36it/s]"
     ]
    },
    {
     "name": "stdout",
     "output_type": "stream",
     "text": [
      "Step: 652 [D loss: 0.000286, acc.: 100.00%] [G loss: 9.824863]\n",
      "Step: 653 [D loss: 0.000297, acc.: 100.00%] [G loss: 8.979307]\n"
     ]
    },
    {
     "name": "stderr",
     "output_type": "stream",
     "text": [
      " 65%|██████▌   | 654/1000 [02:06<00:28, 12.33it/s]"
     ]
    },
    {
     "name": "stdout",
     "output_type": "stream",
     "text": [
      "Step: 654 [D loss: 0.000016, acc.: 100.00%] [G loss: 10.935873]\n",
      "Step: 655 [D loss: 0.000019, acc.: 100.00%] [G loss: 10.137307]\n"
     ]
    },
    {
     "name": "stderr",
     "output_type": "stream",
     "text": [
      " 66%|██████▌   | 656/1000 [02:06<00:27, 12.43it/s]"
     ]
    },
    {
     "name": "stdout",
     "output_type": "stream",
     "text": [
      "Step: 656 [D loss: 0.000077, acc.: 100.00%] [G loss: 10.253146]\n",
      "Step: 657 [D loss: 0.000340, acc.: 100.00%] [G loss: 9.916252]\n"
     ]
    },
    {
     "name": "stderr",
     "output_type": "stream",
     "text": [
      " 66%|██████▌   | 658/1000 [02:06<00:27, 12.47it/s]"
     ]
    },
    {
     "name": "stdout",
     "output_type": "stream",
     "text": [
      "Step: 658 [D loss: 0.000062, acc.: 100.00%] [G loss: 10.312891]\n",
      "Step: 659 [D loss: 0.000061, acc.: 100.00%] [G loss: 10.602424]\n"
     ]
    },
    {
     "name": "stderr",
     "output_type": "stream",
     "text": [
      " 66%|██████▌   | 660/1000 [02:07<00:27, 12.36it/s]"
     ]
    },
    {
     "name": "stdout",
     "output_type": "stream",
     "text": [
      "Step: 660 [D loss: 0.000180, acc.: 100.00%] [G loss: 11.135342]\n",
      "Step: 661 [D loss: 0.000018, acc.: 100.00%] [G loss: 9.088866]\n"
     ]
    },
    {
     "name": "stderr",
     "output_type": "stream",
     "text": [
      " 66%|██████▌   | 662/1000 [02:07<00:27, 12.33it/s]"
     ]
    },
    {
     "name": "stdout",
     "output_type": "stream",
     "text": [
      "Step: 662 [D loss: 0.000074, acc.: 100.00%] [G loss: 10.336173]\n",
      "Step: 663 [D loss: 0.000024, acc.: 100.00%] [G loss: 10.456561]\n"
     ]
    },
    {
     "name": "stderr",
     "output_type": "stream",
     "text": [
      " 66%|██████▋   | 664/1000 [02:07<00:27, 12.34it/s]"
     ]
    },
    {
     "name": "stdout",
     "output_type": "stream",
     "text": [
      "Step: 664 [D loss: 0.000015, acc.: 100.00%] [G loss: 10.211663]\n",
      "Step: 665 [D loss: 0.000137, acc.: 100.00%] [G loss: 8.711503]\n"
     ]
    },
    {
     "name": "stderr",
     "output_type": "stream",
     "text": [
      " 67%|██████▋   | 666/1000 [02:07<00:26, 12.38it/s]"
     ]
    },
    {
     "name": "stdout",
     "output_type": "stream",
     "text": [
      "Step: 666 [D loss: 0.000015, acc.: 100.00%] [G loss: 9.735684]\n",
      "Step: 667 [D loss: 0.000016, acc.: 100.00%] [G loss: 10.279380]\n"
     ]
    },
    {
     "name": "stderr",
     "output_type": "stream",
     "text": [
      " 67%|██████▋   | 668/1000 [02:07<00:26, 12.35it/s]"
     ]
    },
    {
     "name": "stdout",
     "output_type": "stream",
     "text": [
      "Step: 668 [D loss: 0.000171, acc.: 100.00%] [G loss: 10.447652]\n",
      "Step: 669 [D loss: 0.000133, acc.: 100.00%] [G loss: 11.319869]\n"
     ]
    },
    {
     "name": "stderr",
     "output_type": "stream",
     "text": [
      " 67%|██████▋   | 670/1000 [02:07<00:26, 12.35it/s]"
     ]
    },
    {
     "name": "stdout",
     "output_type": "stream",
     "text": [
      "Step: 670 [D loss: 0.000034, acc.: 100.00%] [G loss: 9.380934]\n",
      "Step: 671 [D loss: 0.000185, acc.: 100.00%] [G loss: 9.651642]\n"
     ]
    },
    {
     "name": "stderr",
     "output_type": "stream",
     "text": [
      " 67%|██████▋   | 672/1000 [02:07<00:26, 12.46it/s]"
     ]
    },
    {
     "name": "stdout",
     "output_type": "stream",
     "text": [
      "Step: 672 [D loss: 0.000047, acc.: 100.00%] [G loss: 10.297041]\n",
      "Step: 673 [D loss: 0.000062, acc.: 100.00%] [G loss: 9.649101]\n"
     ]
    },
    {
     "name": "stderr",
     "output_type": "stream",
     "text": [
      " 67%|██████▋   | 674/1000 [02:08<00:26, 12.47it/s]"
     ]
    },
    {
     "name": "stdout",
     "output_type": "stream",
     "text": [
      "Step: 674 [D loss: 0.000010, acc.: 100.00%] [G loss: 9.530581]\n",
      "Step: 675 [D loss: 0.000033, acc.: 100.00%] [G loss: 10.367485]\n"
     ]
    },
    {
     "name": "stderr",
     "output_type": "stream",
     "text": [
      " 68%|██████▊   | 676/1000 [02:08<00:26, 12.36it/s]"
     ]
    },
    {
     "name": "stdout",
     "output_type": "stream",
     "text": [
      "Step: 676 [D loss: 0.000032, acc.: 100.00%] [G loss: 10.329376]\n",
      "Step: 677 [D loss: 0.000018, acc.: 100.00%] [G loss: 9.648088]\n"
     ]
    },
    {
     "name": "stderr",
     "output_type": "stream",
     "text": [
      " 68%|██████▊   | 678/1000 [02:08<00:26, 12.38it/s]"
     ]
    },
    {
     "name": "stdout",
     "output_type": "stream",
     "text": [
      "Step: 678 [D loss: 0.000033, acc.: 100.00%] [G loss: 10.537277]\n",
      "Step: 679 [D loss: 0.000064, acc.: 100.00%] [G loss: 9.514698]\n"
     ]
    },
    {
     "name": "stderr",
     "output_type": "stream",
     "text": [
      " 68%|██████▊   | 680/1000 [02:08<00:25, 12.42it/s]"
     ]
    },
    {
     "name": "stdout",
     "output_type": "stream",
     "text": [
      "Step: 680 [D loss: 0.000023, acc.: 100.00%] [G loss: 10.056360]\n",
      "Step: 681 [D loss: 0.000032, acc.: 100.00%] [G loss: 10.380210]\n"
     ]
    },
    {
     "name": "stderr",
     "output_type": "stream",
     "text": [
      " 68%|██████▊   | 682/1000 [02:08<00:25, 12.46it/s]"
     ]
    },
    {
     "name": "stdout",
     "output_type": "stream",
     "text": [
      "Step: 682 [D loss: 0.000094, acc.: 100.00%] [G loss: 9.851592]\n",
      "Step: 683 [D loss: 0.001747, acc.: 100.00%] [G loss: 8.448328]\n"
     ]
    },
    {
     "name": "stderr",
     "output_type": "stream",
     "text": [
      " 68%|██████▊   | 684/1000 [02:08<00:25, 12.50it/s]"
     ]
    },
    {
     "name": "stdout",
     "output_type": "stream",
     "text": [
      "Step: 684 [D loss: 0.000663, acc.: 100.00%] [G loss: 7.692917]\n",
      "Step: 685 [D loss: 0.000095, acc.: 100.00%] [G loss: 8.643201]\n"
     ]
    },
    {
     "name": "stderr",
     "output_type": "stream",
     "text": [
      " 69%|██████▊   | 686/1000 [02:09<00:25, 12.36it/s]"
     ]
    },
    {
     "name": "stdout",
     "output_type": "stream",
     "text": [
      "Step: 686 [D loss: 0.000011, acc.: 100.00%] [G loss: 10.812472]\n",
      "Step: 687 [D loss: 0.000012, acc.: 100.00%] [G loss: 11.081099]\n"
     ]
    },
    {
     "name": "stderr",
     "output_type": "stream",
     "text": [
      " 69%|██████▉   | 688/1000 [02:09<00:25, 12.38it/s]"
     ]
    },
    {
     "name": "stdout",
     "output_type": "stream",
     "text": [
      "Step: 688 [D loss: 0.000124, acc.: 100.00%] [G loss: 8.747553]\n",
      "Step: 689 [D loss: 0.000019, acc.: 100.00%] [G loss: 10.721097]\n"
     ]
    },
    {
     "name": "stderr",
     "output_type": "stream",
     "text": [
      " 69%|██████▉   | 690/1000 [02:09<00:24, 12.46it/s]"
     ]
    },
    {
     "name": "stdout",
     "output_type": "stream",
     "text": [
      "Step: 690 [D loss: 0.000122, acc.: 100.00%] [G loss: 9.814460]\n",
      "Step: 691 [D loss: 0.000125, acc.: 100.00%] [G loss: 10.823970]\n"
     ]
    },
    {
     "name": "stderr",
     "output_type": "stream",
     "text": [
      " 69%|██████▉   | 692/1000 [02:09<00:24, 12.47it/s]"
     ]
    },
    {
     "name": "stdout",
     "output_type": "stream",
     "text": [
      "Step: 692 [D loss: 0.000035, acc.: 100.00%] [G loss: 11.742826]\n",
      "Step: 693 [D loss: 0.000017, acc.: 100.00%] [G loss: 10.991717]\n"
     ]
    },
    {
     "name": "stderr",
     "output_type": "stream",
     "text": [
      " 69%|██████▉   | 694/1000 [02:09<00:24, 12.32it/s]"
     ]
    },
    {
     "name": "stdout",
     "output_type": "stream",
     "text": [
      "Step: 694 [D loss: 0.000008, acc.: 100.00%] [G loss: 10.458897]\n",
      "Step: 695 [D loss: 0.000033, acc.: 100.00%] [G loss: 11.594695]\n"
     ]
    },
    {
     "name": "stderr",
     "output_type": "stream",
     "text": [
      " 70%|██████▉   | 696/1000 [02:09<00:24, 12.35it/s]"
     ]
    },
    {
     "name": "stdout",
     "output_type": "stream",
     "text": [
      "Step: 696 [D loss: 0.000043, acc.: 100.00%] [G loss: 11.609080]\n",
      "Step: 697 [D loss: 0.000606, acc.: 100.00%] [G loss: 10.976924]\n"
     ]
    },
    {
     "name": "stderr",
     "output_type": "stream",
     "text": [
      " 70%|██████▉   | 698/1000 [02:10<00:24, 12.48it/s]"
     ]
    },
    {
     "name": "stdout",
     "output_type": "stream",
     "text": [
      "Step: 698 [D loss: 0.000066, acc.: 100.00%] [G loss: 8.691659]\n",
      "Step: 699 [D loss: 0.000090, acc.: 100.00%] [G loss: 9.941882]\n"
     ]
    },
    {
     "name": "stderr",
     "output_type": "stream",
     "text": [
      " 70%|███████   | 700/1000 [02:10<00:23, 12.51it/s]"
     ]
    },
    {
     "name": "stdout",
     "output_type": "stream",
     "text": [
      "Step: 700 [D loss: 0.000157, acc.: 100.00%] [G loss: 10.136143]\n",
      "Step: 701 [D loss: 0.000025, acc.: 100.00%] [G loss: 9.061595]\n"
     ]
    },
    {
     "name": "stderr",
     "output_type": "stream",
     "text": [
      " 70%|███████   | 702/1000 [02:10<00:24, 12.41it/s]"
     ]
    },
    {
     "name": "stdout",
     "output_type": "stream",
     "text": [
      "Step: 702 [D loss: 0.000038, acc.: 100.00%] [G loss: 9.266898]\n",
      "Step: 703 [D loss: 0.000205, acc.: 100.00%] [G loss: 7.024271]\n"
     ]
    },
    {
     "name": "stderr",
     "output_type": "stream",
     "text": [
      " 70%|███████   | 704/1000 [02:10<00:23, 12.46it/s]"
     ]
    },
    {
     "name": "stdout",
     "output_type": "stream",
     "text": [
      "Step: 704 [D loss: 0.000024, acc.: 100.00%] [G loss: 11.426221]\n",
      "Step: 705 [D loss: 0.000046, acc.: 100.00%] [G loss: 9.670453]\n"
     ]
    },
    {
     "name": "stderr",
     "output_type": "stream",
     "text": [
      " 71%|███████   | 706/1000 [02:10<00:23, 12.54it/s]"
     ]
    },
    {
     "name": "stdout",
     "output_type": "stream",
     "text": [
      "Step: 706 [D loss: 0.000032, acc.: 100.00%] [G loss: 11.155892]\n",
      "Step: 707 [D loss: 0.000014, acc.: 100.00%] [G loss: 11.057552]\n"
     ]
    },
    {
     "name": "stderr",
     "output_type": "stream",
     "text": [
      " 71%|███████   | 708/1000 [02:10<00:23, 12.39it/s]"
     ]
    },
    {
     "name": "stdout",
     "output_type": "stream",
     "text": [
      "Step: 708 [D loss: 0.000008, acc.: 100.00%] [G loss: 11.519426]\n",
      "Step: 709 [D loss: 0.000016, acc.: 100.00%] [G loss: 11.274757]\n"
     ]
    },
    {
     "name": "stderr",
     "output_type": "stream",
     "text": [
      " 71%|███████   | 710/1000 [02:11<00:23, 12.47it/s]"
     ]
    },
    {
     "name": "stdout",
     "output_type": "stream",
     "text": [
      "Step: 710 [D loss: 0.000016, acc.: 100.00%] [G loss: 10.637146]\n",
      "Step: 711 [D loss: 0.000070, acc.: 100.00%] [G loss: 8.498877]\n"
     ]
    },
    {
     "name": "stderr",
     "output_type": "stream",
     "text": [
      " 71%|███████   | 712/1000 [02:11<00:23, 12.45it/s]"
     ]
    },
    {
     "name": "stdout",
     "output_type": "stream",
     "text": [
      "Step: 712 [D loss: 0.000032, acc.: 100.00%] [G loss: 10.794223]\n",
      "Step: 713 [D loss: 0.000023, acc.: 100.00%] [G loss: 12.456430]\n"
     ]
    },
    {
     "name": "stderr",
     "output_type": "stream",
     "text": [
      " 71%|███████▏  | 714/1000 [02:11<00:22, 12.56it/s]"
     ]
    },
    {
     "name": "stdout",
     "output_type": "stream",
     "text": [
      "Step: 714 [D loss: 0.000074, acc.: 100.00%] [G loss: 11.405406]\n",
      "Step: 715 [D loss: 0.000028, acc.: 100.00%] [G loss: 11.814330]\n"
     ]
    },
    {
     "name": "stderr",
     "output_type": "stream",
     "text": [
      " 72%|███████▏  | 716/1000 [02:11<00:22, 12.57it/s]"
     ]
    },
    {
     "name": "stdout",
     "output_type": "stream",
     "text": [
      "Step: 716 [D loss: 0.000022, acc.: 100.00%] [G loss: 10.740465]\n",
      "Step: 717 [D loss: 0.000024, acc.: 100.00%] [G loss: 11.767272]\n"
     ]
    },
    {
     "name": "stderr",
     "output_type": "stream",
     "text": [
      " 72%|███████▏  | 718/1000 [02:11<00:22, 12.47it/s]"
     ]
    },
    {
     "name": "stdout",
     "output_type": "stream",
     "text": [
      "Step: 718 [D loss: 0.000011, acc.: 100.00%] [G loss: 10.245100]\n",
      "Step: 719 [D loss: 0.000010, acc.: 100.00%] [G loss: 12.078615]\n"
     ]
    },
    {
     "name": "stderr",
     "output_type": "stream",
     "text": [
      " 72%|███████▏  | 720/1000 [02:11<00:22, 12.46it/s]"
     ]
    },
    {
     "name": "stdout",
     "output_type": "stream",
     "text": [
      "Step: 720 [D loss: 0.000030, acc.: 100.00%] [G loss: 11.056191]\n",
      "Step: 721 [D loss: 0.000025, acc.: 100.00%] [G loss: 10.880620]\n"
     ]
    },
    {
     "name": "stderr",
     "output_type": "stream",
     "text": [
      " 72%|███████▏  | 722/1000 [02:11<00:22, 12.54it/s]"
     ]
    },
    {
     "name": "stdout",
     "output_type": "stream",
     "text": [
      "Step: 722 [D loss: 0.000026, acc.: 100.00%] [G loss: 10.770248]\n",
      "Step: 723 [D loss: 0.000012, acc.: 100.00%] [G loss: 11.124364]\n"
     ]
    },
    {
     "name": "stderr",
     "output_type": "stream",
     "text": [
      " 72%|███████▏  | 724/1000 [02:12<00:22, 12.50it/s]"
     ]
    },
    {
     "name": "stdout",
     "output_type": "stream",
     "text": [
      "Step: 724 [D loss: 0.000040, acc.: 100.00%] [G loss: 10.202482]\n",
      "Step: 725 [D loss: 0.000018, acc.: 100.00%] [G loss: 12.353046]\n"
     ]
    },
    {
     "name": "stderr",
     "output_type": "stream",
     "text": [
      " 73%|███████▎  | 726/1000 [02:12<00:21, 12.55it/s]"
     ]
    },
    {
     "name": "stdout",
     "output_type": "stream",
     "text": [
      "Step: 726 [D loss: 0.000014, acc.: 100.00%] [G loss: 11.071505]\n",
      "Step: 727 [D loss: 0.000023, acc.: 100.00%] [G loss: 12.754884]\n"
     ]
    },
    {
     "name": "stderr",
     "output_type": "stream",
     "text": [
      " 73%|███████▎  | 728/1000 [02:12<00:21, 12.51it/s]"
     ]
    },
    {
     "name": "stdout",
     "output_type": "stream",
     "text": [
      "Step: 728 [D loss: 0.000022, acc.: 100.00%] [G loss: 11.416210]\n",
      "Step: 729 [D loss: 0.000014, acc.: 100.00%] [G loss: 10.997911]\n"
     ]
    },
    {
     "name": "stderr",
     "output_type": "stream",
     "text": [
      " 73%|███████▎  | 730/1000 [02:12<00:21, 12.48it/s]"
     ]
    },
    {
     "name": "stdout",
     "output_type": "stream",
     "text": [
      "Step: 730 [D loss: 0.000128, acc.: 100.00%] [G loss: 9.263340]\n",
      "Step: 731 [D loss: 0.000125, acc.: 100.00%] [G loss: 11.391056]\n"
     ]
    },
    {
     "name": "stderr",
     "output_type": "stream",
     "text": [
      " 73%|███████▎  | 732/1000 [02:12<00:21, 12.44it/s]"
     ]
    },
    {
     "name": "stdout",
     "output_type": "stream",
     "text": [
      "Step: 732 [D loss: 0.000053, acc.: 100.00%] [G loss: 10.150327]\n",
      "Step: 733 [D loss: 0.000024, acc.: 100.00%] [G loss: 11.248152]\n"
     ]
    },
    {
     "name": "stderr",
     "output_type": "stream",
     "text": [
      " 73%|███████▎  | 734/1000 [02:12<00:21, 12.36it/s]"
     ]
    },
    {
     "name": "stdout",
     "output_type": "stream",
     "text": [
      "Step: 734 [D loss: 0.000011, acc.: 100.00%] [G loss: 11.856384]\n",
      "Step: 735 [D loss: 0.000016, acc.: 100.00%] [G loss: 11.203477]\n"
     ]
    },
    {
     "name": "stderr",
     "output_type": "stream",
     "text": [
      " 74%|███████▎  | 736/1000 [02:13<00:21, 12.43it/s]"
     ]
    },
    {
     "name": "stdout",
     "output_type": "stream",
     "text": [
      "Step: 736 [D loss: 0.000033, acc.: 100.00%] [G loss: 9.918245]\n",
      "Step: 737 [D loss: 0.000018, acc.: 100.00%] [G loss: 11.468889]\n"
     ]
    },
    {
     "name": "stderr",
     "output_type": "stream",
     "text": [
      " 74%|███████▍  | 738/1000 [02:13<00:21, 12.45it/s]"
     ]
    },
    {
     "name": "stdout",
     "output_type": "stream",
     "text": [
      "Step: 738 [D loss: 0.000005, acc.: 100.00%] [G loss: 12.297546]\n",
      "Step: 739 [D loss: 0.000017, acc.: 100.00%] [G loss: 10.649580]\n"
     ]
    },
    {
     "name": "stderr",
     "output_type": "stream",
     "text": [
      " 74%|███████▍  | 740/1000 [02:13<00:21, 12.30it/s]"
     ]
    },
    {
     "name": "stdout",
     "output_type": "stream",
     "text": [
      "Step: 740 [D loss: 0.000008, acc.: 100.00%] [G loss: 10.434040]\n",
      "Step: 741 [D loss: 0.000174, acc.: 100.00%] [G loss: 9.904867]\n"
     ]
    },
    {
     "name": "stderr",
     "output_type": "stream",
     "text": [
      " 74%|███████▍  | 742/1000 [02:13<00:21, 12.27it/s]"
     ]
    },
    {
     "name": "stdout",
     "output_type": "stream",
     "text": [
      "Step: 742 [D loss: 0.000028, acc.: 100.00%] [G loss: 10.283374]\n",
      "Step: 743 [D loss: 0.000428, acc.: 100.00%] [G loss: 10.365948]\n"
     ]
    },
    {
     "name": "stderr",
     "output_type": "stream",
     "text": [
      " 74%|███████▍  | 744/1000 [02:13<00:20, 12.25it/s]"
     ]
    },
    {
     "name": "stdout",
     "output_type": "stream",
     "text": [
      "Step: 744 [D loss: 0.000062, acc.: 100.00%] [G loss: 9.674886]\n",
      "Step: 745 [D loss: 0.000016, acc.: 100.00%] [G loss: 9.559873]\n"
     ]
    },
    {
     "name": "stderr",
     "output_type": "stream",
     "text": [
      " 75%|███████▍  | 746/1000 [02:13<00:20, 12.32it/s]"
     ]
    },
    {
     "name": "stdout",
     "output_type": "stream",
     "text": [
      "Step: 746 [D loss: 0.000026, acc.: 100.00%] [G loss: 9.675002]\n",
      "Step: 747 [D loss: 0.000012, acc.: 100.00%] [G loss: 11.074460]\n"
     ]
    },
    {
     "name": "stderr",
     "output_type": "stream",
     "text": [
      " 75%|███████▍  | 748/1000 [02:14<00:20, 12.44it/s]"
     ]
    },
    {
     "name": "stdout",
     "output_type": "stream",
     "text": [
      "Step: 748 [D loss: 0.000084, acc.: 100.00%] [G loss: 9.370265]\n",
      "Step: 749 [D loss: 0.000042, acc.: 100.00%] [G loss: 9.030481]\n"
     ]
    },
    {
     "name": "stderr",
     "output_type": "stream",
     "text": [
      " 75%|███████▌  | 750/1000 [02:14<00:20, 12.41it/s]"
     ]
    },
    {
     "name": "stdout",
     "output_type": "stream",
     "text": [
      "Step: 750 [D loss: 0.000040, acc.: 100.00%] [G loss: 11.570394]\n",
      "Step: 751 [D loss: 0.000032, acc.: 100.00%] [G loss: 10.939571]\n"
     ]
    },
    {
     "name": "stderr",
     "output_type": "stream",
     "text": [
      " 75%|███████▌  | 752/1000 [02:14<00:19, 12.55it/s]"
     ]
    },
    {
     "name": "stdout",
     "output_type": "stream",
     "text": [
      "Step: 752 [D loss: 0.000061, acc.: 100.00%] [G loss: 11.443604]\n",
      "Step: 753 [D loss: 0.000044, acc.: 100.00%] [G loss: 9.143392]\n"
     ]
    },
    {
     "name": "stderr",
     "output_type": "stream",
     "text": [
      " 75%|███████▌  | 754/1000 [02:14<00:19, 12.54it/s]"
     ]
    },
    {
     "name": "stdout",
     "output_type": "stream",
     "text": [
      "Step: 754 [D loss: 0.000027, acc.: 100.00%] [G loss: 10.516370]\n",
      "Step: 755 [D loss: 0.000146, acc.: 100.00%] [G loss: 9.130820]\n"
     ]
    },
    {
     "name": "stderr",
     "output_type": "stream",
     "text": [
      " 76%|███████▌  | 756/1000 [02:14<00:19, 12.39it/s]"
     ]
    },
    {
     "name": "stdout",
     "output_type": "stream",
     "text": [
      "Step: 756 [D loss: 0.000040, acc.: 100.00%] [G loss: 11.243303]\n",
      "Step: 757 [D loss: 0.000011, acc.: 100.00%] [G loss: 10.364541]\n"
     ]
    },
    {
     "name": "stderr",
     "output_type": "stream",
     "text": [
      " 76%|███████▌  | 758/1000 [02:14<00:19, 12.49it/s]"
     ]
    },
    {
     "name": "stdout",
     "output_type": "stream",
     "text": [
      "Step: 758 [D loss: 0.000094, acc.: 100.00%] [G loss: 10.680308]\n",
      "Step: 759 [D loss: 0.000042, acc.: 100.00%] [G loss: 10.614127]\n"
     ]
    },
    {
     "name": "stderr",
     "output_type": "stream",
     "text": [
      " 76%|███████▌  | 760/1000 [02:15<00:19, 12.42it/s]"
     ]
    },
    {
     "name": "stdout",
     "output_type": "stream",
     "text": [
      "Step: 760 [D loss: 0.000226, acc.: 100.00%] [G loss: 10.114616]\n",
      "Step: 761 [D loss: 0.000008, acc.: 100.00%] [G loss: 9.744924]\n"
     ]
    },
    {
     "name": "stderr",
     "output_type": "stream",
     "text": [
      " 76%|███████▌  | 762/1000 [02:15<00:19, 12.47it/s]"
     ]
    },
    {
     "name": "stdout",
     "output_type": "stream",
     "text": [
      "Step: 762 [D loss: 0.000064, acc.: 100.00%] [G loss: 9.900122]\n",
      "Step: 763 [D loss: 0.000030, acc.: 100.00%] [G loss: 9.046182]\n"
     ]
    },
    {
     "name": "stderr",
     "output_type": "stream",
     "text": [
      " 76%|███████▋  | 764/1000 [02:15<00:18, 12.55it/s]"
     ]
    },
    {
     "name": "stdout",
     "output_type": "stream",
     "text": [
      "Step: 764 [D loss: 0.000009, acc.: 100.00%] [G loss: 11.492516]\n",
      "Step: 765 [D loss: 0.000064, acc.: 100.00%] [G loss: 11.107820]\n"
     ]
    },
    {
     "name": "stderr",
     "output_type": "stream",
     "text": [
      " 77%|███████▋  | 766/1000 [02:15<00:18, 12.48it/s]"
     ]
    },
    {
     "name": "stdout",
     "output_type": "stream",
     "text": [
      "Step: 766 [D loss: 0.000032, acc.: 100.00%] [G loss: 10.146844]\n",
      "Step: 767 [D loss: 0.000131, acc.: 100.00%] [G loss: 11.465671]\n"
     ]
    },
    {
     "name": "stderr",
     "output_type": "stream",
     "text": [
      " 77%|███████▋  | 768/1000 [02:15<00:18, 12.58it/s]"
     ]
    },
    {
     "name": "stdout",
     "output_type": "stream",
     "text": [
      "Step: 768 [D loss: 0.000034, acc.: 100.00%] [G loss: 9.381345]\n",
      "Step: 769 [D loss: 0.000014, acc.: 100.00%] [G loss: 10.733880]\n"
     ]
    },
    {
     "name": "stderr",
     "output_type": "stream",
     "text": [
      " 77%|███████▋  | 770/1000 [02:15<00:18, 12.63it/s]"
     ]
    },
    {
     "name": "stdout",
     "output_type": "stream",
     "text": [
      "Step: 770 [D loss: 0.000008, acc.: 100.00%] [G loss: 10.865459]\n",
      "Step: 771 [D loss: 0.000245, acc.: 100.00%] [G loss: 8.253359]\n"
     ]
    },
    {
     "name": "stderr",
     "output_type": "stream",
     "text": [
      " 77%|███████▋  | 772/1000 [02:16<00:18, 12.54it/s]"
     ]
    },
    {
     "name": "stdout",
     "output_type": "stream",
     "text": [
      "Step: 772 [D loss: 0.000024, acc.: 100.00%] [G loss: 11.605318]\n",
      "Step: 773 [D loss: 0.000024, acc.: 100.00%] [G loss: 11.461685]\n"
     ]
    },
    {
     "name": "stderr",
     "output_type": "stream",
     "text": [
      " 77%|███████▋  | 774/1000 [02:16<00:18, 12.55it/s]"
     ]
    },
    {
     "name": "stdout",
     "output_type": "stream",
     "text": [
      "Step: 774 [D loss: 0.000006, acc.: 100.00%] [G loss: 12.601241]\n",
      "Step: 775 [D loss: 0.000007, acc.: 100.00%] [G loss: 12.599675]\n"
     ]
    },
    {
     "name": "stderr",
     "output_type": "stream",
     "text": [
      " 78%|███████▊  | 776/1000 [02:16<00:17, 12.51it/s]"
     ]
    },
    {
     "name": "stdout",
     "output_type": "stream",
     "text": [
      "Step: 776 [D loss: 0.000010, acc.: 100.00%] [G loss: 12.803375]\n",
      "Step: 777 [D loss: 0.000709, acc.: 100.00%] [G loss: 9.087220]\n"
     ]
    },
    {
     "name": "stderr",
     "output_type": "stream",
     "text": [
      " 78%|███████▊  | 778/1000 [02:16<00:17, 12.55it/s]"
     ]
    },
    {
     "name": "stdout",
     "output_type": "stream",
     "text": [
      "Step: 778 [D loss: 0.000016, acc.: 100.00%] [G loss: 10.566164]\n",
      "Step: 779 [D loss: 0.000021, acc.: 100.00%] [G loss: 9.882273]\n"
     ]
    },
    {
     "name": "stderr",
     "output_type": "stream",
     "text": [
      " 78%|███████▊  | 780/1000 [02:16<00:17, 12.40it/s]"
     ]
    },
    {
     "name": "stdout",
     "output_type": "stream",
     "text": [
      "Step: 780 [D loss: 0.000015, acc.: 100.00%] [G loss: 11.175422]\n",
      "Step: 781 [D loss: 0.000012, acc.: 100.00%] [G loss: 10.695787]\n"
     ]
    },
    {
     "name": "stderr",
     "output_type": "stream",
     "text": [
      " 78%|███████▊  | 782/1000 [02:16<00:17, 12.29it/s]"
     ]
    },
    {
     "name": "stdout",
     "output_type": "stream",
     "text": [
      "Step: 782 [D loss: 0.000298, acc.: 100.00%] [G loss: 10.805071]\n",
      "Step: 783 [D loss: 0.000041, acc.: 100.00%] [G loss: 9.872740]\n"
     ]
    },
    {
     "name": "stderr",
     "output_type": "stream",
     "text": [
      " 78%|███████▊  | 784/1000 [02:16<00:17, 12.31it/s]"
     ]
    },
    {
     "name": "stdout",
     "output_type": "stream",
     "text": [
      "Step: 784 [D loss: 0.000106, acc.: 100.00%] [G loss: 10.163594]\n",
      "Step: 785 [D loss: 0.000017, acc.: 100.00%] [G loss: 9.998815]\n"
     ]
    },
    {
     "name": "stderr",
     "output_type": "stream",
     "text": [
      " 79%|███████▊  | 786/1000 [02:17<00:17, 12.25it/s]"
     ]
    },
    {
     "name": "stdout",
     "output_type": "stream",
     "text": [
      "Step: 786 [D loss: 0.000016, acc.: 100.00%] [G loss: 11.783088]\n",
      "Step: 787 [D loss: 0.000068, acc.: 100.00%] [G loss: 9.106289]\n"
     ]
    },
    {
     "name": "stderr",
     "output_type": "stream",
     "text": [
      " 79%|███████▉  | 788/1000 [02:17<00:17, 12.32it/s]"
     ]
    },
    {
     "name": "stdout",
     "output_type": "stream",
     "text": [
      "Step: 788 [D loss: 0.000016, acc.: 100.00%] [G loss: 11.690704]\n",
      "Step: 789 [D loss: 0.000116, acc.: 100.00%] [G loss: 10.132575]\n"
     ]
    },
    {
     "name": "stderr",
     "output_type": "stream",
     "text": [
      " 79%|███████▉  | 790/1000 [02:17<00:16, 12.40it/s]"
     ]
    },
    {
     "name": "stdout",
     "output_type": "stream",
     "text": [
      "Step: 790 [D loss: 0.000007, acc.: 100.00%] [G loss: 11.831166]\n",
      "Step: 791 [D loss: 0.000084, acc.: 100.00%] [G loss: 10.753964]\n"
     ]
    },
    {
     "name": "stderr",
     "output_type": "stream",
     "text": [
      " 79%|███████▉  | 792/1000 [02:17<00:16, 12.36it/s]"
     ]
    },
    {
     "name": "stdout",
     "output_type": "stream",
     "text": [
      "Step: 792 [D loss: 0.000027, acc.: 100.00%] [G loss: 10.483195]\n",
      "Step: 793 [D loss: 0.000013, acc.: 100.00%] [G loss: 10.370199]\n"
     ]
    },
    {
     "name": "stderr",
     "output_type": "stream",
     "text": [
      " 79%|███████▉  | 794/1000 [02:17<00:16, 12.49it/s]"
     ]
    },
    {
     "name": "stdout",
     "output_type": "stream",
     "text": [
      "Step: 794 [D loss: 0.000009, acc.: 100.00%] [G loss: 11.403297]\n",
      "Step: 795 [D loss: 0.000032, acc.: 100.00%] [G loss: 10.698275]\n"
     ]
    },
    {
     "name": "stderr",
     "output_type": "stream",
     "text": [
      " 80%|███████▉  | 796/1000 [02:17<00:16, 12.54it/s]"
     ]
    },
    {
     "name": "stdout",
     "output_type": "stream",
     "text": [
      "Step: 796 [D loss: 0.009382, acc.: 100.00%] [G loss: 17.893044]\n",
      "Step: 797 [D loss: 0.000019, acc.: 100.00%] [G loss: 25.193962]\n"
     ]
    },
    {
     "name": "stderr",
     "output_type": "stream",
     "text": [
      " 80%|███████▉  | 798/1000 [02:18<00:16, 12.48it/s]"
     ]
    },
    {
     "name": "stdout",
     "output_type": "stream",
     "text": [
      "Step: 798 [D loss: 20.988967, acc.: 0.00%] [G loss: 0.022257]\n",
      "Step: 799 [D loss: 0.000289, acc.: 100.00%] [G loss: 10.859265]\n"
     ]
    },
    {
     "name": "stderr",
     "output_type": "stream",
     "text": [
      " 80%|████████  | 800/1000 [02:18<00:15, 12.53it/s]"
     ]
    },
    {
     "name": "stdout",
     "output_type": "stream",
     "text": [
      "Step: 800 [D loss: 0.862893, acc.: 0.00%] [G loss: 7.877378]\n",
      "Step: 801 [D loss: 0.045075, acc.: 100.00%] [G loss: 10.910769]\n"
     ]
    },
    {
     "name": "stderr",
     "output_type": "stream",
     "text": [
      " 80%|████████  | 802/1000 [02:18<00:15, 12.66it/s]"
     ]
    },
    {
     "name": "stdout",
     "output_type": "stream",
     "text": [
      "Step: 802 [D loss: 0.070869, acc.: 100.00%] [G loss: 8.902863]\n",
      "Step: 803 [D loss: 0.013401, acc.: 100.00%] [G loss: 7.736553]\n"
     ]
    },
    {
     "name": "stderr",
     "output_type": "stream",
     "text": [
      " 80%|████████  | 804/1000 [02:18<00:15, 12.64it/s]"
     ]
    },
    {
     "name": "stdout",
     "output_type": "stream",
     "text": [
      "Step: 804 [D loss: 0.000769, acc.: 100.00%] [G loss: 8.077108]\n",
      "Step: 805 [D loss: 0.000968, acc.: 100.00%] [G loss: 7.154563]\n"
     ]
    },
    {
     "name": "stderr",
     "output_type": "stream",
     "text": [
      " 81%|████████  | 806/1000 [02:18<00:15, 12.64it/s]"
     ]
    },
    {
     "name": "stdout",
     "output_type": "stream",
     "text": [
      "Step: 806 [D loss: 0.000998, acc.: 100.00%] [G loss: 7.483049]\n",
      "Step: 807 [D loss: 0.000780, acc.: 100.00%] [G loss: 7.902822]\n"
     ]
    },
    {
     "name": "stderr",
     "output_type": "stream",
     "text": [
      " 81%|████████  | 808/1000 [02:18<00:15, 12.53it/s]"
     ]
    },
    {
     "name": "stdout",
     "output_type": "stream",
     "text": [
      "Step: 808 [D loss: 0.002059, acc.: 100.00%] [G loss: 6.944734]\n",
      "Step: 809 [D loss: 0.001343, acc.: 100.00%] [G loss: 7.354404]\n"
     ]
    },
    {
     "name": "stderr",
     "output_type": "stream",
     "text": [
      " 81%|████████  | 810/1000 [02:19<00:15, 12.54it/s]"
     ]
    },
    {
     "name": "stdout",
     "output_type": "stream",
     "text": [
      "Step: 810 [D loss: 0.000976, acc.: 100.00%] [G loss: 7.613450]\n",
      "Step: 811 [D loss: 0.001704, acc.: 100.00%] [G loss: 8.076165]\n"
     ]
    },
    {
     "name": "stderr",
     "output_type": "stream",
     "text": [
      " 81%|████████  | 812/1000 [02:19<00:15, 12.51it/s]"
     ]
    },
    {
     "name": "stdout",
     "output_type": "stream",
     "text": [
      "Step: 812 [D loss: 0.001139, acc.: 100.00%] [G loss: 7.229094]\n",
      "Step: 813 [D loss: 0.001814, acc.: 100.00%] [G loss: 7.120550]\n"
     ]
    },
    {
     "name": "stderr",
     "output_type": "stream",
     "text": [
      " 81%|████████▏ | 814/1000 [02:19<00:15, 12.34it/s]"
     ]
    },
    {
     "name": "stdout",
     "output_type": "stream",
     "text": [
      "Step: 814 [D loss: 0.000795, acc.: 100.00%] [G loss: 7.313604]\n",
      "Step: 815 [D loss: 0.004098, acc.: 100.00%] [G loss: 7.088893]\n"
     ]
    },
    {
     "name": "stderr",
     "output_type": "stream",
     "text": [
      " 82%|████████▏ | 816/1000 [02:19<00:14, 12.41it/s]"
     ]
    },
    {
     "name": "stdout",
     "output_type": "stream",
     "text": [
      "Step: 816 [D loss: 0.000441, acc.: 100.00%] [G loss: 7.348526]\n",
      "Step: 817 [D loss: 0.000698, acc.: 100.00%] [G loss: 7.701275]\n"
     ]
    },
    {
     "name": "stderr",
     "output_type": "stream",
     "text": [
      " 82%|████████▏ | 818/1000 [02:19<00:14, 12.46it/s]"
     ]
    },
    {
     "name": "stdout",
     "output_type": "stream",
     "text": [
      "Step: 818 [D loss: 0.000500, acc.: 100.00%] [G loss: 7.873434]\n",
      "Step: 819 [D loss: 0.001374, acc.: 100.00%] [G loss: 6.313568]\n"
     ]
    },
    {
     "name": "stderr",
     "output_type": "stream",
     "text": [
      " 82%|████████▏ | 820/1000 [02:19<00:14, 12.36it/s]"
     ]
    },
    {
     "name": "stdout",
     "output_type": "stream",
     "text": [
      "Step: 820 [D loss: 0.004742, acc.: 100.00%] [G loss: 6.528369]\n",
      "Step: 821 [D loss: 0.001186, acc.: 100.00%] [G loss: 6.429708]\n"
     ]
    },
    {
     "name": "stderr",
     "output_type": "stream",
     "text": [
      " 82%|████████▏ | 822/1000 [02:20<00:14, 12.49it/s]"
     ]
    },
    {
     "name": "stdout",
     "output_type": "stream",
     "text": [
      "Step: 822 [D loss: 0.000835, acc.: 100.00%] [G loss: 6.678741]\n",
      "Step: 823 [D loss: 0.001835, acc.: 100.00%] [G loss: 6.818161]\n"
     ]
    },
    {
     "name": "stderr",
     "output_type": "stream",
     "text": [
      " 82%|████████▏ | 824/1000 [02:20<00:14, 12.47it/s]"
     ]
    },
    {
     "name": "stdout",
     "output_type": "stream",
     "text": [
      "Step: 824 [D loss: 0.001056, acc.: 100.00%] [G loss: 6.939425]\n",
      "Step: 825 [D loss: 0.000378, acc.: 100.00%] [G loss: 7.328865]\n"
     ]
    },
    {
     "name": "stderr",
     "output_type": "stream",
     "text": [
      " 83%|████████▎ | 826/1000 [02:20<00:13, 12.43it/s]"
     ]
    },
    {
     "name": "stdout",
     "output_type": "stream",
     "text": [
      "Step: 826 [D loss: 0.000403, acc.: 100.00%] [G loss: 7.461724]\n",
      "Step: 827 [D loss: 0.000465, acc.: 100.00%] [G loss: 7.844900]\n"
     ]
    },
    {
     "name": "stderr",
     "output_type": "stream",
     "text": [
      " 83%|████████▎ | 828/1000 [02:20<00:13, 12.43it/s]"
     ]
    },
    {
     "name": "stdout",
     "output_type": "stream",
     "text": [
      "Step: 828 [D loss: 0.000489, acc.: 100.00%] [G loss: 7.634535]\n",
      "Step: 829 [D loss: 0.000639, acc.: 100.00%] [G loss: 7.152264]\n"
     ]
    },
    {
     "name": "stderr",
     "output_type": "stream",
     "text": [
      " 83%|████████▎ | 830/1000 [02:20<00:13, 12.29it/s]"
     ]
    },
    {
     "name": "stdout",
     "output_type": "stream",
     "text": [
      "Step: 830 [D loss: 0.000926, acc.: 100.00%] [G loss: 7.149851]\n",
      "Step: 831 [D loss: 0.001571, acc.: 100.00%] [G loss: 7.216828]\n"
     ]
    },
    {
     "name": "stderr",
     "output_type": "stream",
     "text": [
      " 83%|████████▎ | 832/1000 [02:20<00:13, 12.33it/s]"
     ]
    },
    {
     "name": "stdout",
     "output_type": "stream",
     "text": [
      "Step: 832 [D loss: 0.000469, acc.: 100.00%] [G loss: 7.776402]\n",
      "Step: 833 [D loss: 0.001513, acc.: 100.00%] [G loss: 7.799226]\n"
     ]
    },
    {
     "name": "stderr",
     "output_type": "stream",
     "text": [
      " 83%|████████▎ | 834/1000 [02:20<00:13, 12.40it/s]"
     ]
    },
    {
     "name": "stdout",
     "output_type": "stream",
     "text": [
      "Step: 834 [D loss: 0.000461, acc.: 100.00%] [G loss: 7.445129]\n",
      "Step: 835 [D loss: 0.000793, acc.: 100.00%] [G loss: 7.516917]\n"
     ]
    },
    {
     "name": "stderr",
     "output_type": "stream",
     "text": [
      " 84%|████████▎ | 836/1000 [02:21<00:13, 12.43it/s]"
     ]
    },
    {
     "name": "stdout",
     "output_type": "stream",
     "text": [
      "Step: 836 [D loss: 0.000568, acc.: 100.00%] [G loss: 7.534515]\n",
      "Step: 837 [D loss: 0.000622, acc.: 100.00%] [G loss: 7.171737]\n"
     ]
    },
    {
     "name": "stderr",
     "output_type": "stream",
     "text": [
      " 84%|████████▍ | 838/1000 [02:21<00:12, 12.52it/s]"
     ]
    },
    {
     "name": "stdout",
     "output_type": "stream",
     "text": [
      "Step: 838 [D loss: 0.001246, acc.: 100.00%] [G loss: 6.874916]\n",
      "Step: 839 [D loss: 0.000509, acc.: 100.00%] [G loss: 8.002696]\n"
     ]
    },
    {
     "name": "stderr",
     "output_type": "stream",
     "text": [
      " 84%|████████▍ | 840/1000 [02:21<00:12, 12.42it/s]"
     ]
    },
    {
     "name": "stdout",
     "output_type": "stream",
     "text": [
      "Step: 840 [D loss: 0.000904, acc.: 100.00%] [G loss: 7.209643]\n",
      "Step: 841 [D loss: 0.000420, acc.: 100.00%] [G loss: 8.062304]\n"
     ]
    },
    {
     "name": "stderr",
     "output_type": "stream",
     "text": [
      " 84%|████████▍ | 842/1000 [02:21<00:12, 12.47it/s]"
     ]
    },
    {
     "name": "stdout",
     "output_type": "stream",
     "text": [
      "Step: 842 [D loss: 0.002262, acc.: 100.00%] [G loss: 7.856133]\n",
      "Step: 843 [D loss: 0.000390, acc.: 100.00%] [G loss: 7.358406]\n"
     ]
    },
    {
     "name": "stderr",
     "output_type": "stream",
     "text": [
      " 84%|████████▍ | 844/1000 [02:21<00:12, 12.52it/s]"
     ]
    },
    {
     "name": "stdout",
     "output_type": "stream",
     "text": [
      "Step: 844 [D loss: 0.000899, acc.: 100.00%] [G loss: 7.867229]\n",
      "Step: 845 [D loss: 0.000751, acc.: 100.00%] [G loss: 6.981579]\n"
     ]
    },
    {
     "name": "stderr",
     "output_type": "stream",
     "text": [
      " 85%|████████▍ | 846/1000 [02:21<00:12, 12.40it/s]"
     ]
    },
    {
     "name": "stdout",
     "output_type": "stream",
     "text": [
      "Step: 846 [D loss: 0.000297, acc.: 100.00%] [G loss: 7.732272]\n",
      "Step: 847 [D loss: 0.001152, acc.: 100.00%] [G loss: 7.373595]\n"
     ]
    },
    {
     "name": "stderr",
     "output_type": "stream",
     "text": [
      " 85%|████████▍ | 848/1000 [02:22<00:12, 12.43it/s]"
     ]
    },
    {
     "name": "stdout",
     "output_type": "stream",
     "text": [
      "Step: 848 [D loss: 0.000848, acc.: 100.00%] [G loss: 7.138855]\n",
      "Step: 849 [D loss: 0.002211, acc.: 100.00%] [G loss: 7.696012]\n"
     ]
    },
    {
     "name": "stderr",
     "output_type": "stream",
     "text": [
      " 85%|████████▌ | 850/1000 [02:22<00:12, 12.45it/s]"
     ]
    },
    {
     "name": "stdout",
     "output_type": "stream",
     "text": [
      "Step: 850 [D loss: 0.000401, acc.: 100.00%] [G loss: 7.691142]\n",
      "Step: 851 [D loss: 0.001502, acc.: 100.00%] [G loss: 6.958245]\n"
     ]
    },
    {
     "name": "stderr",
     "output_type": "stream",
     "text": [
      " 85%|████████▌ | 852/1000 [02:22<00:11, 12.37it/s]"
     ]
    },
    {
     "name": "stdout",
     "output_type": "stream",
     "text": [
      "Step: 852 [D loss: 0.000269, acc.: 100.00%] [G loss: 7.917233]\n",
      "Step: 853 [D loss: 0.000652, acc.: 100.00%] [G loss: 8.055391]\n"
     ]
    },
    {
     "name": "stderr",
     "output_type": "stream",
     "text": [
      " 85%|████████▌ | 854/1000 [02:22<00:11, 12.39it/s]"
     ]
    },
    {
     "name": "stdout",
     "output_type": "stream",
     "text": [
      "Step: 854 [D loss: 0.000408, acc.: 100.00%] [G loss: 7.802168]\n",
      "Step: 855 [D loss: 0.001237, acc.: 100.00%] [G loss: 8.141562]\n"
     ]
    },
    {
     "name": "stderr",
     "output_type": "stream",
     "text": [
      " 86%|████████▌ | 856/1000 [02:22<00:11, 12.37it/s]"
     ]
    },
    {
     "name": "stdout",
     "output_type": "stream",
     "text": [
      "Step: 856 [D loss: 0.002957, acc.: 100.00%] [G loss: 7.275576]\n",
      "Step: 857 [D loss: 0.000735, acc.: 100.00%] [G loss: 6.953174]\n"
     ]
    },
    {
     "name": "stderr",
     "output_type": "stream",
     "text": [
      " 86%|████████▌ | 858/1000 [02:22<00:11, 12.53it/s]"
     ]
    },
    {
     "name": "stdout",
     "output_type": "stream",
     "text": [
      "Step: 858 [D loss: 0.000967, acc.: 100.00%] [G loss: 6.158323]\n",
      "Step: 859 [D loss: 0.000486, acc.: 100.00%] [G loss: 7.484930]\n"
     ]
    },
    {
     "name": "stderr",
     "output_type": "stream",
     "text": [
      " 86%|████████▌ | 860/1000 [02:23<00:11, 12.52it/s]"
     ]
    },
    {
     "name": "stdout",
     "output_type": "stream",
     "text": [
      "Step: 860 [D loss: 0.000389, acc.: 100.00%] [G loss: 8.001245]\n",
      "Step: 861 [D loss: 0.001511, acc.: 100.00%] [G loss: 6.115397]\n"
     ]
    },
    {
     "name": "stderr",
     "output_type": "stream",
     "text": [
      " 86%|████████▌ | 862/1000 [02:23<00:11, 12.46it/s]"
     ]
    },
    {
     "name": "stdout",
     "output_type": "stream",
     "text": [
      "Step: 862 [D loss: 0.000362, acc.: 100.00%] [G loss: 8.056292]\n",
      "Step: 863 [D loss: 0.000694, acc.: 100.00%] [G loss: 7.356584]\n"
     ]
    },
    {
     "name": "stderr",
     "output_type": "stream",
     "text": [
      " 86%|████████▋ | 864/1000 [02:23<00:10, 12.54it/s]"
     ]
    },
    {
     "name": "stdout",
     "output_type": "stream",
     "text": [
      "Step: 864 [D loss: 0.002761, acc.: 100.00%] [G loss: 8.241426]\n",
      "Step: 865 [D loss: 0.000379, acc.: 100.00%] [G loss: 8.326394]\n"
     ]
    },
    {
     "name": "stderr",
     "output_type": "stream",
     "text": [
      " 87%|████████▋ | 866/1000 [02:23<00:10, 12.58it/s]"
     ]
    },
    {
     "name": "stdout",
     "output_type": "stream",
     "text": [
      "Step: 866 [D loss: 0.000922, acc.: 100.00%] [G loss: 8.216258]\n",
      "Step: 867 [D loss: 0.000618, acc.: 100.00%] [G loss: 7.946181]\n"
     ]
    },
    {
     "name": "stderr",
     "output_type": "stream",
     "text": [
      " 87%|████████▋ | 868/1000 [02:23<00:10, 12.39it/s]"
     ]
    },
    {
     "name": "stdout",
     "output_type": "stream",
     "text": [
      "Step: 868 [D loss: 0.000945, acc.: 100.00%] [G loss: 8.321157]\n",
      "Step: 869 [D loss: 0.000491, acc.: 100.00%] [G loss: 8.254354]\n"
     ]
    },
    {
     "name": "stderr",
     "output_type": "stream",
     "text": [
      " 87%|████████▋ | 870/1000 [02:23<00:10, 12.45it/s]"
     ]
    },
    {
     "name": "stdout",
     "output_type": "stream",
     "text": [
      "Step: 870 [D loss: 0.000740, acc.: 100.00%] [G loss: 7.107609]\n",
      "Step: 871 [D loss: 0.000854, acc.: 100.00%] [G loss: 7.189603]\n"
     ]
    },
    {
     "name": "stderr",
     "output_type": "stream",
     "text": [
      " 87%|████████▋ | 872/1000 [02:24<00:10, 12.37it/s]"
     ]
    },
    {
     "name": "stdout",
     "output_type": "stream",
     "text": [
      "Step: 872 [D loss: 0.000813, acc.: 100.00%] [G loss: 8.136986]\n",
      "Step: 873 [D loss: 0.001378, acc.: 100.00%] [G loss: 7.527607]\n"
     ]
    },
    {
     "name": "stderr",
     "output_type": "stream",
     "text": [
      " 87%|████████▋ | 874/1000 [02:24<00:10, 12.34it/s]"
     ]
    },
    {
     "name": "stdout",
     "output_type": "stream",
     "text": [
      "Step: 874 [D loss: 0.000664, acc.: 100.00%] [G loss: 7.814798]\n",
      "Step: 875 [D loss: 0.000299, acc.: 100.00%] [G loss: 7.874104]\n"
     ]
    },
    {
     "name": "stderr",
     "output_type": "stream",
     "text": [
      " 88%|████████▊ | 876/1000 [02:24<00:10, 12.39it/s]"
     ]
    },
    {
     "name": "stdout",
     "output_type": "stream",
     "text": [
      "Step: 876 [D loss: 0.000619, acc.: 100.00%] [G loss: 7.548171]\n",
      "Step: 877 [D loss: 0.000309, acc.: 100.00%] [G loss: 7.925907]\n"
     ]
    },
    {
     "name": "stderr",
     "output_type": "stream",
     "text": [
      " 88%|████████▊ | 878/1000 [02:24<00:09, 12.42it/s]"
     ]
    },
    {
     "name": "stdout",
     "output_type": "stream",
     "text": [
      "Step: 878 [D loss: 0.001546, acc.: 100.00%] [G loss: 7.584553]\n",
      "Step: 879 [D loss: 0.002259, acc.: 100.00%] [G loss: 8.015655]\n"
     ]
    },
    {
     "name": "stderr",
     "output_type": "stream",
     "text": [
      " 88%|████████▊ | 880/1000 [02:24<00:09, 12.54it/s]"
     ]
    },
    {
     "name": "stdout",
     "output_type": "stream",
     "text": [
      "Step: 880 [D loss: 0.000685, acc.: 100.00%] [G loss: 7.898154]\n",
      "Step: 881 [D loss: 0.000410, acc.: 100.00%] [G loss: 7.664259]\n"
     ]
    },
    {
     "name": "stderr",
     "output_type": "stream",
     "text": [
      " 88%|████████▊ | 882/1000 [02:24<00:09, 12.55it/s]"
     ]
    },
    {
     "name": "stdout",
     "output_type": "stream",
     "text": [
      "Step: 882 [D loss: 0.000472, acc.: 100.00%] [G loss: 8.137534]\n",
      "Step: 883 [D loss: 0.000881, acc.: 100.00%] [G loss: 6.951530]\n"
     ]
    },
    {
     "name": "stderr",
     "output_type": "stream",
     "text": [
      " 88%|████████▊ | 884/1000 [02:25<00:09, 12.49it/s]"
     ]
    },
    {
     "name": "stdout",
     "output_type": "stream",
     "text": [
      "Step: 884 [D loss: 0.000341, acc.: 100.00%] [G loss: 7.725106]\n",
      "Step: 885 [D loss: 0.000627, acc.: 100.00%] [G loss: 7.824757]\n"
     ]
    },
    {
     "name": "stderr",
     "output_type": "stream",
     "text": [
      " 89%|████████▊ | 886/1000 [02:25<00:09, 12.56it/s]"
     ]
    },
    {
     "name": "stdout",
     "output_type": "stream",
     "text": [
      "Step: 886 [D loss: 0.001192, acc.: 100.00%] [G loss: 6.841674]\n",
      "Step: 887 [D loss: 0.000780, acc.: 100.00%] [G loss: 7.995996]\n"
     ]
    },
    {
     "name": "stderr",
     "output_type": "stream",
     "text": [
      " 89%|████████▉ | 888/1000 [02:25<00:08, 12.47it/s]"
     ]
    },
    {
     "name": "stdout",
     "output_type": "stream",
     "text": [
      "Step: 888 [D loss: 0.000496, acc.: 100.00%] [G loss: 8.243901]\n",
      "Step: 889 [D loss: 0.002237, acc.: 100.00%] [G loss: 7.160308]\n"
     ]
    },
    {
     "name": "stderr",
     "output_type": "stream",
     "text": [
      " 89%|████████▉ | 890/1000 [02:25<00:08, 12.50it/s]"
     ]
    },
    {
     "name": "stdout",
     "output_type": "stream",
     "text": [
      "Step: 890 [D loss: 0.002811, acc.: 100.00%] [G loss: 7.937407]\n",
      "Step: 891 [D loss: 0.000200, acc.: 100.00%] [G loss: 7.985967]\n"
     ]
    },
    {
     "name": "stderr",
     "output_type": "stream",
     "text": [
      " 89%|████████▉ | 892/1000 [02:25<00:08, 12.45it/s]"
     ]
    },
    {
     "name": "stdout",
     "output_type": "stream",
     "text": [
      "Step: 892 [D loss: 0.000288, acc.: 100.00%] [G loss: 7.748625]\n",
      "Step: 893 [D loss: 0.000463, acc.: 100.00%] [G loss: 7.701807]\n"
     ]
    },
    {
     "name": "stderr",
     "output_type": "stream",
     "text": [
      " 89%|████████▉ | 894/1000 [02:25<00:08, 12.33it/s]"
     ]
    },
    {
     "name": "stdout",
     "output_type": "stream",
     "text": [
      "Step: 894 [D loss: 0.000377, acc.: 100.00%] [G loss: 7.792748]\n",
      "Step: 895 [D loss: 0.000573, acc.: 100.00%] [G loss: 7.618798]\n"
     ]
    },
    {
     "name": "stderr",
     "output_type": "stream",
     "text": [
      " 90%|████████▉ | 896/1000 [02:25<00:08, 12.47it/s]"
     ]
    },
    {
     "name": "stdout",
     "output_type": "stream",
     "text": [
      "Step: 896 [D loss: 0.000459, acc.: 100.00%] [G loss: 7.729752]\n",
      "Step: 897 [D loss: 0.000615, acc.: 100.00%] [G loss: 7.689452]\n"
     ]
    },
    {
     "name": "stderr",
     "output_type": "stream",
     "text": [
      " 90%|████████▉ | 898/1000 [02:26<00:08, 12.50it/s]"
     ]
    },
    {
     "name": "stdout",
     "output_type": "stream",
     "text": [
      "Step: 898 [D loss: 0.000914, acc.: 100.00%] [G loss: 6.509160]\n",
      "Step: 899 [D loss: 0.000327, acc.: 100.00%] [G loss: 8.090281]\n"
     ]
    },
    {
     "name": "stderr",
     "output_type": "stream",
     "text": [
      " 90%|█████████ | 900/1000 [02:26<00:08, 12.48it/s]"
     ]
    },
    {
     "name": "stdout",
     "output_type": "stream",
     "text": [
      "Step: 900 [D loss: 0.000376, acc.: 100.00%] [G loss: 7.624500]\n",
      "Step: 901 [D loss: 0.000440, acc.: 100.00%] [G loss: 7.251072]\n"
     ]
    },
    {
     "name": "stderr",
     "output_type": "stream",
     "text": [
      " 90%|█████████ | 902/1000 [02:26<00:07, 12.46it/s]"
     ]
    },
    {
     "name": "stdout",
     "output_type": "stream",
     "text": [
      "Step: 902 [D loss: 0.003744, acc.: 100.00%] [G loss: 7.384720]\n",
      "Step: 903 [D loss: 0.000438, acc.: 100.00%] [G loss: 8.182959]\n"
     ]
    },
    {
     "name": "stderr",
     "output_type": "stream",
     "text": [
      " 90%|█████████ | 904/1000 [02:26<00:07, 12.33it/s]"
     ]
    },
    {
     "name": "stdout",
     "output_type": "stream",
     "text": [
      "Step: 904 [D loss: 0.000939, acc.: 100.00%] [G loss: 7.095117]\n",
      "Step: 905 [D loss: 0.000488, acc.: 100.00%] [G loss: 7.355989]\n"
     ]
    },
    {
     "name": "stderr",
     "output_type": "stream",
     "text": [
      " 91%|█████████ | 906/1000 [02:26<00:07, 12.43it/s]"
     ]
    },
    {
     "name": "stdout",
     "output_type": "stream",
     "text": [
      "Step: 906 [D loss: 0.002311, acc.: 100.00%] [G loss: 5.730170]\n",
      "Step: 907 [D loss: 0.000469, acc.: 100.00%] [G loss: 7.935360]\n"
     ]
    },
    {
     "name": "stderr",
     "output_type": "stream",
     "text": [
      " 91%|█████████ | 908/1000 [02:26<00:07, 12.50it/s]"
     ]
    },
    {
     "name": "stdout",
     "output_type": "stream",
     "text": [
      "Step: 908 [D loss: 0.000242, acc.: 100.00%] [G loss: 8.045008]\n",
      "Step: 909 [D loss: 0.000305, acc.: 100.00%] [G loss: 8.722433]\n"
     ]
    },
    {
     "name": "stderr",
     "output_type": "stream",
     "text": [
      " 91%|█████████ | 910/1000 [02:27<00:07, 12.43it/s]"
     ]
    },
    {
     "name": "stdout",
     "output_type": "stream",
     "text": [
      "Step: 910 [D loss: 0.000317, acc.: 100.00%] [G loss: 8.074319]\n",
      "Step: 911 [D loss: 0.000371, acc.: 100.00%] [G loss: 8.478205]\n"
     ]
    },
    {
     "name": "stderr",
     "output_type": "stream",
     "text": [
      " 91%|█████████ | 912/1000 [02:27<00:07, 12.40it/s]"
     ]
    },
    {
     "name": "stdout",
     "output_type": "stream",
     "text": [
      "Step: 912 [D loss: 0.000746, acc.: 100.00%] [G loss: 7.242509]\n",
      "Step: 913 [D loss: 0.000738, acc.: 100.00%] [G loss: 7.992121]\n"
     ]
    },
    {
     "name": "stderr",
     "output_type": "stream",
     "text": [
      " 91%|█████████▏| 914/1000 [02:27<00:06, 12.41it/s]"
     ]
    },
    {
     "name": "stdout",
     "output_type": "stream",
     "text": [
      "Step: 914 [D loss: 0.000338, acc.: 100.00%] [G loss: 8.088806]\n",
      "Step: 915 [D loss: 0.000474, acc.: 100.00%] [G loss: 7.572776]\n"
     ]
    },
    {
     "name": "stderr",
     "output_type": "stream",
     "text": [
      " 92%|█████████▏| 916/1000 [02:27<00:06, 12.48it/s]"
     ]
    },
    {
     "name": "stdout",
     "output_type": "stream",
     "text": [
      "Step: 916 [D loss: 0.000426, acc.: 100.00%] [G loss: 8.242059]\n",
      "Step: 917 [D loss: 0.000345, acc.: 100.00%] [G loss: 7.908915]\n"
     ]
    },
    {
     "name": "stderr",
     "output_type": "stream",
     "text": [
      " 92%|█████████▏| 918/1000 [02:27<00:06, 12.42it/s]"
     ]
    },
    {
     "name": "stdout",
     "output_type": "stream",
     "text": [
      "Step: 918 [D loss: 0.000382, acc.: 100.00%] [G loss: 8.198167]\n",
      "Step: 919 [D loss: 0.003018, acc.: 100.00%] [G loss: 7.240176]\n"
     ]
    },
    {
     "name": "stderr",
     "output_type": "stream",
     "text": [
      " 92%|█████████▏| 920/1000 [02:27<00:06, 12.49it/s]"
     ]
    },
    {
     "name": "stdout",
     "output_type": "stream",
     "text": [
      "Step: 920 [D loss: 0.000638, acc.: 100.00%] [G loss: 7.895574]\n",
      "Step: 921 [D loss: 0.000904, acc.: 100.00%] [G loss: 7.714288]\n"
     ]
    },
    {
     "name": "stderr",
     "output_type": "stream",
     "text": [
      " 92%|█████████▏| 922/1000 [02:28<00:06, 12.54it/s]"
     ]
    },
    {
     "name": "stdout",
     "output_type": "stream",
     "text": [
      "Step: 922 [D loss: 0.000409, acc.: 100.00%] [G loss: 7.950135]\n",
      "Step: 923 [D loss: 0.000379, acc.: 100.00%] [G loss: 7.302915]\n"
     ]
    },
    {
     "name": "stderr",
     "output_type": "stream",
     "text": [
      " 92%|█████████▏| 924/1000 [02:28<00:06, 12.48it/s]"
     ]
    },
    {
     "name": "stdout",
     "output_type": "stream",
     "text": [
      "Step: 924 [D loss: 0.000274, acc.: 100.00%] [G loss: 8.116793]\n",
      "Step: 925 [D loss: 0.000434, acc.: 100.00%] [G loss: 7.631115]\n"
     ]
    },
    {
     "name": "stderr",
     "output_type": "stream",
     "text": [
      " 93%|█████████▎| 926/1000 [02:28<00:05, 12.39it/s]"
     ]
    },
    {
     "name": "stdout",
     "output_type": "stream",
     "text": [
      "Step: 926 [D loss: 0.000175, acc.: 100.00%] [G loss: 8.471025]\n",
      "Step: 927 [D loss: 0.000475, acc.: 100.00%] [G loss: 7.894014]\n"
     ]
    },
    {
     "name": "stderr",
     "output_type": "stream",
     "text": [
      " 93%|█████████▎| 928/1000 [02:28<00:05, 12.45it/s]"
     ]
    },
    {
     "name": "stdout",
     "output_type": "stream",
     "text": [
      "Step: 928 [D loss: 0.000359, acc.: 100.00%] [G loss: 7.557651]\n",
      "Step: 929 [D loss: 0.000372, acc.: 100.00%] [G loss: 7.162458]\n"
     ]
    },
    {
     "name": "stderr",
     "output_type": "stream",
     "text": [
      " 93%|█████████▎| 930/1000 [02:28<00:05, 12.48it/s]"
     ]
    },
    {
     "name": "stdout",
     "output_type": "stream",
     "text": [
      "Step: 930 [D loss: 0.001333, acc.: 100.00%] [G loss: 7.278977]\n",
      "Step: 931 [D loss: 0.000259, acc.: 100.00%] [G loss: 8.223274]\n"
     ]
    },
    {
     "name": "stderr",
     "output_type": "stream",
     "text": [
      " 93%|█████████▎| 932/1000 [02:28<00:05, 12.49it/s]"
     ]
    },
    {
     "name": "stdout",
     "output_type": "stream",
     "text": [
      "Step: 932 [D loss: 0.002044, acc.: 100.00%] [G loss: 6.386008]\n",
      "Step: 933 [D loss: 0.000242, acc.: 100.00%] [G loss: 7.646577]\n"
     ]
    },
    {
     "name": "stderr",
     "output_type": "stream",
     "text": [
      " 93%|█████████▎| 934/1000 [02:29<00:05, 12.47it/s]"
     ]
    },
    {
     "name": "stdout",
     "output_type": "stream",
     "text": [
      "Step: 934 [D loss: 0.000247, acc.: 100.00%] [G loss: 8.448825]\n",
      "Step: 935 [D loss: 0.002319, acc.: 100.00%] [G loss: 7.598258]\n"
     ]
    },
    {
     "name": "stderr",
     "output_type": "stream",
     "text": [
      " 94%|█████████▎| 936/1000 [02:29<00:05, 12.41it/s]"
     ]
    },
    {
     "name": "stdout",
     "output_type": "stream",
     "text": [
      "Step: 936 [D loss: 0.000312, acc.: 100.00%] [G loss: 8.086543]\n",
      "Step: 937 [D loss: 0.001184, acc.: 100.00%] [G loss: 6.896402]\n"
     ]
    },
    {
     "name": "stderr",
     "output_type": "stream",
     "text": [
      " 94%|█████████▍| 938/1000 [02:29<00:04, 12.46it/s]"
     ]
    },
    {
     "name": "stdout",
     "output_type": "stream",
     "text": [
      "Step: 938 [D loss: 0.000303, acc.: 100.00%] [G loss: 7.432531]\n",
      "Step: 939 [D loss: 0.000548, acc.: 100.00%] [G loss: 8.085742]\n"
     ]
    },
    {
     "name": "stderr",
     "output_type": "stream",
     "text": [
      " 94%|█████████▍| 940/1000 [02:29<00:04, 12.52it/s]"
     ]
    },
    {
     "name": "stdout",
     "output_type": "stream",
     "text": [
      "Step: 940 [D loss: 0.000292, acc.: 100.00%] [G loss: 8.640883]\n",
      "Step: 941 [D loss: 0.000734, acc.: 100.00%] [G loss: 7.954340]\n"
     ]
    },
    {
     "name": "stderr",
     "output_type": "stream",
     "text": [
      " 94%|█████████▍| 942/1000 [02:29<00:04, 12.46it/s]"
     ]
    },
    {
     "name": "stdout",
     "output_type": "stream",
     "text": [
      "Step: 942 [D loss: 0.000184, acc.: 100.00%] [G loss: 8.876964]\n",
      "Step: 943 [D loss: 0.000391, acc.: 100.00%] [G loss: 7.894882]\n"
     ]
    },
    {
     "name": "stderr",
     "output_type": "stream",
     "text": [
      " 94%|█████████▍| 944/1000 [02:29<00:04, 12.45it/s]"
     ]
    },
    {
     "name": "stdout",
     "output_type": "stream",
     "text": [
      "Step: 944 [D loss: 0.000733, acc.: 100.00%] [G loss: 8.473102]\n",
      "Step: 945 [D loss: 0.000465, acc.: 100.00%] [G loss: 7.503502]\n"
     ]
    },
    {
     "name": "stderr",
     "output_type": "stream",
     "text": [
      " 95%|█████████▍| 946/1000 [02:29<00:04, 12.53it/s]"
     ]
    },
    {
     "name": "stdout",
     "output_type": "stream",
     "text": [
      "Step: 946 [D loss: 0.000242, acc.: 100.00%] [G loss: 8.596205]\n",
      "Step: 947 [D loss: 0.000348, acc.: 100.00%] [G loss: 7.769023]\n"
     ]
    },
    {
     "name": "stderr",
     "output_type": "stream",
     "text": [
      " 95%|█████████▍| 948/1000 [02:30<00:04, 12.55it/s]"
     ]
    },
    {
     "name": "stdout",
     "output_type": "stream",
     "text": [
      "Step: 948 [D loss: 0.000233, acc.: 100.00%] [G loss: 8.585502]\n",
      "Step: 949 [D loss: 0.000927, acc.: 100.00%] [G loss: 8.371162]\n"
     ]
    },
    {
     "name": "stderr",
     "output_type": "stream",
     "text": [
      " 95%|█████████▌| 950/1000 [02:30<00:03, 12.56it/s]"
     ]
    },
    {
     "name": "stdout",
     "output_type": "stream",
     "text": [
      "Step: 950 [D loss: 0.000226, acc.: 100.00%] [G loss: 8.637938]\n",
      "Step: 951 [D loss: 0.000322, acc.: 100.00%] [G loss: 8.146318]\n"
     ]
    },
    {
     "name": "stderr",
     "output_type": "stream",
     "text": [
      " 95%|█████████▌| 952/1000 [02:30<00:03, 12.49it/s]"
     ]
    },
    {
     "name": "stdout",
     "output_type": "stream",
     "text": [
      "Step: 952 [D loss: 0.000898, acc.: 100.00%] [G loss: 6.875750]\n",
      "Step: 953 [D loss: 0.000170, acc.: 100.00%] [G loss: 8.486007]\n"
     ]
    },
    {
     "name": "stderr",
     "output_type": "stream",
     "text": [
      " 95%|█████████▌| 954/1000 [02:30<00:03, 12.52it/s]"
     ]
    },
    {
     "name": "stdout",
     "output_type": "stream",
     "text": [
      "Step: 954 [D loss: 0.000242, acc.: 100.00%] [G loss: 7.869807]\n",
      "Step: 955 [D loss: 0.001393, acc.: 100.00%] [G loss: 8.823792]\n"
     ]
    },
    {
     "name": "stderr",
     "output_type": "stream",
     "text": [
      " 96%|█████████▌| 956/1000 [02:30<00:03, 12.51it/s]"
     ]
    },
    {
     "name": "stdout",
     "output_type": "stream",
     "text": [
      "Step: 956 [D loss: 0.000886, acc.: 100.00%] [G loss: 8.259616]\n",
      "Step: 957 [D loss: 0.000481, acc.: 100.00%] [G loss: 7.977221]\n"
     ]
    },
    {
     "name": "stderr",
     "output_type": "stream",
     "text": [
      " 96%|█████████▌| 958/1000 [02:30<00:03, 12.41it/s]"
     ]
    },
    {
     "name": "stdout",
     "output_type": "stream",
     "text": [
      "Step: 958 [D loss: 0.000312, acc.: 100.00%] [G loss: 8.514379]\n",
      "Step: 959 [D loss: 0.000496, acc.: 100.00%] [G loss: 7.404061]\n"
     ]
    },
    {
     "name": "stderr",
     "output_type": "stream",
     "text": [
      " 96%|█████████▌| 960/1000 [02:31<00:03, 12.44it/s]"
     ]
    },
    {
     "name": "stdout",
     "output_type": "stream",
     "text": [
      "Step: 960 [D loss: 0.000265, acc.: 100.00%] [G loss: 8.478045]\n",
      "Step: 961 [D loss: 0.000667, acc.: 100.00%] [G loss: 7.851975]\n"
     ]
    },
    {
     "name": "stderr",
     "output_type": "stream",
     "text": [
      " 96%|█████████▌| 962/1000 [02:31<00:03, 12.39it/s]"
     ]
    },
    {
     "name": "stdout",
     "output_type": "stream",
     "text": [
      "Step: 962 [D loss: 0.000459, acc.: 100.00%] [G loss: 7.358001]\n",
      "Step: 963 [D loss: 0.000187, acc.: 100.00%] [G loss: 8.690917]\n"
     ]
    },
    {
     "name": "stderr",
     "output_type": "stream",
     "text": [
      " 96%|█████████▋| 964/1000 [02:31<00:02, 12.37it/s]"
     ]
    },
    {
     "name": "stdout",
     "output_type": "stream",
     "text": [
      "Step: 964 [D loss: 0.000369, acc.: 100.00%] [G loss: 7.324130]\n",
      "Step: 965 [D loss: 0.000974, acc.: 100.00%] [G loss: 8.192290]\n"
     ]
    },
    {
     "name": "stderr",
     "output_type": "stream",
     "text": [
      " 97%|█████████▋| 966/1000 [02:31<00:02, 12.43it/s]"
     ]
    },
    {
     "name": "stdout",
     "output_type": "stream",
     "text": [
      "Step: 966 [D loss: 0.000348, acc.: 100.00%] [G loss: 7.867909]\n",
      "Step: 967 [D loss: 0.000779, acc.: 100.00%] [G loss: 7.041496]\n"
     ]
    },
    {
     "name": "stderr",
     "output_type": "stream",
     "text": [
      " 97%|█████████▋| 968/1000 [02:31<00:02, 12.45it/s]"
     ]
    },
    {
     "name": "stdout",
     "output_type": "stream",
     "text": [
      "Step: 968 [D loss: 0.000598, acc.: 100.00%] [G loss: 8.113705]\n",
      "Step: 969 [D loss: 0.000359, acc.: 100.00%] [G loss: 8.716460]\n"
     ]
    },
    {
     "name": "stderr",
     "output_type": "stream",
     "text": [
      " 97%|█████████▋| 970/1000 [02:31<00:02, 12.54it/s]"
     ]
    },
    {
     "name": "stdout",
     "output_type": "stream",
     "text": [
      "Step: 970 [D loss: 0.000246, acc.: 100.00%] [G loss: 7.680798]\n",
      "Step: 971 [D loss: 0.000430, acc.: 100.00%] [G loss: 7.761518]\n"
     ]
    },
    {
     "name": "stderr",
     "output_type": "stream",
     "text": [
      " 97%|█████████▋| 972/1000 [02:32<00:02, 12.45it/s]"
     ]
    },
    {
     "name": "stdout",
     "output_type": "stream",
     "text": [
      "Step: 972 [D loss: 0.000469, acc.: 100.00%] [G loss: 7.187385]\n",
      "Step: 973 [D loss: 0.001084, acc.: 100.00%] [G loss: 8.431026]\n"
     ]
    },
    {
     "name": "stderr",
     "output_type": "stream",
     "text": [
      " 97%|█████████▋| 974/1000 [02:32<00:02, 12.47it/s]"
     ]
    },
    {
     "name": "stdout",
     "output_type": "stream",
     "text": [
      "Step: 974 [D loss: 0.000346, acc.: 100.00%] [G loss: 7.526158]\n",
      "Step: 975 [D loss: 0.000313, acc.: 100.00%] [G loss: 8.098042]\n"
     ]
    },
    {
     "name": "stderr",
     "output_type": "stream",
     "text": [
      " 98%|█████████▊| 976/1000 [02:32<00:01, 12.50it/s]"
     ]
    },
    {
     "name": "stdout",
     "output_type": "stream",
     "text": [
      "Step: 976 [D loss: 0.000968, acc.: 100.00%] [G loss: 7.586023]\n",
      "Step: 977 [D loss: 0.000393, acc.: 100.00%] [G loss: 8.243603]\n"
     ]
    },
    {
     "name": "stderr",
     "output_type": "stream",
     "text": [
      " 98%|█████████▊| 978/1000 [02:32<00:01, 12.43it/s]"
     ]
    },
    {
     "name": "stdout",
     "output_type": "stream",
     "text": [
      "Step: 978 [D loss: 0.000481, acc.: 100.00%] [G loss: 7.645818]\n",
      "Step: 979 [D loss: 0.000311, acc.: 100.00%] [G loss: 8.657695]\n"
     ]
    },
    {
     "name": "stderr",
     "output_type": "stream",
     "text": [
      " 98%|█████████▊| 980/1000 [02:32<00:01, 12.24it/s]"
     ]
    },
    {
     "name": "stdout",
     "output_type": "stream",
     "text": [
      "Step: 980 [D loss: 0.001802, acc.: 100.00%] [G loss: 7.877956]\n",
      "Step: 981 [D loss: 0.000489, acc.: 100.00%] [G loss: 7.792147]\n"
     ]
    },
    {
     "name": "stderr",
     "output_type": "stream",
     "text": [
      " 98%|█████████▊| 982/1000 [02:32<00:01, 12.43it/s]"
     ]
    },
    {
     "name": "stdout",
     "output_type": "stream",
     "text": [
      "Step: 982 [D loss: 0.002138, acc.: 100.00%] [G loss: 7.928662]\n",
      "Step: 983 [D loss: 0.001381, acc.: 100.00%] [G loss: 7.020361]\n"
     ]
    },
    {
     "name": "stderr",
     "output_type": "stream",
     "text": [
      " 98%|█████████▊| 984/1000 [02:33<00:01, 12.31it/s]"
     ]
    },
    {
     "name": "stdout",
     "output_type": "stream",
     "text": [
      "Step: 984 [D loss: 0.000293, acc.: 100.00%] [G loss: 7.684653]\n",
      "Step: 985 [D loss: 0.000450, acc.: 100.00%] [G loss: 8.058157]\n"
     ]
    },
    {
     "name": "stderr",
     "output_type": "stream",
     "text": [
      " 99%|█████████▊| 986/1000 [02:33<00:01, 12.35it/s]"
     ]
    },
    {
     "name": "stdout",
     "output_type": "stream",
     "text": [
      "Step: 986 [D loss: 0.000389, acc.: 100.00%] [G loss: 7.504199]\n",
      "Step: 987 [D loss: 0.000245, acc.: 100.00%] [G loss: 8.367934]\n"
     ]
    },
    {
     "name": "stderr",
     "output_type": "stream",
     "text": [
      " 99%|█████████▉| 988/1000 [02:33<00:00, 12.48it/s]"
     ]
    },
    {
     "name": "stdout",
     "output_type": "stream",
     "text": [
      "Step: 988 [D loss: 0.000572, acc.: 100.00%] [G loss: 6.504734]\n",
      "Step: 989 [D loss: 0.000190, acc.: 100.00%] [G loss: 8.022917]\n"
     ]
    },
    {
     "name": "stderr",
     "output_type": "stream",
     "text": [
      " 99%|█████████▉| 990/1000 [02:33<00:00, 12.46it/s]"
     ]
    },
    {
     "name": "stdout",
     "output_type": "stream",
     "text": [
      "Step: 990 [D loss: 0.000252, acc.: 100.00%] [G loss: 8.255725]\n",
      "Step: 991 [D loss: 0.000450, acc.: 100.00%] [G loss: 7.864726]\n"
     ]
    },
    {
     "name": "stderr",
     "output_type": "stream",
     "text": [
      " 99%|█████████▉| 992/1000 [02:33<00:00, 12.43it/s]"
     ]
    },
    {
     "name": "stdout",
     "output_type": "stream",
     "text": [
      "Step: 992 [D loss: 0.000320, acc.: 100.00%] [G loss: 7.463609]\n",
      "Step: 993 [D loss: 0.000153, acc.: 100.00%] [G loss: 7.366621]\n"
     ]
    },
    {
     "name": "stderr",
     "output_type": "stream",
     "text": [
      " 99%|█████████▉| 994/1000 [02:33<00:00, 12.47it/s]"
     ]
    },
    {
     "name": "stdout",
     "output_type": "stream",
     "text": [
      "Step: 994 [D loss: 0.000317, acc.: 100.00%] [G loss: 8.291740]\n",
      "Step: 995 [D loss: 0.005258, acc.: 100.00%] [G loss: 7.157884]\n"
     ]
    },
    {
     "name": "stderr",
     "output_type": "stream",
     "text": [
      "100%|█████████▉| 996/1000 [02:33<00:00, 12.50it/s]"
     ]
    },
    {
     "name": "stdout",
     "output_type": "stream",
     "text": [
      "Step: 996 [D loss: 0.000363, acc.: 100.00%] [G loss: 7.352524]\n",
      "Step: 997 [D loss: 0.000810, acc.: 100.00%] [G loss: 7.297140]\n"
     ]
    },
    {
     "name": "stderr",
     "output_type": "stream",
     "text": [
      "100%|█████████▉| 998/1000 [02:34<00:00, 12.60it/s]"
     ]
    },
    {
     "name": "stdout",
     "output_type": "stream",
     "text": [
      "Step: 998 [D loss: 0.000543, acc.: 100.00%] [G loss: 7.897549]\n",
      "Step: 999 [D loss: 0.000355, acc.: 100.00%] [G loss: 7.565127]\n"
     ]
    },
    {
     "name": "stderr",
     "output_type": "stream",
     "text": [
      "100%|██████████| 1000/1000 [02:34<00:00, 12.54it/s]\n"
     ]
    }
   ],
   "source": [
    "myModel.train(myData('bkdata'), batch_size=1)"
   ]
  },
  {
   "cell_type": "code",
   "execution_count": null,
   "metadata": {},
   "outputs": [],
   "source": []
  },
  {
   "cell_type": "code",
   "execution_count": null,
   "metadata": {},
   "outputs": [],
   "source": []
  },
  {
   "cell_type": "code",
   "execution_count": null,
   "metadata": {},
   "outputs": [],
   "source": [
    "tcga = pd.read_csv(bkdata_path, sep='\\t')\n",
    "tcga = tcga.sort_index()\n",
    "tcga.to_csv('../DATA/TCGA/TCGA_GDC_HTSeq_TPM.csv')"
   ]
  },
  {
   "cell_type": "code",
   "execution_count": null,
   "metadata": {},
   "outputs": [],
   "source": [
    "abis = pd.read_csv('../DATA/GSE107011/GSE107011_Processed_data_TPM.txt')\n",
    "epic = pd.read_csv('../DATA/EPIC/melanoma_counts.csv')"
   ]
  },
  {
   "cell_type": "code",
   "execution_count": null,
   "metadata": {},
   "outputs": [],
   "source": [
    "metabric = pd.read_csv('../DATA/METABRIC/data_expression_median.txt', sep='\\t', index_col=0)\n",
    "metabric.index.name = None\n",
    "metabric = metabric.iloc[:,1:]\n",
    "metabric = metabric.sort_index()\n",
    "metabric.to_csv('../DATA/METABRIC/METABRIC.csv')"
   ]
  },
  {
   "cell_type": "code",
   "execution_count": null,
   "metadata": {},
   "outputs": [],
   "source": [
    "sdy67_1 = pd.read_csv('../DATA/SDY67/SDY67_EXP13377_RNA_seq.703318.tsv', sep='\\t', index_col=0)\n",
    "sdy67_2 = pd.read_csv('../DATA/SDY67/SDY67_EXP14625_RNA_seq.703317.tsv', sep='\\t', index_col=0)\n",
    "sdy67_1.index.name = None\n",
    "sdy67_2.index.name = None\n",
    "sdy67 = sdy67_1.join(sdy67_2)\n",
    "sdy67 = sdy67.sort_index()\n",
    "sdy67_meta = pd.read_csv('../DATA/SDY67/SDY67-DR34_Subject_2_RNA_sequencing_result.txt', sep='\\t')\n",
    "sdy67_meta['SubjectID'] = [sub+'_'+str(time) for sub, time in zip(list(sdy67_meta['Subject Accession'].values),list(sdy67_meta['Study Time Collected'].values))]\n",
    "sdy67_id = sdy67_meta.reset_index().set_index('Expsample Accession').loc[sdy67.columns.values.tolist(),'SubjectID'].values.tolist()\n",
    "sdy67.columns = sdy67_id\n",
    "sdy67.to_csv('../DATA/SDY67/SDY67_477.csv')\n",
    "\n",
    "sdy67_label = pd.read_csv('../DATA/SDY67/SDY67_extracted_from_mmc7.csv', index_col=0)\n",
    "sdy67_label.index.name = None\n",
    "sdy67_label['Other'] = 0\n",
    "sdy67_label = sdy67_label.fillna(0)\n",
    "sdy67_label = sdy67_label.loc[sdy67.columns,]\n",
    "for i in range(len(sdy67_label)):\n",
    "    sumval = sum(sdy67_label.iloc[i,:])\n",
    "    if sumval >= 100:\n",
    "        sdy67_label.iloc[i,:] = sdy67_label.iloc[i,:]/sumval\n",
    "    else:\n",
    "        sdy67_label.iloc[i,5] = 100-sumval\n",
    "        sdy67_label.iloc[i,:] = sdy67_label.iloc[i,:]/100\n",
    "sdy67_label.to_csv('../DATA/SDY67/SDY67_477_label.csv')"
   ]
  },
  {
   "cell_type": "code",
   "execution_count": null,
   "metadata": {},
   "outputs": [],
   "source": [
    "# ABIS dataset need to load genes.tsv then match Ensembl id to gene id \n",
    "# EPIC dataset needs fixing\n",
    "abis = pd.read_csv('../DATA/GSE107011/GSE107011_Processed_data_TPM.txt', index_col=0) # EnsDb.Hsapiens.v79, aggregated signals from duplicate probes by max value"
   ]
  },
  {
   "cell_type": "code",
   "execution_count": null,
   "metadata": {},
   "outputs": [],
   "source": [
    "abis[abis.columns[abis.columns.to_series().str.contains('_PBMC')]]"
   ]
  },
  {
   "cell_type": "code",
   "execution_count": 353,
   "metadata": {},
   "outputs": [],
   "source": []
  },
  {
   "cell_type": "code",
   "execution_count": null,
   "metadata": {},
   "outputs": [],
   "source": []
  },
  {
   "cell_type": "code",
   "execution_count": null,
   "metadata": {},
   "outputs": [],
   "source": [
    "features = set(tcga.index.values.tolist()).intersection(set(metabric.index.values.tolist()))"
   ]
  },
  {
   "cell_type": "code",
   "execution_count": null,
   "metadata": {},
   "outputs": [],
   "source": [
    "features = list(features)"
   ]
  },
  {
   "cell_type": "code",
   "execution_count": null,
   "metadata": {},
   "outputs": [],
   "source": [
    "features"
   ]
  },
  {
   "cell_type": "code",
   "execution_count": null,
   "metadata": {},
   "outputs": [],
   "source": [
    "tcga.T.loc[:,features].head()"
   ]
  },
  {
   "cell_type": "code",
   "execution_count": null,
   "metadata": {},
   "outputs": [],
   "source": [
    "def FeatureList(paths: list) -> list:\n",
    "    features = None\n",
    "    for path in paths:\n",
    "        mydata = pd.read_csv(path, header=None)\n",
    "        if features == None:\n",
    "            features = set(mydata.index.values.tolist())\n",
    "        else:\n",
    "            features = features.intersection(set(mydata.index.values.tolist()))\n",
    "    features = list(features)\n",
    "    features.sort()\n",
    "    return features"
   ]
  },
  {
   "cell_type": "code",
   "execution_count": null,
   "metadata": {},
   "outputs": [],
   "source": [
    "class BulkDataset(torch.utils.data.Dataset):\n",
    "    \n",
    "    def __init__(self, csv_path, features):\n",
    "        self.bkdata = pd.read_csv(csv_path, index_col=0)\n",
    "        self.bkdata = self.bkdata.T.loc[:,features] # when not sorted, add \".sort_index(axis=1)\"\n",
    "    \n",
    "    def __len__(self):\n",
    "        return len(self.bkdata)\n",
    "    \n",
    "    def __getitem__(self, idx):\n",
    "        if torch.is_tensor(idx):\n",
    "            idx = idx.tolist()\n",
    "        return self.bkdata[idx,:]"
   ]
  },
  {
   "cell_type": "code",
   "execution_count": null,
   "metadata": {},
   "outputs": [],
   "source": [
    "def load_scdata(data_directories, cell_types):\n",
    "    # Read and merge 10X Genomics scRNA-seq data\n",
    "    scdata = None\n",
    "    for d, c in zip(tqdm(data_directories), cell_types):\n",
    "        x = sc.read_10x_mtx(d)\n",
    "        x.obs['celltype'] = [c]*len(x.obs.index)\n",
    "        # Change each observation (cell) name to celltype + barcode\n",
    "        x.obs.set_index(pd.Index([c+'_'+rn[:-2] for rn in x.obs.index]), inplace=True)\n",
    "        if scdata is not None:\n",
    "            scdata = ad.concat([scdata, x])\n",
    "        else:\n",
    "            scdata = x\n",
    "    # Filter out cells and genes\n",
    "    sc.pp.filter_cells(scdata, min_genes=200)\n",
    "    sc.pp.filter_genes(scdata, min_cells=1)\n",
    "    # Search for prefix \"MT-\" (mitochondrial genes) and make new column in variable annotations\n",
    "    # Search for prefix \"RPL/RPS\" for ribosomal genes and \"MRPL/MRPS\" for mitochondrial ribosomal genes\n",
    "    scdata.var['mito'] = scdata.var.index.str.match('^MT-')\n",
    "    scdata.var['ribo'] = scdata.var.index.str.startswith(('RPL','RPS'))\n",
    "    scdata.var['mribo'] = scdata.var.index.str.startswith(('MRPL','MRPS'))\n",
    "    # Calculate QC metrics as per McCarthy et al., 2017 (Scater)\n",
    "    sc.pp.calculate_qc_metrics(scdata, qc_vars=['mito','ribo', 'mribo'], inplace=True)\n",
    "    # Plot QC metrics\n",
    "    # sns.jointplot(x='total_counts', y='n_genes_by_counts', height=8, data=scdata.obs,\n",
    "    #     kind='scatter', hue='celltype')\n",
    "    # sns.jointplot(x='total_counts', y='pct_counts_mito', height=8, data=scdata.obs,\n",
    "    #     kind='scatter', hue='celltype')\n",
    "    # sns.jointplot(x='total_counts', y='pct_counts_ribo', height=8, data=scdata.obs,\n",
    "    #     kind='scatter', hue='celltype')\n",
    "    # sns.jointplot(x='total_counts', y='pct_counts_mribo', height=8, data=scdata.obs,\n",
    "    #     kind='scatter', hue='celltype')\n",
    "    # plt.show()\n",
    "    # Filter out cells with >5% of counts from mitochondria and mitoribosome\n",
    "    # scdata = scdata[scdata.obs.pct_counts_ribo > 30, :]\n",
    "    scdata = scdata[scdata.obs.pct_counts_mito < 5, :]\n",
    "    scdata = scdata[scdata.obs.pct_counts_mribo < 1, :]\n",
    "    return scdata"
   ]
  },
  {
   "cell_type": "code",
   "execution_count": null,
   "metadata": {},
   "outputs": [],
   "source": [
    "scdata = load_scdata(data_directories, cell_types)"
   ]
  },
  {
   "cell_type": "code",
   "execution_count": null,
   "metadata": {},
   "outputs": [],
   "source": [
    "len(features)"
   ]
  },
  {
   "cell_type": "code",
   "execution_count": null,
   "metadata": {},
   "outputs": [],
   "source": [
    "torch.Tensor(scdata[scdata.obs.celltype=='B_cell',scdata.var_names.isin(features)].to_df().sort_index(axis=1).to_numpy()).shape"
   ]
  },
  {
   "cell_type": "code",
   "execution_count": null,
   "metadata": {},
   "outputs": [],
   "source": [
    "scdata_list = []\n",
    "for c in tqdm(cell_types):\n",
    "    scdata_list.append(torch.Tensor(scdata[scdata.obs.celltype==c, scdata.var_names.isin(features)].to_df().sort_index(axis=1).to_numpy()))"
   ]
  },
  {
   "cell_type": "code",
   "execution_count": null,
   "metadata": {},
   "outputs": [],
   "source": [
    "tmp = torch.nn.Linear(5,10)\n",
    "tmp = tmp(torch.Tensor([1.,2.,3.,4.,5.]))\n",
    "dist = torch.distributions.multinomial.Multinomial(total_count=500, logits=tmp)\n",
    "tmp = dist.sample()"
   ]
  },
  {
   "cell_type": "code",
   "execution_count": null,
   "metadata": {},
   "outputs": [],
   "source": [
    "tmp"
   ]
  },
  {
   "cell_type": "code",
   "execution_count": null,
   "metadata": {},
   "outputs": [],
   "source": [
    "for i in tmp:\n",
    "    print(torch.multinomial(torch.Tensor([1]*700), int(i), replacement=False))"
   ]
  },
  {
   "cell_type": "code",
   "execution_count": null,
   "metadata": {},
   "outputs": [],
   "source": [
    "torch.distributions.multinomial.Multinomial(total_count=500, probs=torch.Tensor([[1,4,5,4,7,4],[5,3,4,5,6,2]])).sample()"
   ]
  },
  {
   "cell_type": "code",
   "execution_count": null,
   "metadata": {},
   "outputs": [],
   "source": []
  },
  {
   "cell_type": "code",
   "execution_count": null,
   "metadata": {},
   "outputs": [],
   "source": []
  },
  {
   "cell_type": "code",
   "execution_count": null,
   "metadata": {},
   "outputs": [],
   "source": []
  },
  {
   "cell_type": "code",
   "execution_count": null,
   "metadata": {},
   "outputs": [],
   "source": []
  },
  {
   "cell_type": "code",
   "execution_count": null,
   "metadata": {},
   "outputs": [],
   "source": []
  },
  {
   "cell_type": "raw",
   "metadata": {},
   "source": [
    "-------------------"
   ]
  },
  {
   "cell_type": "code",
   "execution_count": null,
   "metadata": {},
   "outputs": [],
   "source": [
    "import tensorflow as tf\n",
    "import tensorflow_probability as tfp\n",
    "import numpy as np\n",
    "import pandas as pd\n",
    "import seaborn as sns\n",
    "import os\n",
    "import tensorflow.keras.backend as K\n",
    "from tqdm import tqdm\n",
    "import matplotlib.pyplot as plt\n",
    "import anndata as ad\n",
    "import scanpy as sc\n",
    "from model import *\n",
    "from data import *"
   ]
  },
  {
   "cell_type": "code",
   "execution_count": null,
   "metadata": {},
   "outputs": [],
   "source": [
    "data_directories = [\"../DATA/b_cells_filtered_gene_bc_matrices/filtered_matrices_mex/hg19/\",\n",
    "                    \"../DATA/cd4_t_helper_filtered_gene_bc_matrices/filtered_matrices_mex/hg19/\",\n",
    "                    \"../DATA/cd14_monocytes_filtered_gene_bc_matrices/filtered_matrices_mex/hg19/\",\n",
    "                    \"../DATA/cd34_filtered_gene_bc_matrices/filtered_matrices_mex/hg19/\",\n",
    "                    \"../DATA/cd56_nk_filtered_gene_bc_matrices/filtered_matrices_mex/hg19/\",\n",
    "                    \"../DATA/cytotoxic_t_filtered_gene_bc_matrices/filtered_matrices_mex/hg19/\",\n",
    "                    \"../DATA/memory_t_filtered_gene_bc_matrices/filtered_matrices_mex/hg19/\",\n",
    "                    \"../DATA/naive_cytotoxic_filtered_gene_bc_matrices/filtered_matrices_mex/hg19/\",\n",
    "                    \"../DATA/naive_t_filtered_gene_bc_matrices/filtered_matrices_mex/hg19/\",\n",
    "                    \"../DATA/regulatory_t_filtered_gene_bc_matrices/filtered_matrices_mex/hg19/\"]\n",
    "cell_types = ['B_cell','CD4_helper','CD14','CD34','CD56_NK','CD8_cytotoxic','CD4_CD45RO_memory','CD8_CD45RA_naive','CD4_CD45RA_naive','CD4_CD25_regulatory']\n",
    "bkdata_path = '../DATA/TCGA/TCGA_GDC_HTSeq_Counts.txt'\n",
    "gene_list_path = '../DATA/Immune Gene Lists/genes.csv'"
   ]
  },
  {
   "cell_type": "code",
   "execution_count": null,
   "metadata": {},
   "outputs": [],
   "source": [
    "myData = DataPreprocess(data_directories, cell_types, bkdata_path, gene_list_path)"
   ]
  },
  {
   "cell_type": "code",
   "execution_count": null,
   "metadata": {},
   "outputs": [],
   "source": [
    "X = np.expand_dims(np.array(range(100)), axis=1).repeat(100, axis=1)"
   ]
  },
  {
   "cell_type": "code",
   "execution_count": null,
   "metadata": {},
   "outputs": [],
   "source": [
    "dns = tf.keras.layers.Dense(10, activation='relu', input_shape=(100,))\n",
    "x = dns(X)"
   ]
  },
  {
   "cell_type": "code",
   "execution_count": null,
   "metadata": {},
   "outputs": [],
   "source": [
    "x[1:3,:]"
   ]
  },
  {
   "cell_type": "code",
   "execution_count": null,
   "metadata": {},
   "outputs": [],
   "source": [
    "dml = tfp.layers.DistributionLambda(\n",
    "    make_distribution_fn=lambda t: tfp.distributions.DirichletMultinomial(\n",
    "        total_count=500, concentration=t),\n",
    "    convert_to_tensor_fn=lambda s: s.sample(1)\n",
    ")"
   ]
  },
  {
   "cell_type": "code",
   "execution_count": null,
   "metadata": {},
   "outputs": [],
   "source": [
    "y = dml(x[1,:])"
   ]
  },
  {
   "cell_type": "code",
   "execution_count": null,
   "metadata": {},
   "outputs": [],
   "source": [
    "y.sample(1)"
   ]
  },
  {
   "cell_type": "code",
   "execution_count": null,
   "metadata": {},
   "outputs": [],
   "source": [
    "scdata = myData('scdata')"
   ]
  },
  {
   "cell_type": "code",
   "execution_count": null,
   "metadata": {},
   "outputs": [],
   "source": [
    "tf.reshape(scdata[0], [9899,-1])"
   ]
  },
  {
   "cell_type": "code",
   "execution_count": null,
   "metadata": {},
   "outputs": [],
   "source": [
    "scdata0 = tf.data.Dataset.from_tensors(tf.reshape(scdata[0], [9899,-1]))"
   ]
  },
  {
   "cell_type": "code",
   "execution_count": null,
   "metadata": {},
   "outputs": [],
   "source": [
    "list(scdata0.shuffle(10000).take(500).as_numpy_iterator())[0].shape"
   ]
  },
  {
   "cell_type": "code",
   "execution_count": null,
   "metadata": {},
   "outputs": [],
   "source": [
    "tf.reshape(scdata[0], [9899,-1]).numpy()[list(tf.data.Dataset.range(9899).shuffle(10000).take(500).as_numpy_iterator()),:].shape"
   ]
  },
  {
   "cell_type": "code",
   "execution_count": null,
   "metadata": {},
   "outputs": [],
   "source": [
    "\n",
    "idxs = tf.range(tf.shape(inputs)[0])\n",
    "ridxs = tf.random.shuffle(idxs)[:sample_num]\n",
    "rinput = tf.gather(inputs, ridxs)"
   ]
  },
  {
   "cell_type": "code",
   "execution_count": null,
   "metadata": {},
   "outputs": [],
   "source": [
    "model = tf.keras.Sequential()\n",
    "model.add(tf.keras.layers.Dense(10, activation='relu', input_shape=(100,)))\n",
    "model.add(tfp.layers.DistributionLambda(\n",
    "    make_distribution_fn=lambda a: tfp.distributions.DirichletMultinomial(\n",
    "        total_count=500, concentration=a)))"
   ]
  }
 ],
 "metadata": {
  "kernelspec": {
   "display_name": "Python 3",
   "language": "python",
   "name": "python3"
  },
  "language_info": {
   "codemirror_mode": {
    "name": "ipython",
    "version": 3
   },
   "file_extension": ".py",
   "mimetype": "text/x-python",
   "name": "python",
   "nbconvert_exporter": "python",
   "pygments_lexer": "ipython3",
   "version": "3.7.3"
  }
 },
 "nbformat": 4,
 "nbformat_minor": 4
}
